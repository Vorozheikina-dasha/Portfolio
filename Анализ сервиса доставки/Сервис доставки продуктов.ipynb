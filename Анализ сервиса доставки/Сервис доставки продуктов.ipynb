{
 "cells": [
  {
   "cell_type": "markdown",
   "id": "46fbc2ca",
   "metadata": {},
   "source": [
    "# Маркетинговый анализ пользователей сервиса по доставке продуктов"
   ]
  },
  {
   "cell_type": "markdown",
   "id": "a6f8d5ab",
   "metadata": {
    "toc": true
   },
   "source": [
    "<h1>Оглавление<span class=\"tocSkip\"></span></h1>\n",
    "<div class=\"toc\"><ul class=\"toc-item\"><li><span><a href=\"#Описание-исследования\" data-toc-modified-id=\"Описание-исследования-1\"><span class=\"toc-item-num\">1&nbsp;&nbsp;</span>Описание исследования</a></span></li><li><span><a href=\"#Загрузка-данных\" data-toc-modified-id=\"Загрузка-данных-2\"><span class=\"toc-item-num\">2&nbsp;&nbsp;</span>Загрузка данных</a></span></li><li><span><a href=\"#Предобработка-данных\" data-toc-modified-id=\"Предобработка-данных-3\"><span class=\"toc-item-num\">3&nbsp;&nbsp;</span>Предобработка данных</a></span><ul class=\"toc-item\"><li><span><a href=\"#Столбцы\" data-toc-modified-id=\"Столбцы-3.1\"><span class=\"toc-item-num\">3.1&nbsp;&nbsp;</span>Столбцы</a></span></li><li><span><a href=\"#Пропуски\" data-toc-modified-id=\"Пропуски-3.2\"><span class=\"toc-item-num\">3.2&nbsp;&nbsp;</span>Пропуски</a></span></li><li><span><a href=\"#Тип-данных\" data-toc-modified-id=\"Тип-данных-3.3\"><span class=\"toc-item-num\">3.3&nbsp;&nbsp;</span>Тип данных</a></span></li><li><span><a href=\"#Дубликаты\" data-toc-modified-id=\"Дубликаты-3.4\"><span class=\"toc-item-num\">3.4&nbsp;&nbsp;</span>Дубликаты</a></span></li></ul></li><li><span><a href=\"#Исследовательский-анализ\" data-toc-modified-id=\"Исследовательский-анализ-4\"><span class=\"toc-item-num\">4&nbsp;&nbsp;</span>Исследовательский анализ</a></span><ul class=\"toc-item\"><li><span><a href=\"#Анализ-RR-по-месяцам\" data-toc-modified-id=\"Анализ-RR-по-месяцам-4.1\"><span class=\"toc-item-num\">4.1&nbsp;&nbsp;</span>Анализ RR по месяцам</a></span></li><li><span><a href=\"#Выделение-сегментов\" data-toc-modified-id=\"Выделение-сегментов-4.2\"><span class=\"toc-item-num\">4.2&nbsp;&nbsp;</span>Выделение сегментов</a></span></li><li><span><a href=\"#Анализ-стоимости-заказа\" data-toc-modified-id=\"Анализ-стоимости-заказа-4.3\"><span class=\"toc-item-num\">4.3&nbsp;&nbsp;</span>Анализ стоимости заказа</a></span><ul class=\"toc-item\"><li><span><a href=\"#Анализ-распределения-стоимостей-заказов-по-категориям\" data-toc-modified-id=\"Анализ-распределения-стоимостей-заказов-по-категориям-4.3.1\"><span class=\"toc-item-num\">4.3.1&nbsp;&nbsp;</span>Анализ распределения стоимостей заказов по категориям</a></span></li><li><span><a href=\"#Анализ-удержания-пользователей-по-категориям-стоимостей-заказов\" data-toc-modified-id=\"Анализ-удержания-пользователей-по-категориям-стоимостей-заказов-4.3.2\"><span class=\"toc-item-num\">4.3.2&nbsp;&nbsp;</span>Анализ удержания пользователей по категориям стоимостей заказов</a></span></li></ul></li></ul></li><li><span><a href=\"#Общий-вывод-и-рекомендации\" data-toc-modified-id=\"Общий-вывод-и-рекомендации-5\"><span class=\"toc-item-num\">5&nbsp;&nbsp;</span>Общий вывод и рекомендации</a></span></li></ul></div>"
   ]
  },
  {
   "cell_type": "markdown",
   "id": "1a242091",
   "metadata": {},
   "source": [
    "## Описание исследования"
   ]
  },
  {
   "cell_type": "markdown",
   "id": "fa999d4e",
   "metadata": {},
   "source": [
    "Есть база данных пользователей сервиса доставки продуктов из магазина за 2021 год. База состоит из данных с общей информацией по заказам и клиентам сервиса: время, сумма заказов, тип оплаты и др.\n",
    "\n",
    "**Цель** — сформировать рекомендации по привлечению и удержанию пользователей.\n",
    "\n",
    "**Задачи:**\n",
    "- Проанализировать RR по ключевым месяцам (март, май, июль)\n",
    "- Сегментировать пользователей\n",
    "- Выделить основной сегмент и дополнительные\n",
    "\n",
    "Ход работы:\n",
    "- Загрузка данных\n",
    "- Предобработка данных\n",
    "- Исследовательский анализ\n",
    "- Общий вывод и рекомендации\n"
   ]
  },
  {
   "cell_type": "markdown",
   "id": "06a4989a",
   "metadata": {},
   "source": [
    "## Загрузка данных"
   ]
  },
  {
   "cell_type": "code",
   "execution_count": 1,
   "id": "790a75d1",
   "metadata": {},
   "outputs": [],
   "source": [
    "#Импортируем нужные библиотеки\n",
    "import pandas as pd\n",
    "import numpy as np\n",
    "import datetime\n",
    "from datetime import datetime, timedelta, time\n",
    "import matplotlib.pyplot as plt\n",
    "import seaborn as sns\n",
    "import warnings \n",
    "warnings.filterwarnings('ignore')"
   ]
  },
  {
   "cell_type": "code",
   "execution_count": 2,
   "id": "606aa9e1",
   "metadata": {},
   "outputs": [],
   "source": [
    "#Загружаем датасет1\n",
    "orders_21 = pd.read_csv('/Users/dasha/Downloads/Заказы21.csv')"
   ]
  },
  {
   "cell_type": "code",
   "execution_count": 3,
   "id": "16fd0ce4",
   "metadata": {},
   "outputs": [
    {
     "name": "stdout",
     "output_type": "stream",
     "text": [
      "<class 'pandas.core.frame.DataFrame'>\n",
      "RangeIndex: 133432 entries, 0 to 133431\n",
      "Data columns (total 28 columns):\n",
      " #   Column                                      Non-Null Count   Dtype  \n",
      "---  ------                                      --------------   -----  \n",
      " 0   Номер \n",
      "заказа                               133432 non-null  int64  \n",
      " 1   Филиал                                      133432 non-null  object \n",
      " 2   Платформа                                   133432 non-null  object \n",
      " 3   Оценка заказа                               133432 non-null  int64  \n",
      " 4   Статус                                      133432 non-null  object \n",
      " 5   Дата \n",
      "создания \n",
      "заказа                      133432 non-null  object \n",
      " 6   Время \n",
      "создания \n",
      "заказа                     133432 non-null  object \n",
      " 7   Время \n",
      "приема \n",
      "заказа                       133403 non-null  object \n",
      " 8   Тип доставки                                133426 non-null  object \n",
      " 9   Указаное \n",
      "дата \n",
      "доставки                    133432 non-null  object \n",
      " 10  Указаное \n",
      "время \n",
      "доставки                   133432 non-null  object \n",
      " 11  Фактическое \n",
      "время \n",
      "доставки                133371 non-null  object \n",
      " 12  Опоздание                                   133371 non-null  float64\n",
      " 13  Статус \n",
      "оплаты                              133432 non-null  object \n",
      " 14  Метод \n",
      "оплаты                               133432 non-null  object \n",
      " 15  Тип карты                                   62078 non-null   object \n",
      " 16  Стоимость товаров\n",
      "после формирование, сумы  133432 non-null  int64  \n",
      " 17  Сумма \n",
      "по чеку. сумы                        133432 non-null  float64\n",
      " 18  Минимальная \n",
      "сумма \n",
      "доставки, сумы          133432 non-null  int64  \n",
      " 19  Оплата через\n",
      "систему\n",
      "Stripe ($)             133432 non-null  object \n",
      " 20  Оплата через\n",
      "систему\n",
      "Octo (sum)             133432 non-null  object \n",
      " 21  Всего\n",
      "оплачено\n",
      "с картой                     133432 non-null  object \n",
      " 22  Время \n",
      "загрузки чека                        129597 non-null  object \n",
      " 23  Id Сборщика                                 132433 non-null  float64\n",
      " 24  ID Доставщика                               133423 non-null  float64\n",
      " 25  Номер \n",
      "клиента                              133432 non-null  int64  \n",
      " 26  Район \n",
      "доставки                             126868 non-null  object \n",
      " 27  Номер \n",
      "адреса доставки                      133432 non-null  object \n",
      "dtypes: float64(4), int64(5), object(19)\n",
      "memory usage: 28.5+ MB\n"
     ]
    },
    {
     "data": {
      "text/html": [
       "<div>\n",
       "<style scoped>\n",
       "    .dataframe tbody tr th:only-of-type {\n",
       "        vertical-align: middle;\n",
       "    }\n",
       "\n",
       "    .dataframe tbody tr th {\n",
       "        vertical-align: top;\n",
       "    }\n",
       "\n",
       "    .dataframe thead th {\n",
       "        text-align: right;\n",
       "    }\n",
       "</style>\n",
       "<table border=\"1\" class=\"dataframe\">\n",
       "  <thead>\n",
       "    <tr style=\"text-align: right;\">\n",
       "      <th></th>\n",
       "      <th>Номер \\nзаказа</th>\n",
       "      <th>Филиал</th>\n",
       "      <th>Платформа</th>\n",
       "      <th>Оценка заказа</th>\n",
       "      <th>Статус</th>\n",
       "      <th>Дата \\nсоздания \\nзаказа</th>\n",
       "      <th>Время \\nсоздания \\nзаказа</th>\n",
       "      <th>Время \\nприема \\nзаказа</th>\n",
       "      <th>Тип доставки</th>\n",
       "      <th>Указаное \\nдата \\nдоставки</th>\n",
       "      <th>...</th>\n",
       "      <th>Минимальная \\nсумма \\nдоставки, сумы</th>\n",
       "      <th>Оплата через\\nсистему\\nStripe ($)</th>\n",
       "      <th>Оплата через\\nсистему\\nOcto (sum)</th>\n",
       "      <th>Всего\\nоплачено\\nс картой</th>\n",
       "      <th>Время \\nзагрузки чека</th>\n",
       "      <th>Id Сборщика</th>\n",
       "      <th>ID Доставщика</th>\n",
       "      <th>Номер \\nклиента</th>\n",
       "      <th>Район \\nдоставки</th>\n",
       "      <th>Номер \\nадреса доставки</th>\n",
       "    </tr>\n",
       "  </thead>\n",
       "  <tbody>\n",
       "    <tr>\n",
       "      <th>0</th>\n",
       "      <td>471057</td>\n",
       "      <td>Юнусобод</td>\n",
       "      <td>iOS</td>\n",
       "      <td>0</td>\n",
       "      <td>Доставлено</td>\n",
       "      <td>26-12-2020</td>\n",
       "      <td>18:51</td>\n",
       "      <td>08:45</td>\n",
       "      <td>По расписанию</td>\n",
       "      <td>30-01-2021</td>\n",
       "      <td>...</td>\n",
       "      <td>15000</td>\n",
       "      <td>0</td>\n",
       "      <td>624020</td>\n",
       "      <td>624020</td>\n",
       "      <td>30-01-2021 15:14</td>\n",
       "      <td>1.0</td>\n",
       "      <td>1.0</td>\n",
       "      <td>48429363056</td>\n",
       "      <td>Шайхантахурский район</td>\n",
       "      <td>3995964031191</td>\n",
       "    </tr>\n",
       "    <tr>\n",
       "      <th>1</th>\n",
       "      <td>472573</td>\n",
       "      <td>Сергели</td>\n",
       "      <td>Win32</td>\n",
       "      <td>0</td>\n",
       "      <td>Доставлено</td>\n",
       "      <td>29-12-2020</td>\n",
       "      <td>15:13</td>\n",
       "      <td>08:14</td>\n",
       "      <td>По расписанию</td>\n",
       "      <td>04-01-2021</td>\n",
       "      <td>...</td>\n",
       "      <td>15000</td>\n",
       "      <td>0</td>\n",
       "      <td>0</td>\n",
       "      <td>0</td>\n",
       "      <td>04-01-2021 10:01</td>\n",
       "      <td>2.0</td>\n",
       "      <td>2.0</td>\n",
       "      <td>2996136003341</td>\n",
       "      <td>Сергелийский район</td>\n",
       "      <td>3994850040891</td>\n",
       "    </tr>\n",
       "    <tr>\n",
       "      <th>2</th>\n",
       "      <td>473587</td>\n",
       "      <td>Файзабад</td>\n",
       "      <td>Android</td>\n",
       "      <td>5</td>\n",
       "      <td>Доставлено</td>\n",
       "      <td>30-12-2020</td>\n",
       "      <td>22:42</td>\n",
       "      <td>08:46</td>\n",
       "      <td>По расписанию</td>\n",
       "      <td>03-01-2021</td>\n",
       "      <td>...</td>\n",
       "      <td>15000</td>\n",
       "      <td>0</td>\n",
       "      <td>350431</td>\n",
       "      <td>350431</td>\n",
       "      <td>03-01-2021 09:38</td>\n",
       "      <td>3.0</td>\n",
       "      <td>3.0</td>\n",
       "      <td>40424143817</td>\n",
       "      <td>Яшнабадский район</td>\n",
       "      <td>3995916514455</td>\n",
       "    </tr>\n",
       "  </tbody>\n",
       "</table>\n",
       "<p>3 rows × 28 columns</p>\n",
       "</div>"
      ],
      "text/plain": [
       "   Номер \\nзаказа    Филиал Платформа  Оценка заказа      Статус  \\\n",
       "0          471057  Юнусобод       iOS              0  Доставлено   \n",
       "1          472573   Сергели     Win32              0  Доставлено   \n",
       "2          473587  Файзабад   Android              5  Доставлено   \n",
       "\n",
       "  Дата \\nсоздания \\nзаказа  Время \\nсоздания \\nзаказа Время \\nприема \\nзаказа  \\\n",
       "0                26-12-2020                     18:51                   08:45   \n",
       "1                29-12-2020                     15:13                   08:14   \n",
       "2                30-12-2020                     22:42                   08:46   \n",
       "\n",
       "    Тип доставки Указаное \\nдата \\nдоставки  ...  \\\n",
       "0  По расписанию                 30-01-2021  ...   \n",
       "1  По расписанию                 04-01-2021  ...   \n",
       "2  По расписанию                 03-01-2021  ...   \n",
       "\n",
       "  Минимальная \\nсумма \\nдоставки, сумы Оплата через\\nсистему\\nStripe ($)  \\\n",
       "0                                15000                                 0   \n",
       "1                                15000                                 0   \n",
       "2                                15000                                 0   \n",
       "\n",
       "   Оплата через\\nсистему\\nOcto (sum) Всего\\nоплачено\\nс картой  \\\n",
       "0                             624020                    624020   \n",
       "1                                  0                         0   \n",
       "2                             350431                    350431   \n",
       "\n",
       "  Время \\nзагрузки чека Id Сборщика  ID Доставщика  Номер \\nклиента  \\\n",
       "0      30-01-2021 15:14         1.0            1.0      48429363056   \n",
       "1      04-01-2021 10:01         2.0            2.0    2996136003341   \n",
       "2      03-01-2021 09:38         3.0            3.0      40424143817   \n",
       "\n",
       "        Район \\nдоставки Номер \\nадреса доставки  \n",
       "0  Шайхантахурский район           3995964031191  \n",
       "1     Сергелийский район           3994850040891  \n",
       "2      Яшнабадский район           3995916514455  \n",
       "\n",
       "[3 rows x 28 columns]"
      ]
     },
     "execution_count": 3,
     "metadata": {},
     "output_type": "execute_result"
    }
   ],
   "source": [
    "orders_21.info()\n",
    "orders_21.head(3)"
   ]
  },
  {
   "cell_type": "markdown",
   "id": "13692e57",
   "metadata": {},
   "source": [
    "В данных 28 столбцов и 133432. В некоторых столбцах есть пропуски. Типы данных: float64(3), int64(5), object(20)."
   ]
  },
  {
   "cell_type": "markdown",
   "id": "dfcaa4f9",
   "metadata": {},
   "source": [
    "## Предобработка данных"
   ]
  },
  {
   "cell_type": "markdown",
   "id": "834f9652",
   "metadata": {},
   "source": [
    "### Столбцы"
   ]
  },
  {
   "cell_type": "markdown",
   "id": "ceb96ba3",
   "metadata": {},
   "source": [
    "Для удобства приведем названия столбцов к змеиному регистру."
   ]
  },
  {
   "cell_type": "code",
   "execution_count": 4,
   "id": "b477b760",
   "metadata": {},
   "outputs": [
    {
     "data": {
      "text/plain": [
       "['Номер \\nзаказа',\n",
       " 'Филиал',\n",
       " 'Платформа',\n",
       " 'Оценка заказа',\n",
       " 'Статус',\n",
       " 'Дата \\nсоздания \\nзаказа ',\n",
       " 'Время \\nсоздания \\nзаказа',\n",
       " 'Время \\nприема \\nзаказа',\n",
       " 'Тип доставки',\n",
       " 'Указаное \\nдата \\nдоставки',\n",
       " 'Указаное \\nвремя \\nдоставки',\n",
       " 'Фактическое \\nвремя \\nдоставки',\n",
       " 'Опоздание',\n",
       " 'Статус \\nоплаты',\n",
       " 'Метод \\nоплаты',\n",
       " 'Тип карты',\n",
       " 'Стоимость товаров\\nпосле формирование, сумы',\n",
       " 'Сумма \\nпо чеку. сумы',\n",
       " 'Минимальная \\nсумма \\nдоставки, сумы',\n",
       " 'Оплата через\\nсистему\\nStripe ($)',\n",
       " 'Оплата через\\nсистему\\nOcto (sum)',\n",
       " 'Всего\\nоплачено\\nс картой',\n",
       " 'Время \\nзагрузки чека',\n",
       " 'Id Сборщика',\n",
       " 'ID Доставщика',\n",
       " 'Номер \\nклиента',\n",
       " 'Район \\nдоставки',\n",
       " 'Номер \\nадреса доставки']"
      ]
     },
     "execution_count": 4,
     "metadata": {},
     "output_type": "execute_result"
    }
   ],
   "source": [
    "orders_21.columns.tolist()"
   ]
  },
  {
   "cell_type": "code",
   "execution_count": 5,
   "id": "79a2dc9a",
   "metadata": {},
   "outputs": [
    {
     "data": {
      "text/html": [
       "<div>\n",
       "<style scoped>\n",
       "    .dataframe tbody tr th:only-of-type {\n",
       "        vertical-align: middle;\n",
       "    }\n",
       "\n",
       "    .dataframe tbody tr th {\n",
       "        vertical-align: top;\n",
       "    }\n",
       "\n",
       "    .dataframe thead th {\n",
       "        text-align: right;\n",
       "    }\n",
       "</style>\n",
       "<table border=\"1\" class=\"dataframe\">\n",
       "  <thead>\n",
       "    <tr style=\"text-align: right;\">\n",
       "      <th></th>\n",
       "      <th>order_number</th>\n",
       "      <th>filial</th>\n",
       "      <th>platform</th>\n",
       "      <th>order_score</th>\n",
       "      <th>status</th>\n",
       "      <th>dt_create_order</th>\n",
       "      <th>tm_create_order</th>\n",
       "      <th>tm_accept_order</th>\n",
       "      <th>delivery_type</th>\n",
       "      <th>dt_delivery_suitable</th>\n",
       "      <th>...</th>\n",
       "      <th>min_price_delivery_sums</th>\n",
       "      <th>payment_stripe_dl</th>\n",
       "      <th>payment_octo_sums</th>\n",
       "      <th>total_payment_card</th>\n",
       "      <th>dt_receipt</th>\n",
       "      <th>id_collector</th>\n",
       "      <th>id_deliveryman</th>\n",
       "      <th>id_client</th>\n",
       "      <th>district</th>\n",
       "      <th>id_district</th>\n",
       "    </tr>\n",
       "  </thead>\n",
       "  <tbody>\n",
       "    <tr>\n",
       "      <th>0</th>\n",
       "      <td>471057</td>\n",
       "      <td>Юнусобод</td>\n",
       "      <td>iOS</td>\n",
       "      <td>0</td>\n",
       "      <td>Доставлено</td>\n",
       "      <td>26-12-2020</td>\n",
       "      <td>18:51</td>\n",
       "      <td>08:45</td>\n",
       "      <td>По расписанию</td>\n",
       "      <td>30-01-2021</td>\n",
       "      <td>...</td>\n",
       "      <td>15000</td>\n",
       "      <td>0</td>\n",
       "      <td>624020</td>\n",
       "      <td>624020</td>\n",
       "      <td>30-01-2021 15:14</td>\n",
       "      <td>1.0</td>\n",
       "      <td>1.0</td>\n",
       "      <td>48429363056</td>\n",
       "      <td>Шайхантахурский район</td>\n",
       "      <td>3995964031191</td>\n",
       "    </tr>\n",
       "    <tr>\n",
       "      <th>1</th>\n",
       "      <td>472573</td>\n",
       "      <td>Сергели</td>\n",
       "      <td>Win32</td>\n",
       "      <td>0</td>\n",
       "      <td>Доставлено</td>\n",
       "      <td>29-12-2020</td>\n",
       "      <td>15:13</td>\n",
       "      <td>08:14</td>\n",
       "      <td>По расписанию</td>\n",
       "      <td>04-01-2021</td>\n",
       "      <td>...</td>\n",
       "      <td>15000</td>\n",
       "      <td>0</td>\n",
       "      <td>0</td>\n",
       "      <td>0</td>\n",
       "      <td>04-01-2021 10:01</td>\n",
       "      <td>2.0</td>\n",
       "      <td>2.0</td>\n",
       "      <td>2996136003341</td>\n",
       "      <td>Сергелийский район</td>\n",
       "      <td>3994850040891</td>\n",
       "    </tr>\n",
       "    <tr>\n",
       "      <th>2</th>\n",
       "      <td>473587</td>\n",
       "      <td>Файзабад</td>\n",
       "      <td>Android</td>\n",
       "      <td>5</td>\n",
       "      <td>Доставлено</td>\n",
       "      <td>30-12-2020</td>\n",
       "      <td>22:42</td>\n",
       "      <td>08:46</td>\n",
       "      <td>По расписанию</td>\n",
       "      <td>03-01-2021</td>\n",
       "      <td>...</td>\n",
       "      <td>15000</td>\n",
       "      <td>0</td>\n",
       "      <td>350431</td>\n",
       "      <td>350431</td>\n",
       "      <td>03-01-2021 09:38</td>\n",
       "      <td>3.0</td>\n",
       "      <td>3.0</td>\n",
       "      <td>40424143817</td>\n",
       "      <td>Яшнабадский район</td>\n",
       "      <td>3995916514455</td>\n",
       "    </tr>\n",
       "    <tr>\n",
       "      <th>3</th>\n",
       "      <td>473792</td>\n",
       "      <td>Сергели</td>\n",
       "      <td>iOS</td>\n",
       "      <td>5</td>\n",
       "      <td>Доставлено</td>\n",
       "      <td>31-12-2020</td>\n",
       "      <td>11:29</td>\n",
       "      <td>08:11</td>\n",
       "      <td>По расписанию</td>\n",
       "      <td>05-01-2021</td>\n",
       "      <td>...</td>\n",
       "      <td>15000</td>\n",
       "      <td>0</td>\n",
       "      <td>635596</td>\n",
       "      <td>635596</td>\n",
       "      <td>05-01-2021 12:46</td>\n",
       "      <td>4.0</td>\n",
       "      <td>2.0</td>\n",
       "      <td>57756661892</td>\n",
       "      <td>Сергелийский район</td>\n",
       "      <td>77008882519</td>\n",
       "    </tr>\n",
       "    <tr>\n",
       "      <th>4</th>\n",
       "      <td>473798</td>\n",
       "      <td>Shedevr</td>\n",
       "      <td>Android</td>\n",
       "      <td>0</td>\n",
       "      <td>Доставлено</td>\n",
       "      <td>31-12-2020</td>\n",
       "      <td>11:44</td>\n",
       "      <td>09:59</td>\n",
       "      <td>По расписанию</td>\n",
       "      <td>02-01-2021</td>\n",
       "      <td>...</td>\n",
       "      <td>15000</td>\n",
       "      <td>0</td>\n",
       "      <td>0</td>\n",
       "      <td>146020</td>\n",
       "      <td>02-01-2021 11:46</td>\n",
       "      <td>5.0</td>\n",
       "      <td>3.0</td>\n",
       "      <td>2996727962468</td>\n",
       "      <td>Юнусабадский район</td>\n",
       "      <td>3995637283287</td>\n",
       "    </tr>\n",
       "  </tbody>\n",
       "</table>\n",
       "<p>5 rows × 28 columns</p>\n",
       "</div>"
      ],
      "text/plain": [
       "   order_number    filial platform  order_score      status dt_create_order  \\\n",
       "0        471057  Юнусобод      iOS            0  Доставлено      26-12-2020   \n",
       "1        472573   Сергели    Win32            0  Доставлено      29-12-2020   \n",
       "2        473587  Файзабад  Android            5  Доставлено      30-12-2020   \n",
       "3        473792   Сергели      iOS            5  Доставлено      31-12-2020   \n",
       "4        473798   Shedevr  Android            0  Доставлено      31-12-2020   \n",
       "\n",
       "  tm_create_order tm_accept_order  delivery_type dt_delivery_suitable  ...  \\\n",
       "0           18:51           08:45  По расписанию           30-01-2021  ...   \n",
       "1           15:13           08:14  По расписанию           04-01-2021  ...   \n",
       "2           22:42           08:46  По расписанию           03-01-2021  ...   \n",
       "3           11:29           08:11  По расписанию           05-01-2021  ...   \n",
       "4           11:44           09:59  По расписанию           02-01-2021  ...   \n",
       "\n",
       "  min_price_delivery_sums payment_stripe_dl  payment_octo_sums  \\\n",
       "0                   15000                 0             624020   \n",
       "1                   15000                 0                  0   \n",
       "2                   15000                 0             350431   \n",
       "3                   15000                 0             635596   \n",
       "4                   15000                 0                  0   \n",
       "\n",
       "  total_payment_card        dt_receipt id_collector  id_deliveryman  \\\n",
       "0             624020  30-01-2021 15:14          1.0             1.0   \n",
       "1                  0  04-01-2021 10:01          2.0             2.0   \n",
       "2             350431  03-01-2021 09:38          3.0             3.0   \n",
       "3             635596  05-01-2021 12:46          4.0             2.0   \n",
       "4             146020  02-01-2021 11:46          5.0             3.0   \n",
       "\n",
       "       id_client               district    id_district  \n",
       "0    48429363056  Шайхантахурский район  3995964031191  \n",
       "1  2996136003341     Сергелийский район  3994850040891  \n",
       "2    40424143817      Яшнабадский район  3995916514455  \n",
       "3    57756661892     Сергелийский район    77008882519  \n",
       "4  2996727962468     Юнусабадский район  3995637283287  \n",
       "\n",
       "[5 rows x 28 columns]"
      ]
     },
     "execution_count": 5,
     "metadata": {},
     "output_type": "execute_result"
    }
   ],
   "source": [
    "orders_21 = orders_21.rename(\n",
    "    columns={'Номер \\nзаказа': 'order_number',\n",
    "            'Филиал': 'filial',\n",
    "            'Платформа': 'platform',\n",
    "            'Оценка заказа': 'order_score',\n",
    "            'Статус': 'status',\n",
    "            'Дата \\nсоздания \\nзаказа ': 'dt_create_order',\n",
    "            'Время \\nсоздания \\nзаказа': 'tm_create_order',\n",
    "            'Время \\nприема \\nзаказа': 'tm_accept_order',\n",
    "            'Тип доставки': 'delivery_type',\n",
    "            'Указаное \\nдата \\nдоставки': 'dt_delivery_suitable',\n",
    "            'Указаное \\nвремя \\nдоставки': 'tm_delivery_suitable',\n",
    "            'Фактическое \\nвремя \\nдоставки': 'tm_fact_delivery', \n",
    "            'Опоздание': 'delay',\n",
    "            'Статус \\nоплаты': 'payment_status',\n",
    "            'Метод \\nоплаты': 'payment_type',\n",
    "            'Тип карты': 'card_type',\n",
    "            'Стоимость товаров\\nпосле формирование, сумы': 'total_price_sums',\n",
    "            'Сумма \\nпо чеку. сумы': 'total_price_receipt_sums',\n",
    "            'Минимальная \\nсумма \\nдоставки, сумы': 'min_price_delivery_sums',\n",
    "            'Оплата через\\nсистему\\nStripe ($)': 'payment_stripe_dl',\n",
    "            'Оплата через\\nсистему\\nOcto (sum)': 'payment_octo_sums',\n",
    "            'Всего\\nоплачено\\nс картой': 'total_payment_card',\n",
    "            'Время \\nзагрузки чека': 'dt_receipt',\n",
    "            'Id Сборщика': 'id_collector',\n",
    "            'ID Доставщика': 'id_deliveryman',\n",
    "            'Номер \\nклиента': 'id_client',\n",
    "            'Район \\nдоставки': 'district',\n",
    "            'Номер \\nадреса доставки': 'id_district'}\n",
    ")\n",
    "orders_21.head(5)\n"
   ]
  },
  {
   "cell_type": "code",
   "execution_count": 6,
   "id": "3b5a66f2",
   "metadata": {},
   "outputs": [
    {
     "name": "stdout",
     "output_type": "stream",
     "text": [
      "<class 'pandas.core.frame.DataFrame'>\n",
      "RangeIndex: 133432 entries, 0 to 133431\n",
      "Data columns (total 28 columns):\n",
      " #   Column                    Non-Null Count   Dtype  \n",
      "---  ------                    --------------   -----  \n",
      " 0   order_number              133432 non-null  int64  \n",
      " 1   filial                    133432 non-null  object \n",
      " 2   platform                  133432 non-null  object \n",
      " 3   order_score               133432 non-null  int64  \n",
      " 4   status                    133432 non-null  object \n",
      " 5   dt_create_order           133432 non-null  object \n",
      " 6   tm_create_order           133432 non-null  object \n",
      " 7   tm_accept_order           133403 non-null  object \n",
      " 8   delivery_type             133426 non-null  object \n",
      " 9   dt_delivery_suitable      133432 non-null  object \n",
      " 10  tm_delivery_suitable      133432 non-null  object \n",
      " 11  tm_fact_delivery          133371 non-null  object \n",
      " 12  delay                     133371 non-null  float64\n",
      " 13  payment_status            133432 non-null  object \n",
      " 14  payment_type              133432 non-null  object \n",
      " 15  card_type                 62078 non-null   object \n",
      " 16  total_price_sums          133432 non-null  int64  \n",
      " 17  total_price_receipt_sums  133432 non-null  float64\n",
      " 18  min_price_delivery_sums   133432 non-null  int64  \n",
      " 19  payment_stripe_dl         133432 non-null  object \n",
      " 20  payment_octo_sums         133432 non-null  object \n",
      " 21  total_payment_card        133432 non-null  object \n",
      " 22  dt_receipt                129597 non-null  object \n",
      " 23  id_collector              132433 non-null  float64\n",
      " 24  id_deliveryman            133423 non-null  float64\n",
      " 25  id_client                 133432 non-null  int64  \n",
      " 26  district                  126868 non-null  object \n",
      " 27  id_district               133432 non-null  object \n",
      "dtypes: float64(4), int64(5), object(19)\n",
      "memory usage: 28.5+ MB\n"
     ]
    }
   ],
   "source": [
    "orders_21.info()"
   ]
  },
  {
   "cell_type": "markdown",
   "id": "137a5ad7",
   "metadata": {},
   "source": [
    "### Пропуски"
   ]
  },
  {
   "cell_type": "code",
   "execution_count": 7,
   "id": "b235325e",
   "metadata": {},
   "outputs": [
    {
     "data": {
      "text/html": [
       "<div>\n",
       "<style scoped>\n",
       "    .dataframe tbody tr th:only-of-type {\n",
       "        vertical-align: middle;\n",
       "    }\n",
       "\n",
       "    .dataframe tbody tr th {\n",
       "        vertical-align: top;\n",
       "    }\n",
       "\n",
       "    .dataframe thead th {\n",
       "        text-align: right;\n",
       "    }\n",
       "</style>\n",
       "<table border=\"1\" class=\"dataframe\">\n",
       "  <thead>\n",
       "    <tr style=\"text-align: right;\">\n",
       "      <th></th>\n",
       "      <th>0</th>\n",
       "    </tr>\n",
       "  </thead>\n",
       "  <tbody>\n",
       "    <tr>\n",
       "      <th>order_number</th>\n",
       "      <td>0.0</td>\n",
       "    </tr>\n",
       "    <tr>\n",
       "      <th>filial</th>\n",
       "      <td>0.0</td>\n",
       "    </tr>\n",
       "    <tr>\n",
       "      <th>platform</th>\n",
       "      <td>0.0</td>\n",
       "    </tr>\n",
       "    <tr>\n",
       "      <th>order_score</th>\n",
       "      <td>0.0</td>\n",
       "    </tr>\n",
       "    <tr>\n",
       "      <th>status</th>\n",
       "      <td>0.0</td>\n",
       "    </tr>\n",
       "    <tr>\n",
       "      <th>dt_create_order</th>\n",
       "      <td>0.0</td>\n",
       "    </tr>\n",
       "    <tr>\n",
       "      <th>tm_create_order</th>\n",
       "      <td>0.0</td>\n",
       "    </tr>\n",
       "    <tr>\n",
       "      <th>tm_accept_order</th>\n",
       "      <td>0.0</td>\n",
       "    </tr>\n",
       "    <tr>\n",
       "      <th>delivery_type</th>\n",
       "      <td>0.0</td>\n",
       "    </tr>\n",
       "    <tr>\n",
       "      <th>dt_delivery_suitable</th>\n",
       "      <td>0.0</td>\n",
       "    </tr>\n",
       "    <tr>\n",
       "      <th>tm_delivery_suitable</th>\n",
       "      <td>0.0</td>\n",
       "    </tr>\n",
       "    <tr>\n",
       "      <th>tm_fact_delivery</th>\n",
       "      <td>0.0</td>\n",
       "    </tr>\n",
       "    <tr>\n",
       "      <th>delay</th>\n",
       "      <td>0.0</td>\n",
       "    </tr>\n",
       "    <tr>\n",
       "      <th>payment_status</th>\n",
       "      <td>0.0</td>\n",
       "    </tr>\n",
       "    <tr>\n",
       "      <th>payment_type</th>\n",
       "      <td>0.0</td>\n",
       "    </tr>\n",
       "    <tr>\n",
       "      <th>card_type</th>\n",
       "      <td>53.0</td>\n",
       "    </tr>\n",
       "    <tr>\n",
       "      <th>total_price_sums</th>\n",
       "      <td>0.0</td>\n",
       "    </tr>\n",
       "    <tr>\n",
       "      <th>total_price_receipt_sums</th>\n",
       "      <td>0.0</td>\n",
       "    </tr>\n",
       "    <tr>\n",
       "      <th>min_price_delivery_sums</th>\n",
       "      <td>0.0</td>\n",
       "    </tr>\n",
       "    <tr>\n",
       "      <th>payment_stripe_dl</th>\n",
       "      <td>0.0</td>\n",
       "    </tr>\n",
       "    <tr>\n",
       "      <th>payment_octo_sums</th>\n",
       "      <td>0.0</td>\n",
       "    </tr>\n",
       "    <tr>\n",
       "      <th>total_payment_card</th>\n",
       "      <td>0.0</td>\n",
       "    </tr>\n",
       "    <tr>\n",
       "      <th>dt_receipt</th>\n",
       "      <td>3.0</td>\n",
       "    </tr>\n",
       "    <tr>\n",
       "      <th>id_collector</th>\n",
       "      <td>1.0</td>\n",
       "    </tr>\n",
       "    <tr>\n",
       "      <th>id_deliveryman</th>\n",
       "      <td>0.0</td>\n",
       "    </tr>\n",
       "    <tr>\n",
       "      <th>id_client</th>\n",
       "      <td>0.0</td>\n",
       "    </tr>\n",
       "    <tr>\n",
       "      <th>district</th>\n",
       "      <td>5.0</td>\n",
       "    </tr>\n",
       "    <tr>\n",
       "      <th>id_district</th>\n",
       "      <td>0.0</td>\n",
       "    </tr>\n",
       "  </tbody>\n",
       "</table>\n",
       "</div>"
      ],
      "text/plain": [
       "                             0\n",
       "order_number               0.0\n",
       "filial                     0.0\n",
       "platform                   0.0\n",
       "order_score                0.0\n",
       "status                     0.0\n",
       "dt_create_order            0.0\n",
       "tm_create_order            0.0\n",
       "tm_accept_order            0.0\n",
       "delivery_type              0.0\n",
       "dt_delivery_suitable       0.0\n",
       "tm_delivery_suitable       0.0\n",
       "tm_fact_delivery           0.0\n",
       "delay                      0.0\n",
       "payment_status             0.0\n",
       "payment_type               0.0\n",
       "card_type                 53.0\n",
       "total_price_sums           0.0\n",
       "total_price_receipt_sums   0.0\n",
       "min_price_delivery_sums    0.0\n",
       "payment_stripe_dl          0.0\n",
       "payment_octo_sums          0.0\n",
       "total_payment_card         0.0\n",
       "dt_receipt                 3.0\n",
       "id_collector               1.0\n",
       "id_deliveryman             0.0\n",
       "id_client                  0.0\n",
       "district                   5.0\n",
       "id_district                0.0"
      ]
     },
     "execution_count": 7,
     "metadata": {},
     "output_type": "execute_result"
    }
   ],
   "source": [
    "#Посмотрим в каких столбцах больше всего пропусков данных\n",
    "pd.DataFrame(round(orders_21.isna().mean()*100,))"
   ]
  },
  {
   "cell_type": "code",
   "execution_count": 8,
   "id": "ca2e0aa7",
   "metadata": {},
   "outputs": [
    {
     "data": {
      "text/plain": [
       "array(['Visa', nan, 'Uzcard', 'MasterCard', 'HumoCard'], dtype=object)"
      ]
     },
     "execution_count": 8,
     "metadata": {},
     "output_type": "execute_result"
    }
   ],
   "source": [
    "#Проверим какие значения в столбце с типом карты\n",
    "orders_21['card_type'].unique()"
   ]
  },
  {
   "cell_type": "markdown",
   "id": "af2b7cc3",
   "metadata": {},
   "source": [
    "Более 50% пропусков в столбце с картами. Возможно пользователи оплачивали наличными при получении заказа."
   ]
  },
  {
   "cell_type": "code",
   "execution_count": 9,
   "id": "3225fe25",
   "metadata": {},
   "outputs": [],
   "source": [
    "#Заменим нули на Nan\n",
    "def find_0(column):\n",
    "    orders_21.loc[orders_21[column] == 0, [column]] = float('nan')"
   ]
  },
  {
   "cell_type": "code",
   "execution_count": 10,
   "id": "122c648a",
   "metadata": {},
   "outputs": [],
   "source": [
    "find_0('order_score') "
   ]
  },
  {
   "cell_type": "code",
   "execution_count": 11,
   "id": "1e106022",
   "metadata": {},
   "outputs": [],
   "source": [
    "find_0('total_price_sums') "
   ]
  },
  {
   "cell_type": "code",
   "execution_count": 12,
   "id": "a081af53",
   "metadata": {},
   "outputs": [],
   "source": [
    "find_0('total_price_receipt_sums')"
   ]
  },
  {
   "cell_type": "code",
   "execution_count": 13,
   "id": "ccb5e5ee",
   "metadata": {},
   "outputs": [],
   "source": [
    "find_0('min_price_delivery_sums')"
   ]
  },
  {
   "cell_type": "code",
   "execution_count": 14,
   "id": "225c77f8",
   "metadata": {},
   "outputs": [],
   "source": [
    "find_0('payment_stripe_dl')"
   ]
  },
  {
   "cell_type": "code",
   "execution_count": 15,
   "id": "0a4fa24b",
   "metadata": {},
   "outputs": [],
   "source": [
    "find_0('payment_stripe_dl')"
   ]
  },
  {
   "cell_type": "code",
   "execution_count": 16,
   "id": "ce0ad407",
   "metadata": {},
   "outputs": [],
   "source": [
    "find_0('payment_octo_sums')"
   ]
  },
  {
   "cell_type": "code",
   "execution_count": 17,
   "id": "2c8153e4",
   "metadata": {},
   "outputs": [],
   "source": [
    "find_0('total_payment_card')"
   ]
  },
  {
   "cell_type": "code",
   "execution_count": 18,
   "id": "c8e09982",
   "metadata": {},
   "outputs": [],
   "source": [
    "find_0('id_collector')"
   ]
  },
  {
   "cell_type": "code",
   "execution_count": 19,
   "id": "f4a417fd",
   "metadata": {},
   "outputs": [],
   "source": [
    "find_0('id_deliveryman')"
   ]
  },
  {
   "cell_type": "code",
   "execution_count": 20,
   "id": "d5aaadf8",
   "metadata": {},
   "outputs": [],
   "source": [
    "find_0('id_client')"
   ]
  },
  {
   "cell_type": "code",
   "execution_count": 21,
   "id": "8999ecfb",
   "metadata": {},
   "outputs": [],
   "source": [
    "find_0('id_district')"
   ]
  },
  {
   "cell_type": "code",
   "execution_count": 22,
   "id": "2a9e4312",
   "metadata": {},
   "outputs": [
    {
     "data": {
      "text/html": [
       "<div>\n",
       "<style scoped>\n",
       "    .dataframe tbody tr th:only-of-type {\n",
       "        vertical-align: middle;\n",
       "    }\n",
       "\n",
       "    .dataframe tbody tr th {\n",
       "        vertical-align: top;\n",
       "    }\n",
       "\n",
       "    .dataframe thead th {\n",
       "        text-align: right;\n",
       "    }\n",
       "</style>\n",
       "<table border=\"1\" class=\"dataframe\">\n",
       "  <thead>\n",
       "    <tr style=\"text-align: right;\">\n",
       "      <th></th>\n",
       "      <th>0</th>\n",
       "    </tr>\n",
       "  </thead>\n",
       "  <tbody>\n",
       "    <tr>\n",
       "      <th>order_score</th>\n",
       "      <td>77.0</td>\n",
       "    </tr>\n",
       "    <tr>\n",
       "      <th>payment_stripe_dl</th>\n",
       "      <td>75.0</td>\n",
       "    </tr>\n",
       "    <tr>\n",
       "      <th>card_type</th>\n",
       "      <td>53.0</td>\n",
       "    </tr>\n",
       "    <tr>\n",
       "      <th>payment_octo_sums</th>\n",
       "      <td>45.0</td>\n",
       "    </tr>\n",
       "    <tr>\n",
       "      <th>total_payment_card</th>\n",
       "      <td>13.0</td>\n",
       "    </tr>\n",
       "    <tr>\n",
       "      <th>min_price_delivery_sums</th>\n",
       "      <td>6.0</td>\n",
       "    </tr>\n",
       "    <tr>\n",
       "      <th>district</th>\n",
       "      <td>5.0</td>\n",
       "    </tr>\n",
       "    <tr>\n",
       "      <th>dt_receipt</th>\n",
       "      <td>3.0</td>\n",
       "    </tr>\n",
       "    <tr>\n",
       "      <th>id_collector</th>\n",
       "      <td>1.0</td>\n",
       "    </tr>\n",
       "    <tr>\n",
       "      <th>order_number</th>\n",
       "      <td>0.0</td>\n",
       "    </tr>\n",
       "    <tr>\n",
       "      <th>id_client</th>\n",
       "      <td>0.0</td>\n",
       "    </tr>\n",
       "    <tr>\n",
       "      <th>id_deliveryman</th>\n",
       "      <td>0.0</td>\n",
       "    </tr>\n",
       "    <tr>\n",
       "      <th>total_price_receipt_sums</th>\n",
       "      <td>0.0</td>\n",
       "    </tr>\n",
       "    <tr>\n",
       "      <th>total_price_sums</th>\n",
       "      <td>0.0</td>\n",
       "    </tr>\n",
       "    <tr>\n",
       "      <th>payment_type</th>\n",
       "      <td>0.0</td>\n",
       "    </tr>\n",
       "    <tr>\n",
       "      <th>filial</th>\n",
       "      <td>0.0</td>\n",
       "    </tr>\n",
       "    <tr>\n",
       "      <th>payment_status</th>\n",
       "      <td>0.0</td>\n",
       "    </tr>\n",
       "    <tr>\n",
       "      <th>delay</th>\n",
       "      <td>0.0</td>\n",
       "    </tr>\n",
       "    <tr>\n",
       "      <th>tm_fact_delivery</th>\n",
       "      <td>0.0</td>\n",
       "    </tr>\n",
       "    <tr>\n",
       "      <th>tm_delivery_suitable</th>\n",
       "      <td>0.0</td>\n",
       "    </tr>\n",
       "    <tr>\n",
       "      <th>dt_delivery_suitable</th>\n",
       "      <td>0.0</td>\n",
       "    </tr>\n",
       "    <tr>\n",
       "      <th>delivery_type</th>\n",
       "      <td>0.0</td>\n",
       "    </tr>\n",
       "    <tr>\n",
       "      <th>tm_accept_order</th>\n",
       "      <td>0.0</td>\n",
       "    </tr>\n",
       "    <tr>\n",
       "      <th>tm_create_order</th>\n",
       "      <td>0.0</td>\n",
       "    </tr>\n",
       "    <tr>\n",
       "      <th>dt_create_order</th>\n",
       "      <td>0.0</td>\n",
       "    </tr>\n",
       "    <tr>\n",
       "      <th>status</th>\n",
       "      <td>0.0</td>\n",
       "    </tr>\n",
       "    <tr>\n",
       "      <th>platform</th>\n",
       "      <td>0.0</td>\n",
       "    </tr>\n",
       "    <tr>\n",
       "      <th>id_district</th>\n",
       "      <td>0.0</td>\n",
       "    </tr>\n",
       "  </tbody>\n",
       "</table>\n",
       "</div>"
      ],
      "text/plain": [
       "                             0\n",
       "order_score               77.0\n",
       "payment_stripe_dl         75.0\n",
       "card_type                 53.0\n",
       "payment_octo_sums         45.0\n",
       "total_payment_card        13.0\n",
       "min_price_delivery_sums    6.0\n",
       "district                   5.0\n",
       "dt_receipt                 3.0\n",
       "id_collector               1.0\n",
       "order_number               0.0\n",
       "id_client                  0.0\n",
       "id_deliveryman             0.0\n",
       "total_price_receipt_sums   0.0\n",
       "total_price_sums           0.0\n",
       "payment_type               0.0\n",
       "filial                     0.0\n",
       "payment_status             0.0\n",
       "delay                      0.0\n",
       "tm_fact_delivery           0.0\n",
       "tm_delivery_suitable       0.0\n",
       "dt_delivery_suitable       0.0\n",
       "delivery_type              0.0\n",
       "tm_accept_order            0.0\n",
       "tm_create_order            0.0\n",
       "dt_create_order            0.0\n",
       "status                     0.0\n",
       "platform                   0.0\n",
       "id_district                0.0"
      ]
     },
     "execution_count": 22,
     "metadata": {},
     "output_type": "execute_result"
    }
   ],
   "source": [
    "#Посмотрим в каких столбцах больше всего пропусков данных теперь\n",
    "pd.DataFrame(round(orders_21.isna().mean()*100,)).sort_values(by=0, ascending=False)"
   ]
  },
  {
   "cell_type": "markdown",
   "id": "551bc197",
   "metadata": {},
   "source": [
    "<div class=\"alert alert-warning\">\n",
    "    <b>⚠️ Важно:</b>\n",
    "    \n",
    "Больше всего пропусков в столбце в оценками заказа — 77%. По какой-то причине пользователи не ставят оценки: им не нравится доставка/заказ или они не знают как это сделать? Есть вероятнось, что здесь играет человеческий фактор. В любом случае вопрос для дальнейшего глубокого анализа.\n",
    "</div>"
   ]
  },
  {
   "cell_type": "markdown",
   "id": "088f8d13",
   "metadata": {},
   "source": [
    "Удалим пропуски в столбцах, которые имеют не более 5%. Они не критичны для дальнейшей работы."
   ]
  },
  {
   "cell_type": "code",
   "execution_count": 23,
   "id": "59837d06",
   "metadata": {},
   "outputs": [],
   "source": [
    "orders_21 = orders_21.dropna(subset=['district', \n",
    "                                     'dt_receipt', \n",
    "                                     'id_collector', \n",
    "                                     'id_deliveryman',\n",
    "                                     'tm_accept_order',\n",
    "                                     'delivery_type',\n",
    "                                     'id_district']).reset_index(drop=True)"
   ]
  },
  {
   "cell_type": "code",
   "execution_count": 24,
   "id": "77f67363",
   "metadata": {},
   "outputs": [],
   "source": [
    "#Вернем нули, чтобы при рассчетах Nan не мешал нам\n",
    "orders_21[['order_score', \n",
    "           'district', \n",
    "           'dt_receipt', \n",
    "           'id_collector', \n",
    "           'payment_stripe_dl', \n",
    "           'payment_octo_sums', \n",
    "           'min_price_delivery_sums',\n",
    "           'total_payment_card',\n",
    "           'total_price_sums']] = orders_21[['order_score', \n",
    "                                                    'district', \n",
    "                                                    'dt_receipt', \n",
    "                                                    'id_collector', \n",
    "                                                    'payment_stripe_dl', \n",
    "                                                    'payment_octo_sums', \n",
    "                                                    'min_price_delivery_sums',\n",
    "                                                    'total_payment_card',\n",
    "                                                    'total_price_sums']].fillna(0)"
   ]
  },
  {
   "cell_type": "code",
   "execution_count": 25,
   "id": "f410e05b",
   "metadata": {},
   "outputs": [
    {
     "name": "stdout",
     "output_type": "stream",
     "text": [
      "<class 'pandas.core.frame.DataFrame'>\n",
      "RangeIndex: 122335 entries, 0 to 122334\n",
      "Data columns (total 28 columns):\n",
      " #   Column                    Non-Null Count   Dtype  \n",
      "---  ------                    --------------   -----  \n",
      " 0   order_number              122335 non-null  int64  \n",
      " 1   filial                    122335 non-null  object \n",
      " 2   platform                  122335 non-null  object \n",
      " 3   order_score               122335 non-null  float64\n",
      " 4   status                    122335 non-null  object \n",
      " 5   dt_create_order           122335 non-null  object \n",
      " 6   tm_create_order           122335 non-null  object \n",
      " 7   tm_accept_order           122335 non-null  object \n",
      " 8   delivery_type             122335 non-null  object \n",
      " 9   dt_delivery_suitable      122335 non-null  object \n",
      " 10  tm_delivery_suitable      122335 non-null  object \n",
      " 11  tm_fact_delivery          122295 non-null  object \n",
      " 12  delay                     122295 non-null  float64\n",
      " 13  payment_status            122335 non-null  object \n",
      " 14  payment_type              122335 non-null  object \n",
      " 15  card_type                 57139 non-null   object \n",
      " 16  total_price_sums          122335 non-null  float64\n",
      " 17  total_price_receipt_sums  122319 non-null  float64\n",
      " 18  min_price_delivery_sums   122335 non-null  float64\n",
      " 19  payment_stripe_dl         122335 non-null  object \n",
      " 20  payment_octo_sums         122335 non-null  object \n",
      " 21  total_payment_card        122335 non-null  object \n",
      " 22  dt_receipt                122335 non-null  object \n",
      " 23  id_collector              122335 non-null  float64\n",
      " 24  id_deliveryman            122335 non-null  float64\n",
      " 25  id_client                 122335 non-null  float64\n",
      " 26  district                  122335 non-null  object \n",
      " 27  id_district               122335 non-null  object \n",
      "dtypes: float64(8), int64(1), object(19)\n",
      "memory usage: 26.1+ MB\n"
     ]
    }
   ],
   "source": [
    "orders_21.info()"
   ]
  },
  {
   "cell_type": "markdown",
   "id": "5a501826",
   "metadata": {},
   "source": [
    "### Тип данных"
   ]
  },
  {
   "cell_type": "markdown",
   "id": "198095f1",
   "metadata": {},
   "source": [
    "В датасете есть столбцы, у которых нужно изменить тип данных на datetime."
   ]
  },
  {
   "cell_type": "code",
   "execution_count": 26,
   "id": "47012147",
   "metadata": {},
   "outputs": [],
   "source": [
    "#Даты\n",
    "orders_21['dt_create_order'] = pd.to_datetime(orders_21['dt_create_order'], format='%d-%m-%Y')\n",
    "orders_21['dt_delivery_suitable'] = pd.to_datetime(orders_21['dt_delivery_suitable'], format='%d-%m-%Y')\n",
    "orders_21['dt_receipt'] = pd.to_datetime(orders_21['dt_receipt'], format='%d-%m-%Y %H:%M')\n",
    "\n",
    "#Время\n",
    "orders_21['tm_create_order'] = pd.to_datetime(orders_21['tm_create_order'], format='%H:%M')\n",
    "orders_21['tm_accept_order'] = pd.to_datetime(orders_21['tm_accept_order'], format='%H:%M')\n",
    "orders_21['tm_accept_order'] = pd.to_datetime(orders_21['tm_accept_order'], format='%H:%M')\n",
    "orders_21['tm_delivery_suitable'] = pd.to_datetime(orders_21['tm_delivery_suitable'], format='%H:%M')\n",
    "orders_21['tm_fact_delivery'] = pd.to_datetime(orders_21['tm_fact_delivery'], format='%H:%M')\n",
    "\n"
   ]
  },
  {
   "cell_type": "code",
   "execution_count": 27,
   "id": "bf2a631e",
   "metadata": {},
   "outputs": [],
   "source": [
    "#Строковые значения переведем в числовые\n",
    "orders_21['order_score'] = orders_21['order_score'].astype('int')\n",
    "\n",
    "orders_21['min_price_delivery_sums'] = orders_21['min_price_delivery_sums'].astype('int')\n",
    "orders_21['payment_stripe_dl'] = pd.to_numeric(orders_21['payment_stripe_dl'], errors='coerce')\n",
    "orders_21['payment_octo_sums'] = pd.to_numeric(orders_21['payment_octo_sums'], errors='coerce')\n",
    "orders_21['total_payment_card'] = pd.to_numeric(orders_21['total_payment_card'], errors='coerce')\n",
    "orders_21['id_collector'] = orders_21['id_collector'].astype('int')\n",
    "orders_21['id_deliveryman'] = orders_21['id_deliveryman'].astype('int')\n",
    "orders_21['id_client'] = orders_21['id_client'].astype('int')\n",
    "orders_21['id_district'] = pd.to_numeric(orders_21['id_district'], errors='coerce')\n",
    "\n"
   ]
  },
  {
   "cell_type": "code",
   "execution_count": 28,
   "id": "8a529cde",
   "metadata": {},
   "outputs": [
    {
     "name": "stdout",
     "output_type": "stream",
     "text": [
      "<class 'pandas.core.frame.DataFrame'>\n",
      "RangeIndex: 122335 entries, 0 to 122334\n",
      "Data columns (total 28 columns):\n",
      " #   Column                    Non-Null Count   Dtype         \n",
      "---  ------                    --------------   -----         \n",
      " 0   order_number              122335 non-null  int64         \n",
      " 1   filial                    122335 non-null  object        \n",
      " 2   platform                  122335 non-null  object        \n",
      " 3   order_score               122335 non-null  int64         \n",
      " 4   status                    122335 non-null  object        \n",
      " 5   dt_create_order           122335 non-null  datetime64[ns]\n",
      " 6   tm_create_order           122335 non-null  datetime64[ns]\n",
      " 7   tm_accept_order           122335 non-null  datetime64[ns]\n",
      " 8   delivery_type             122335 non-null  object        \n",
      " 9   dt_delivery_suitable      122335 non-null  datetime64[ns]\n",
      " 10  tm_delivery_suitable      122335 non-null  datetime64[ns]\n",
      " 11  tm_fact_delivery          122295 non-null  datetime64[ns]\n",
      " 12  delay                     122295 non-null  float64       \n",
      " 13  payment_status            122335 non-null  object        \n",
      " 14  payment_type              122335 non-null  object        \n",
      " 15  card_type                 57139 non-null   object        \n",
      " 16  total_price_sums          122335 non-null  float64       \n",
      " 17  total_price_receipt_sums  122319 non-null  float64       \n",
      " 18  min_price_delivery_sums   122335 non-null  int64         \n",
      " 19  payment_stripe_dl         122315 non-null  float64       \n",
      " 20  payment_octo_sums         119476 non-null  float64       \n",
      " 21  total_payment_card        119456 non-null  float64       \n",
      " 22  dt_receipt                122335 non-null  datetime64[ns]\n",
      " 23  id_collector              122335 non-null  int64         \n",
      " 24  id_deliveryman            122335 non-null  int64         \n",
      " 25  id_client                 122335 non-null  int64         \n",
      " 26  district                  122335 non-null  object        \n",
      " 27  id_district               121318 non-null  float64       \n",
      "dtypes: datetime64[ns](7), float64(7), int64(6), object(8)\n",
      "memory usage: 26.1+ MB\n"
     ]
    }
   ],
   "source": [
    "orders_21.info()"
   ]
  },
  {
   "cell_type": "markdown",
   "id": "5ceb647d",
   "metadata": {},
   "source": [
    "### Дубликаты"
   ]
  },
  {
   "cell_type": "code",
   "execution_count": 29,
   "id": "8efacd4e",
   "metadata": {},
   "outputs": [
    {
     "data": {
      "text/plain": [
       "0"
      ]
     },
     "execution_count": 29,
     "metadata": {},
     "output_type": "execute_result"
    }
   ],
   "source": [
    "orders_21.duplicated().sum()"
   ]
  },
  {
   "cell_type": "markdown",
   "id": "3a517e7e",
   "metadata": {},
   "source": [
    "Явных дубликатов нет."
   ]
  },
  {
   "cell_type": "code",
   "execution_count": 30,
   "id": "d4ad33e2",
   "metadata": {},
   "outputs": [
    {
     "data": {
      "text/plain": [
       "array(['Юнусобод', 'Сергели', 'Файзабад', 'Shedevr', 'Салом', 'Караташ',\n",
       "       'Бунёдкор', 'Сарыкулька', 'Чиланзар', 'Авиасозлар', 'Buxoro',\n",
       "       'Беруний', 'Samarqand', 'INTEGRO', 'Kohinur', 'Шедевр', 'Чирчик'],\n",
       "      dtype=object)"
      ]
     },
     "execution_count": 30,
     "metadata": {},
     "output_type": "execute_result"
    }
   ],
   "source": [
    "#Проверка неявных дубликатов\n",
    "orders_21['filial'].unique()"
   ]
  },
  {
   "cell_type": "markdown",
   "id": "2e2f4f19",
   "metadata": {},
   "source": [
    "Есть два филиала записанные кириллицей и латиницей — неявные дубликаты. Объеденим их."
   ]
  },
  {
   "cell_type": "code",
   "execution_count": 31,
   "id": "d2f2b2cc",
   "metadata": {},
   "outputs": [
    {
     "data": {
      "text/plain": [
       "array(['Юнусобод', 'Сергели', 'Файзабад', 'Шедевр', 'Салом', 'Караташ',\n",
       "       'Бунёдкор', 'Сарыкулька', 'Чиланзар', 'Авиасозлар', 'Buxoro',\n",
       "       'Беруний', 'Samarqand', 'INTEGRO', 'Kohinur', 'Чирчик'],\n",
       "      dtype=object)"
      ]
     },
     "execution_count": 31,
     "metadata": {},
     "output_type": "execute_result"
    }
   ],
   "source": [
    "orders_21['filial'] = orders_21['filial'].replace('Shedevr', 'Шедевр')\n",
    "orders_21['filial'].unique()"
   ]
  },
  {
   "cell_type": "code",
   "execution_count": 32,
   "id": "18664ad0",
   "metadata": {},
   "outputs": [
    {
     "data": {
      "text/plain": [
       "array(['iOS', 'Win32', 'Android', 'MacIntel', 'Linux armv8l',\n",
       "       'Linux armv7l', 'iPhone', 'Linux aarch64', 'iPad', 'Linux x86_64'],\n",
       "      dtype=object)"
      ]
     },
     "execution_count": 32,
     "metadata": {},
     "output_type": "execute_result"
    }
   ],
   "source": [
    "orders_21['platform'].unique()"
   ]
  },
  {
   "cell_type": "code",
   "execution_count": 33,
   "id": "7fd8f611",
   "metadata": {},
   "outputs": [
    {
     "data": {
      "text/plain": [
       "array(['Доставлено'], dtype=object)"
      ]
     },
     "execution_count": 33,
     "metadata": {},
     "output_type": "execute_result"
    }
   ],
   "source": [
    "orders_21['status'].unique()"
   ]
  },
  {
   "cell_type": "code",
   "execution_count": 34,
   "id": "9065f13c",
   "metadata": {},
   "outputs": [
    {
     "data": {
      "text/plain": [
       "array(['По расписанию', 'Срочная'], dtype=object)"
      ]
     },
     "execution_count": 34,
     "metadata": {},
     "output_type": "execute_result"
    }
   ],
   "source": [
    "orders_21['delivery_type'].unique()"
   ]
  },
  {
   "cell_type": "code",
   "execution_count": 35,
   "id": "95d85586",
   "metadata": {},
   "outputs": [
    {
     "data": {
      "text/plain": [
       "array(['Онлайн карта', 'Наличными', 'Онлайн карта + Баллы', 'Баллами'],\n",
       "      dtype=object)"
      ]
     },
     "execution_count": 35,
     "metadata": {},
     "output_type": "execute_result"
    }
   ],
   "source": [
    "orders_21['payment_type'].unique()"
   ]
  },
  {
   "cell_type": "code",
   "execution_count": 36,
   "id": "dc6bc333",
   "metadata": {},
   "outputs": [
    {
     "data": {
      "text/plain": [
       "array(['Visa', nan, 'Uzcard', 'MasterCard', 'HumoCard'], dtype=object)"
      ]
     },
     "execution_count": 36,
     "metadata": {},
     "output_type": "execute_result"
    }
   ],
   "source": [
    "orders_21['card_type'].unique()"
   ]
  },
  {
   "cell_type": "code",
   "execution_count": 37,
   "id": "0a2e58da",
   "metadata": {},
   "outputs": [
    {
     "data": {
      "text/plain": [
       "array(['Шайхантахурский район', 'Сергелийский район', 'Яшнабадский район',\n",
       "       'Юнусабадский район', 'Мирзо-Улугбекский район',\n",
       "       'Чиланзарский район', 'Алмазарский район', 'Мирабадский район',\n",
       "       'Учтепинский район', 'Яккасарайский район', 'Бектемирский район',\n",
       "       ' Бухара', 'Бухара', 'Самарканд ', 'Чирчикский район'],\n",
       "      dtype=object)"
      ]
     },
     "execution_count": 37,
     "metadata": {},
     "output_type": "execute_result"
    }
   ],
   "source": [
    "orders_21['district'].unique()"
   ]
  },
  {
   "cell_type": "markdown",
   "id": "48125f0f",
   "metadata": {},
   "source": [
    "Бухара повторяется дважды."
   ]
  },
  {
   "cell_type": "code",
   "execution_count": 38,
   "id": "251ca965",
   "metadata": {},
   "outputs": [
    {
     "data": {
      "text/plain": [
       "array(['Шайхантахурский район', 'Сергелийский район', 'Яшнабадский район',\n",
       "       'Юнусабадский район', 'Мирзо-Улугбекский район',\n",
       "       'Чиланзарский район', 'Алмазарский район', 'Мирабадский район',\n",
       "       'Учтепинский район', 'Яккасарайский район', 'Бектемирский район',\n",
       "       'Бухара', 'Самарканд ', 'Чирчикский район'], dtype=object)"
      ]
     },
     "execution_count": 38,
     "metadata": {},
     "output_type": "execute_result"
    }
   ],
   "source": [
    "orders_21['district'] = orders_21['district'].replace(' Бухара', 'Бухара')\n",
    "orders_21['district'].unique()"
   ]
  },
  {
   "cell_type": "markdown",
   "id": "add76895",
   "metadata": {},
   "source": [
    "Данные подготовлены к анализу: почищены пропуски, изменены типы данных, проверены дубликаты."
   ]
  },
  {
   "cell_type": "markdown",
   "id": "e005a6ed",
   "metadata": {},
   "source": [
    "## Исследовательский анализ"
   ]
  },
  {
   "cell_type": "code",
   "execution_count": 39,
   "id": "b62fb570",
   "metadata": {},
   "outputs": [
    {
     "data": {
      "text/plain": [
       "Timestamp('2020-12-26 00:00:00')"
      ]
     },
     "execution_count": 39,
     "metadata": {},
     "output_type": "execute_result"
    }
   ],
   "source": [
    "#Сначала посмотрим даты начала и окончания бора данных\n",
    "orders_21['dt_create_order'].min()"
   ]
  },
  {
   "cell_type": "code",
   "execution_count": 40,
   "id": "33ee6f4a",
   "metadata": {},
   "outputs": [
    {
     "data": {
      "text/plain": [
       "Timestamp('2021-12-31 00:00:00')"
      ]
     },
     "execution_count": 40,
     "metadata": {},
     "output_type": "execute_result"
    }
   ],
   "source": [
    "orders_21['dt_create_order'].max()"
   ]
  },
  {
   "cell_type": "markdown",
   "id": "beb9b0fa",
   "metadata": {},
   "source": [
    "В данных есть заказы за 2020 год, уберем их, так как нам нужны заказы за 2021 год."
   ]
  },
  {
   "cell_type": "code",
   "execution_count": 41,
   "id": "d3248be3",
   "metadata": {},
   "outputs": [],
   "source": [
    "orders_21 = orders_21.query('dt_create_order > \"2020-12-31\"').reset_index(drop=True)"
   ]
  },
  {
   "cell_type": "code",
   "execution_count": 42,
   "id": "6b8ac92e",
   "metadata": {},
   "outputs": [
    {
     "data": {
      "text/plain": [
       "Timestamp('2021-01-01 00:00:00')"
      ]
     },
     "execution_count": 42,
     "metadata": {},
     "output_type": "execute_result"
    }
   ],
   "source": [
    "orders_21['dt_create_order'].min()"
   ]
  },
  {
   "cell_type": "markdown",
   "id": "60faf143",
   "metadata": {},
   "source": [
    "### Анализ RR по месяцам"
   ]
  },
  {
   "cell_type": "code",
   "execution_count": 43,
   "id": "1fa4dec2",
   "metadata": {},
   "outputs": [
    {
     "data": {
      "text/html": [
       "<div>\n",
       "<style scoped>\n",
       "    .dataframe tbody tr th:only-of-type {\n",
       "        vertical-align: middle;\n",
       "    }\n",
       "\n",
       "    .dataframe tbody tr th {\n",
       "        vertical-align: top;\n",
       "    }\n",
       "\n",
       "    .dataframe thead th {\n",
       "        text-align: right;\n",
       "    }\n",
       "</style>\n",
       "<table border=\"1\" class=\"dataframe\">\n",
       "  <thead>\n",
       "    <tr style=\"text-align: right;\">\n",
       "      <th></th>\n",
       "      <th>month_first_order</th>\n",
       "    </tr>\n",
       "    <tr>\n",
       "      <th>id_client</th>\n",
       "      <th></th>\n",
       "    </tr>\n",
       "  </thead>\n",
       "  <tbody>\n",
       "    <tr>\n",
       "      <th>14239797104</th>\n",
       "      <td>4</td>\n",
       "    </tr>\n",
       "    <tr>\n",
       "      <th>14371608173</th>\n",
       "      <td>11</td>\n",
       "    </tr>\n",
       "    <tr>\n",
       "      <th>14390049134</th>\n",
       "      <td>5</td>\n",
       "    </tr>\n",
       "    <tr>\n",
       "      <th>14390106569</th>\n",
       "      <td>3</td>\n",
       "    </tr>\n",
       "    <tr>\n",
       "      <th>14390404712</th>\n",
       "      <td>1</td>\n",
       "    </tr>\n",
       "  </tbody>\n",
       "</table>\n",
       "</div>"
      ],
      "text/plain": [
       "             month_first_order\n",
       "id_client                     \n",
       "14239797104                  4\n",
       "14371608173                 11\n",
       "14390049134                  5\n",
       "14390106569                  3\n",
       "14390404712                  1"
      ]
     },
     "execution_count": 43,
     "metadata": {},
     "output_type": "execute_result"
    }
   ],
   "source": [
    "#Выделим первое посещение пользователя\n",
    "dt_first = orders_21.groupby('id_client').agg({'dt_create_order': 'min'})\n",
    "dt_first['dt_create_order'] = dt_first['dt_create_order'].dt.month\n",
    "dt_first = dt_first.rename(columns={'dt_create_order': 'month_first_order'})\n",
    "dt_first.head()"
   ]
  },
  {
   "cell_type": "code",
   "execution_count": 44,
   "id": "0e83c7c5",
   "metadata": {},
   "outputs": [
    {
     "data": {
      "text/html": [
       "<div>\n",
       "<style scoped>\n",
       "    .dataframe tbody tr th:only-of-type {\n",
       "        vertical-align: middle;\n",
       "    }\n",
       "\n",
       "    .dataframe tbody tr th {\n",
       "        vertical-align: top;\n",
       "    }\n",
       "\n",
       "    .dataframe thead th {\n",
       "        text-align: right;\n",
       "    }\n",
       "</style>\n",
       "<table border=\"1\" class=\"dataframe\">\n",
       "  <thead>\n",
       "    <tr style=\"text-align: right;\">\n",
       "      <th></th>\n",
       "      <th>id_client</th>\n",
       "      <th>month_order</th>\n",
       "    </tr>\n",
       "  </thead>\n",
       "  <tbody>\n",
       "    <tr>\n",
       "      <th>0</th>\n",
       "      <td>2996805460517</td>\n",
       "      <td>1</td>\n",
       "    </tr>\n",
       "    <tr>\n",
       "      <th>1</th>\n",
       "      <td>2996709564593</td>\n",
       "      <td>1</td>\n",
       "    </tr>\n",
       "    <tr>\n",
       "      <th>2</th>\n",
       "      <td>2996710516916</td>\n",
       "      <td>1</td>\n",
       "    </tr>\n",
       "    <tr>\n",
       "      <th>3</th>\n",
       "      <td>2996700975179</td>\n",
       "      <td>1</td>\n",
       "    </tr>\n",
       "    <tr>\n",
       "      <th>4</th>\n",
       "      <td>2759620043621</td>\n",
       "      <td>1</td>\n",
       "    </tr>\n",
       "  </tbody>\n",
       "</table>\n",
       "</div>"
      ],
      "text/plain": [
       "       id_client  month_order\n",
       "0  2996805460517            1\n",
       "1  2996709564593            1\n",
       "2  2996710516916            1\n",
       "3  2996700975179            1\n",
       "4  2759620043621            1"
      ]
     },
     "execution_count": 44,
     "metadata": {},
     "output_type": "execute_result"
    }
   ],
   "source": [
    "#Выделим даты заказов\n",
    "clients_orders = orders_21[['id_client', 'dt_create_order']]\n",
    "clients_orders['dt_create_order'] = clients_orders['dt_create_order'].dt.month\n",
    "clients_orders = clients_orders.rename(columns={'dt_create_order': 'month_order'})\n",
    "clients_orders.head()"
   ]
  },
  {
   "cell_type": "code",
   "execution_count": 45,
   "id": "37ea5db9",
   "metadata": {},
   "outputs": [
    {
     "data": {
      "text/html": [
       "<div>\n",
       "<style scoped>\n",
       "    .dataframe tbody tr th:only-of-type {\n",
       "        vertical-align: middle;\n",
       "    }\n",
       "\n",
       "    .dataframe tbody tr th {\n",
       "        vertical-align: top;\n",
       "    }\n",
       "\n",
       "    .dataframe thead th {\n",
       "        text-align: right;\n",
       "    }\n",
       "</style>\n",
       "<table border=\"1\" class=\"dataframe\">\n",
       "  <thead>\n",
       "    <tr style=\"text-align: right;\">\n",
       "      <th></th>\n",
       "      <th>id_client</th>\n",
       "      <th>month_order</th>\n",
       "      <th>month_first_order</th>\n",
       "    </tr>\n",
       "  </thead>\n",
       "  <tbody>\n",
       "    <tr>\n",
       "      <th>0</th>\n",
       "      <td>2996805460517</td>\n",
       "      <td>1</td>\n",
       "      <td>1</td>\n",
       "    </tr>\n",
       "    <tr>\n",
       "      <th>1</th>\n",
       "      <td>2996709564593</td>\n",
       "      <td>1</td>\n",
       "      <td>1</td>\n",
       "    </tr>\n",
       "    <tr>\n",
       "      <th>2</th>\n",
       "      <td>2996710516916</td>\n",
       "      <td>1</td>\n",
       "      <td>1</td>\n",
       "    </tr>\n",
       "    <tr>\n",
       "      <th>3</th>\n",
       "      <td>2996700975179</td>\n",
       "      <td>1</td>\n",
       "      <td>1</td>\n",
       "    </tr>\n",
       "    <tr>\n",
       "      <th>4</th>\n",
       "      <td>2759620043621</td>\n",
       "      <td>1</td>\n",
       "      <td>1</td>\n",
       "    </tr>\n",
       "  </tbody>\n",
       "</table>\n",
       "</div>"
      ],
      "text/plain": [
       "       id_client  month_order  month_first_order\n",
       "0  2996805460517            1                  1\n",
       "1  2996709564593            1                  1\n",
       "2  2996710516916            1                  1\n",
       "3  2996700975179            1                  1\n",
       "4  2759620043621            1                  1"
      ]
     },
     "execution_count": 45,
     "metadata": {},
     "output_type": "execute_result"
    }
   ],
   "source": [
    "#Объеденим таблицы для рассчета livetime\n",
    "clients_orders = clients_orders.merge(dt_first, on='id_client', how='left')\n",
    "clients_orders.head(5)"
   ]
  },
  {
   "cell_type": "code",
   "execution_count": 46,
   "id": "af7b7550",
   "metadata": {},
   "outputs": [
    {
     "data": {
      "text/html": [
       "<div>\n",
       "<style scoped>\n",
       "    .dataframe tbody tr th:only-of-type {\n",
       "        vertical-align: middle;\n",
       "    }\n",
       "\n",
       "    .dataframe tbody tr th {\n",
       "        vertical-align: top;\n",
       "    }\n",
       "\n",
       "    .dataframe thead th {\n",
       "        text-align: right;\n",
       "    }\n",
       "</style>\n",
       "<table border=\"1\" class=\"dataframe\">\n",
       "  <thead>\n",
       "    <tr style=\"text-align: right;\">\n",
       "      <th></th>\n",
       "      <th>id_client</th>\n",
       "      <th>month_order</th>\n",
       "      <th>month_first_order</th>\n",
       "      <th>lifetime</th>\n",
       "    </tr>\n",
       "  </thead>\n",
       "  <tbody>\n",
       "    <tr>\n",
       "      <th>0</th>\n",
       "      <td>2996805460517</td>\n",
       "      <td>1</td>\n",
       "      <td>1</td>\n",
       "      <td>0</td>\n",
       "    </tr>\n",
       "    <tr>\n",
       "      <th>1</th>\n",
       "      <td>2996709564593</td>\n",
       "      <td>1</td>\n",
       "      <td>1</td>\n",
       "      <td>0</td>\n",
       "    </tr>\n",
       "    <tr>\n",
       "      <th>2</th>\n",
       "      <td>2996710516916</td>\n",
       "      <td>1</td>\n",
       "      <td>1</td>\n",
       "      <td>0</td>\n",
       "    </tr>\n",
       "    <tr>\n",
       "      <th>3</th>\n",
       "      <td>2996700975179</td>\n",
       "      <td>1</td>\n",
       "      <td>1</td>\n",
       "      <td>0</td>\n",
       "    </tr>\n",
       "    <tr>\n",
       "      <th>4</th>\n",
       "      <td>2759620043621</td>\n",
       "      <td>1</td>\n",
       "      <td>1</td>\n",
       "      <td>0</td>\n",
       "    </tr>\n",
       "  </tbody>\n",
       "</table>\n",
       "</div>"
      ],
      "text/plain": [
       "       id_client  month_order  month_first_order  lifetime\n",
       "0  2996805460517            1                  1         0\n",
       "1  2996709564593            1                  1         0\n",
       "2  2996710516916            1                  1         0\n",
       "3  2996700975179            1                  1         0\n",
       "4  2759620043621            1                  1         0"
      ]
     },
     "execution_count": 46,
     "metadata": {},
     "output_type": "execute_result"
    }
   ],
   "source": [
    "#Высчитываем lifetime для пользователей\n",
    "clients_orders['lifetime'] = (\n",
    "    clients_orders['month_order'] - clients_orders['month_first_order']\n",
    ")\n",
    "clients_orders.head()"
   ]
  },
  {
   "cell_type": "code",
   "execution_count": 47,
   "id": "305b7eb7",
   "metadata": {},
   "outputs": [
    {
     "data": {
      "text/html": [
       "<div>\n",
       "<style scoped>\n",
       "    .dataframe tbody tr th:only-of-type {\n",
       "        vertical-align: middle;\n",
       "    }\n",
       "\n",
       "    .dataframe tbody tr th {\n",
       "        vertical-align: top;\n",
       "    }\n",
       "\n",
       "    .dataframe thead th {\n",
       "        text-align: right;\n",
       "    }\n",
       "</style>\n",
       "<table border=\"1\" class=\"dataframe\">\n",
       "  <thead>\n",
       "    <tr style=\"text-align: right;\">\n",
       "      <th>lifetime</th>\n",
       "      <th>0</th>\n",
       "      <th>1</th>\n",
       "      <th>2</th>\n",
       "      <th>3</th>\n",
       "      <th>4</th>\n",
       "      <th>5</th>\n",
       "      <th>6</th>\n",
       "      <th>7</th>\n",
       "      <th>8</th>\n",
       "      <th>9</th>\n",
       "      <th>10</th>\n",
       "      <th>11</th>\n",
       "    </tr>\n",
       "    <tr>\n",
       "      <th>month_first_order</th>\n",
       "      <th></th>\n",
       "      <th></th>\n",
       "      <th></th>\n",
       "      <th></th>\n",
       "      <th></th>\n",
       "      <th></th>\n",
       "      <th></th>\n",
       "      <th></th>\n",
       "      <th></th>\n",
       "      <th></th>\n",
       "      <th></th>\n",
       "      <th></th>\n",
       "    </tr>\n",
       "  </thead>\n",
       "  <tbody>\n",
       "    <tr>\n",
       "      <th>1</th>\n",
       "      <td>4120.0</td>\n",
       "      <td>2530.0</td>\n",
       "      <td>2452.0</td>\n",
       "      <td>2284.0</td>\n",
       "      <td>2153.0</td>\n",
       "      <td>2129.0</td>\n",
       "      <td>2016.0</td>\n",
       "      <td>1741.0</td>\n",
       "      <td>1829.0</td>\n",
       "      <td>1725.0</td>\n",
       "      <td>1705.0</td>\n",
       "      <td>1659.0</td>\n",
       "    </tr>\n",
       "    <tr>\n",
       "      <th>2</th>\n",
       "      <td>1457.0</td>\n",
       "      <td>565.0</td>\n",
       "      <td>478.0</td>\n",
       "      <td>425.0</td>\n",
       "      <td>389.0</td>\n",
       "      <td>373.0</td>\n",
       "      <td>317.0</td>\n",
       "      <td>329.0</td>\n",
       "      <td>324.0</td>\n",
       "      <td>314.0</td>\n",
       "      <td>317.0</td>\n",
       "      <td>NaN</td>\n",
       "    </tr>\n",
       "    <tr>\n",
       "      <th>3</th>\n",
       "      <td>1312.0</td>\n",
       "      <td>407.0</td>\n",
       "      <td>329.0</td>\n",
       "      <td>268.0</td>\n",
       "      <td>272.0</td>\n",
       "      <td>216.0</td>\n",
       "      <td>202.0</td>\n",
       "      <td>242.0</td>\n",
       "      <td>216.0</td>\n",
       "      <td>220.0</td>\n",
       "      <td>NaN</td>\n",
       "      <td>NaN</td>\n",
       "    </tr>\n",
       "    <tr>\n",
       "      <th>4</th>\n",
       "      <td>1106.0</td>\n",
       "      <td>322.0</td>\n",
       "      <td>290.0</td>\n",
       "      <td>248.0</td>\n",
       "      <td>197.0</td>\n",
       "      <td>206.0</td>\n",
       "      <td>188.0</td>\n",
       "      <td>175.0</td>\n",
       "      <td>183.0</td>\n",
       "      <td>NaN</td>\n",
       "      <td>NaN</td>\n",
       "      <td>NaN</td>\n",
       "    </tr>\n",
       "    <tr>\n",
       "      <th>5</th>\n",
       "      <td>976.0</td>\n",
       "      <td>268.0</td>\n",
       "      <td>235.0</td>\n",
       "      <td>175.0</td>\n",
       "      <td>184.0</td>\n",
       "      <td>160.0</td>\n",
       "      <td>163.0</td>\n",
       "      <td>149.0</td>\n",
       "      <td>NaN</td>\n",
       "      <td>NaN</td>\n",
       "      <td>NaN</td>\n",
       "      <td>NaN</td>\n",
       "    </tr>\n",
       "    <tr>\n",
       "      <th>6</th>\n",
       "      <td>1060.0</td>\n",
       "      <td>310.0</td>\n",
       "      <td>190.0</td>\n",
       "      <td>172.0</td>\n",
       "      <td>161.0</td>\n",
       "      <td>142.0</td>\n",
       "      <td>137.0</td>\n",
       "      <td>NaN</td>\n",
       "      <td>NaN</td>\n",
       "      <td>NaN</td>\n",
       "      <td>NaN</td>\n",
       "      <td>NaN</td>\n",
       "    </tr>\n",
       "    <tr>\n",
       "      <th>7</th>\n",
       "      <td>1316.0</td>\n",
       "      <td>324.0</td>\n",
       "      <td>258.0</td>\n",
       "      <td>229.0</td>\n",
       "      <td>194.0</td>\n",
       "      <td>195.0</td>\n",
       "      <td>NaN</td>\n",
       "      <td>NaN</td>\n",
       "      <td>NaN</td>\n",
       "      <td>NaN</td>\n",
       "      <td>NaN</td>\n",
       "      <td>NaN</td>\n",
       "    </tr>\n",
       "    <tr>\n",
       "      <th>8</th>\n",
       "      <td>716.0</td>\n",
       "      <td>212.0</td>\n",
       "      <td>144.0</td>\n",
       "      <td>120.0</td>\n",
       "      <td>115.0</td>\n",
       "      <td>NaN</td>\n",
       "      <td>NaN</td>\n",
       "      <td>NaN</td>\n",
       "      <td>NaN</td>\n",
       "      <td>NaN</td>\n",
       "      <td>NaN</td>\n",
       "      <td>NaN</td>\n",
       "    </tr>\n",
       "    <tr>\n",
       "      <th>9</th>\n",
       "      <td>879.0</td>\n",
       "      <td>241.0</td>\n",
       "      <td>195.0</td>\n",
       "      <td>174.0</td>\n",
       "      <td>NaN</td>\n",
       "      <td>NaN</td>\n",
       "      <td>NaN</td>\n",
       "      <td>NaN</td>\n",
       "      <td>NaN</td>\n",
       "      <td>NaN</td>\n",
       "      <td>NaN</td>\n",
       "      <td>NaN</td>\n",
       "    </tr>\n",
       "    <tr>\n",
       "      <th>10</th>\n",
       "      <td>763.0</td>\n",
       "      <td>197.0</td>\n",
       "      <td>166.0</td>\n",
       "      <td>NaN</td>\n",
       "      <td>NaN</td>\n",
       "      <td>NaN</td>\n",
       "      <td>NaN</td>\n",
       "      <td>NaN</td>\n",
       "      <td>NaN</td>\n",
       "      <td>NaN</td>\n",
       "      <td>NaN</td>\n",
       "      <td>NaN</td>\n",
       "    </tr>\n",
       "    <tr>\n",
       "      <th>11</th>\n",
       "      <td>826.0</td>\n",
       "      <td>224.0</td>\n",
       "      <td>NaN</td>\n",
       "      <td>NaN</td>\n",
       "      <td>NaN</td>\n",
       "      <td>NaN</td>\n",
       "      <td>NaN</td>\n",
       "      <td>NaN</td>\n",
       "      <td>NaN</td>\n",
       "      <td>NaN</td>\n",
       "      <td>NaN</td>\n",
       "      <td>NaN</td>\n",
       "    </tr>\n",
       "    <tr>\n",
       "      <th>12</th>\n",
       "      <td>847.0</td>\n",
       "      <td>NaN</td>\n",
       "      <td>NaN</td>\n",
       "      <td>NaN</td>\n",
       "      <td>NaN</td>\n",
       "      <td>NaN</td>\n",
       "      <td>NaN</td>\n",
       "      <td>NaN</td>\n",
       "      <td>NaN</td>\n",
       "      <td>NaN</td>\n",
       "      <td>NaN</td>\n",
       "      <td>NaN</td>\n",
       "    </tr>\n",
       "  </tbody>\n",
       "</table>\n",
       "</div>"
      ],
      "text/plain": [
       "lifetime               0       1       2       3       4       5       6   \\\n",
       "month_first_order                                                           \n",
       "1                  4120.0  2530.0  2452.0  2284.0  2153.0  2129.0  2016.0   \n",
       "2                  1457.0   565.0   478.0   425.0   389.0   373.0   317.0   \n",
       "3                  1312.0   407.0   329.0   268.0   272.0   216.0   202.0   \n",
       "4                  1106.0   322.0   290.0   248.0   197.0   206.0   188.0   \n",
       "5                   976.0   268.0   235.0   175.0   184.0   160.0   163.0   \n",
       "6                  1060.0   310.0   190.0   172.0   161.0   142.0   137.0   \n",
       "7                  1316.0   324.0   258.0   229.0   194.0   195.0     NaN   \n",
       "8                   716.0   212.0   144.0   120.0   115.0     NaN     NaN   \n",
       "9                   879.0   241.0   195.0   174.0     NaN     NaN     NaN   \n",
       "10                  763.0   197.0   166.0     NaN     NaN     NaN     NaN   \n",
       "11                  826.0   224.0     NaN     NaN     NaN     NaN     NaN   \n",
       "12                  847.0     NaN     NaN     NaN     NaN     NaN     NaN   \n",
       "\n",
       "lifetime               7       8       9       10      11  \n",
       "month_first_order                                          \n",
       "1                  1741.0  1829.0  1725.0  1705.0  1659.0  \n",
       "2                   329.0   324.0   314.0   317.0     NaN  \n",
       "3                   242.0   216.0   220.0     NaN     NaN  \n",
       "4                   175.0   183.0     NaN     NaN     NaN  \n",
       "5                   149.0     NaN     NaN     NaN     NaN  \n",
       "6                     NaN     NaN     NaN     NaN     NaN  \n",
       "7                     NaN     NaN     NaN     NaN     NaN  \n",
       "8                     NaN     NaN     NaN     NaN     NaN  \n",
       "9                     NaN     NaN     NaN     NaN     NaN  \n",
       "10                    NaN     NaN     NaN     NaN     NaN  \n",
       "11                    NaN     NaN     NaN     NaN     NaN  \n",
       "12                    NaN     NaN     NaN     NaN     NaN  "
      ]
     },
     "execution_count": 47,
     "metadata": {},
     "output_type": "execute_result"
    }
   ],
   "source": [
    "#Строим таблицу удержания\n",
    "retention_group = clients_orders.pivot_table(\n",
    "    index='month_first_order', columns='lifetime', values='id_client', aggfunc='nunique'\n",
    ")\n",
    "retention_group"
   ]
  },
  {
   "cell_type": "code",
   "execution_count": 48,
   "id": "4f8c79ef",
   "metadata": {},
   "outputs": [
    {
     "data": {
      "text/html": [
       "<div>\n",
       "<style scoped>\n",
       "    .dataframe tbody tr th:only-of-type {\n",
       "        vertical-align: middle;\n",
       "    }\n",
       "\n",
       "    .dataframe tbody tr th {\n",
       "        vertical-align: top;\n",
       "    }\n",
       "\n",
       "    .dataframe thead th {\n",
       "        text-align: right;\n",
       "    }\n",
       "</style>\n",
       "<table border=\"1\" class=\"dataframe\">\n",
       "  <thead>\n",
       "    <tr style=\"text-align: right;\">\n",
       "      <th></th>\n",
       "      <th>cohort_size</th>\n",
       "    </tr>\n",
       "    <tr>\n",
       "      <th>month_first_order</th>\n",
       "      <th></th>\n",
       "    </tr>\n",
       "  </thead>\n",
       "  <tbody>\n",
       "    <tr>\n",
       "      <th>1</th>\n",
       "      <td>4120</td>\n",
       "    </tr>\n",
       "    <tr>\n",
       "      <th>2</th>\n",
       "      <td>1457</td>\n",
       "    </tr>\n",
       "    <tr>\n",
       "      <th>3</th>\n",
       "      <td>1312</td>\n",
       "    </tr>\n",
       "    <tr>\n",
       "      <th>4</th>\n",
       "      <td>1106</td>\n",
       "    </tr>\n",
       "    <tr>\n",
       "      <th>5</th>\n",
       "      <td>976</td>\n",
       "    </tr>\n",
       "    <tr>\n",
       "      <th>6</th>\n",
       "      <td>1060</td>\n",
       "    </tr>\n",
       "    <tr>\n",
       "      <th>7</th>\n",
       "      <td>1316</td>\n",
       "    </tr>\n",
       "    <tr>\n",
       "      <th>8</th>\n",
       "      <td>716</td>\n",
       "    </tr>\n",
       "    <tr>\n",
       "      <th>9</th>\n",
       "      <td>879</td>\n",
       "    </tr>\n",
       "    <tr>\n",
       "      <th>10</th>\n",
       "      <td>763</td>\n",
       "    </tr>\n",
       "    <tr>\n",
       "      <th>11</th>\n",
       "      <td>826</td>\n",
       "    </tr>\n",
       "    <tr>\n",
       "      <th>12</th>\n",
       "      <td>847</td>\n",
       "    </tr>\n",
       "  </tbody>\n",
       "</table>\n",
       "</div>"
      ],
      "text/plain": [
       "                   cohort_size\n",
       "month_first_order             \n",
       "1                         4120\n",
       "2                         1457\n",
       "3                         1312\n",
       "4                         1106\n",
       "5                          976\n",
       "6                         1060\n",
       "7                         1316\n",
       "8                          716\n",
       "9                          879\n",
       "10                         763\n",
       "11                         826\n",
       "12                         847"
      ]
     },
     "execution_count": 48,
     "metadata": {},
     "output_type": "execute_result"
    }
   ],
   "source": [
    "#Считаем размеры когорт\n",
    "cohort_size = clients_orders.groupby('month_first_order').agg({'id_client': 'nunique'})\\\n",
    "               .rename(columns={'id_client': 'cohort_size'})\n",
    "\n",
    "cohort_size"
   ]
  },
  {
   "cell_type": "code",
   "execution_count": 49,
   "id": "e0b1f190",
   "metadata": {},
   "outputs": [
    {
     "data": {
      "text/html": [
       "<div>\n",
       "<style scoped>\n",
       "    .dataframe tbody tr th:only-of-type {\n",
       "        vertical-align: middle;\n",
       "    }\n",
       "\n",
       "    .dataframe tbody tr th {\n",
       "        vertical-align: top;\n",
       "    }\n",
       "\n",
       "    .dataframe thead th {\n",
       "        text-align: right;\n",
       "    }\n",
       "</style>\n",
       "<table border=\"1\" class=\"dataframe\">\n",
       "  <thead>\n",
       "    <tr style=\"text-align: right;\">\n",
       "      <th></th>\n",
       "      <th>cohort_size</th>\n",
       "      <th>0</th>\n",
       "      <th>1</th>\n",
       "      <th>2</th>\n",
       "      <th>3</th>\n",
       "      <th>4</th>\n",
       "      <th>5</th>\n",
       "      <th>6</th>\n",
       "      <th>7</th>\n",
       "      <th>8</th>\n",
       "      <th>9</th>\n",
       "      <th>10</th>\n",
       "      <th>11</th>\n",
       "    </tr>\n",
       "    <tr>\n",
       "      <th>month_first_order</th>\n",
       "      <th></th>\n",
       "      <th></th>\n",
       "      <th></th>\n",
       "      <th></th>\n",
       "      <th></th>\n",
       "      <th></th>\n",
       "      <th></th>\n",
       "      <th></th>\n",
       "      <th></th>\n",
       "      <th></th>\n",
       "      <th></th>\n",
       "      <th></th>\n",
       "      <th></th>\n",
       "    </tr>\n",
       "  </thead>\n",
       "  <tbody>\n",
       "    <tr>\n",
       "      <th>1</th>\n",
       "      <td>4120</td>\n",
       "      <td>4120.0</td>\n",
       "      <td>2530.0</td>\n",
       "      <td>2452.0</td>\n",
       "      <td>2284.0</td>\n",
       "      <td>2153.0</td>\n",
       "      <td>2129.0</td>\n",
       "      <td>2016.0</td>\n",
       "      <td>1741.0</td>\n",
       "      <td>1829.0</td>\n",
       "      <td>1725.0</td>\n",
       "      <td>1705.0</td>\n",
       "      <td>1659.0</td>\n",
       "    </tr>\n",
       "    <tr>\n",
       "      <th>2</th>\n",
       "      <td>1457</td>\n",
       "      <td>1457.0</td>\n",
       "      <td>565.0</td>\n",
       "      <td>478.0</td>\n",
       "      <td>425.0</td>\n",
       "      <td>389.0</td>\n",
       "      <td>373.0</td>\n",
       "      <td>317.0</td>\n",
       "      <td>329.0</td>\n",
       "      <td>324.0</td>\n",
       "      <td>314.0</td>\n",
       "      <td>317.0</td>\n",
       "      <td>0.0</td>\n",
       "    </tr>\n",
       "    <tr>\n",
       "      <th>3</th>\n",
       "      <td>1312</td>\n",
       "      <td>1312.0</td>\n",
       "      <td>407.0</td>\n",
       "      <td>329.0</td>\n",
       "      <td>268.0</td>\n",
       "      <td>272.0</td>\n",
       "      <td>216.0</td>\n",
       "      <td>202.0</td>\n",
       "      <td>242.0</td>\n",
       "      <td>216.0</td>\n",
       "      <td>220.0</td>\n",
       "      <td>0.0</td>\n",
       "      <td>0.0</td>\n",
       "    </tr>\n",
       "    <tr>\n",
       "      <th>4</th>\n",
       "      <td>1106</td>\n",
       "      <td>1106.0</td>\n",
       "      <td>322.0</td>\n",
       "      <td>290.0</td>\n",
       "      <td>248.0</td>\n",
       "      <td>197.0</td>\n",
       "      <td>206.0</td>\n",
       "      <td>188.0</td>\n",
       "      <td>175.0</td>\n",
       "      <td>183.0</td>\n",
       "      <td>0.0</td>\n",
       "      <td>0.0</td>\n",
       "      <td>0.0</td>\n",
       "    </tr>\n",
       "    <tr>\n",
       "      <th>5</th>\n",
       "      <td>976</td>\n",
       "      <td>976.0</td>\n",
       "      <td>268.0</td>\n",
       "      <td>235.0</td>\n",
       "      <td>175.0</td>\n",
       "      <td>184.0</td>\n",
       "      <td>160.0</td>\n",
       "      <td>163.0</td>\n",
       "      <td>149.0</td>\n",
       "      <td>0.0</td>\n",
       "      <td>0.0</td>\n",
       "      <td>0.0</td>\n",
       "      <td>0.0</td>\n",
       "    </tr>\n",
       "    <tr>\n",
       "      <th>6</th>\n",
       "      <td>1060</td>\n",
       "      <td>1060.0</td>\n",
       "      <td>310.0</td>\n",
       "      <td>190.0</td>\n",
       "      <td>172.0</td>\n",
       "      <td>161.0</td>\n",
       "      <td>142.0</td>\n",
       "      <td>137.0</td>\n",
       "      <td>0.0</td>\n",
       "      <td>0.0</td>\n",
       "      <td>0.0</td>\n",
       "      <td>0.0</td>\n",
       "      <td>0.0</td>\n",
       "    </tr>\n",
       "    <tr>\n",
       "      <th>7</th>\n",
       "      <td>1316</td>\n",
       "      <td>1316.0</td>\n",
       "      <td>324.0</td>\n",
       "      <td>258.0</td>\n",
       "      <td>229.0</td>\n",
       "      <td>194.0</td>\n",
       "      <td>195.0</td>\n",
       "      <td>0.0</td>\n",
       "      <td>0.0</td>\n",
       "      <td>0.0</td>\n",
       "      <td>0.0</td>\n",
       "      <td>0.0</td>\n",
       "      <td>0.0</td>\n",
       "    </tr>\n",
       "    <tr>\n",
       "      <th>8</th>\n",
       "      <td>716</td>\n",
       "      <td>716.0</td>\n",
       "      <td>212.0</td>\n",
       "      <td>144.0</td>\n",
       "      <td>120.0</td>\n",
       "      <td>115.0</td>\n",
       "      <td>0.0</td>\n",
       "      <td>0.0</td>\n",
       "      <td>0.0</td>\n",
       "      <td>0.0</td>\n",
       "      <td>0.0</td>\n",
       "      <td>0.0</td>\n",
       "      <td>0.0</td>\n",
       "    </tr>\n",
       "    <tr>\n",
       "      <th>9</th>\n",
       "      <td>879</td>\n",
       "      <td>879.0</td>\n",
       "      <td>241.0</td>\n",
       "      <td>195.0</td>\n",
       "      <td>174.0</td>\n",
       "      <td>0.0</td>\n",
       "      <td>0.0</td>\n",
       "      <td>0.0</td>\n",
       "      <td>0.0</td>\n",
       "      <td>0.0</td>\n",
       "      <td>0.0</td>\n",
       "      <td>0.0</td>\n",
       "      <td>0.0</td>\n",
       "    </tr>\n",
       "    <tr>\n",
       "      <th>10</th>\n",
       "      <td>763</td>\n",
       "      <td>763.0</td>\n",
       "      <td>197.0</td>\n",
       "      <td>166.0</td>\n",
       "      <td>0.0</td>\n",
       "      <td>0.0</td>\n",
       "      <td>0.0</td>\n",
       "      <td>0.0</td>\n",
       "      <td>0.0</td>\n",
       "      <td>0.0</td>\n",
       "      <td>0.0</td>\n",
       "      <td>0.0</td>\n",
       "      <td>0.0</td>\n",
       "    </tr>\n",
       "    <tr>\n",
       "      <th>11</th>\n",
       "      <td>826</td>\n",
       "      <td>826.0</td>\n",
       "      <td>224.0</td>\n",
       "      <td>0.0</td>\n",
       "      <td>0.0</td>\n",
       "      <td>0.0</td>\n",
       "      <td>0.0</td>\n",
       "      <td>0.0</td>\n",
       "      <td>0.0</td>\n",
       "      <td>0.0</td>\n",
       "      <td>0.0</td>\n",
       "      <td>0.0</td>\n",
       "      <td>0.0</td>\n",
       "    </tr>\n",
       "    <tr>\n",
       "      <th>12</th>\n",
       "      <td>847</td>\n",
       "      <td>847.0</td>\n",
       "      <td>0.0</td>\n",
       "      <td>0.0</td>\n",
       "      <td>0.0</td>\n",
       "      <td>0.0</td>\n",
       "      <td>0.0</td>\n",
       "      <td>0.0</td>\n",
       "      <td>0.0</td>\n",
       "      <td>0.0</td>\n",
       "      <td>0.0</td>\n",
       "      <td>0.0</td>\n",
       "      <td>0.0</td>\n",
       "    </tr>\n",
       "  </tbody>\n",
       "</table>\n",
       "</div>"
      ],
      "text/plain": [
       "                   cohort_size       0       1       2       3       4  \\\n",
       "month_first_order                                                        \n",
       "1                         4120  4120.0  2530.0  2452.0  2284.0  2153.0   \n",
       "2                         1457  1457.0   565.0   478.0   425.0   389.0   \n",
       "3                         1312  1312.0   407.0   329.0   268.0   272.0   \n",
       "4                         1106  1106.0   322.0   290.0   248.0   197.0   \n",
       "5                          976   976.0   268.0   235.0   175.0   184.0   \n",
       "6                         1060  1060.0   310.0   190.0   172.0   161.0   \n",
       "7                         1316  1316.0   324.0   258.0   229.0   194.0   \n",
       "8                          716   716.0   212.0   144.0   120.0   115.0   \n",
       "9                          879   879.0   241.0   195.0   174.0     0.0   \n",
       "10                         763   763.0   197.0   166.0     0.0     0.0   \n",
       "11                         826   826.0   224.0     0.0     0.0     0.0   \n",
       "12                         847   847.0     0.0     0.0     0.0     0.0   \n",
       "\n",
       "                        5       6       7       8       9      10      11  \n",
       "month_first_order                                                          \n",
       "1                  2129.0  2016.0  1741.0  1829.0  1725.0  1705.0  1659.0  \n",
       "2                   373.0   317.0   329.0   324.0   314.0   317.0     0.0  \n",
       "3                   216.0   202.0   242.0   216.0   220.0     0.0     0.0  \n",
       "4                   206.0   188.0   175.0   183.0     0.0     0.0     0.0  \n",
       "5                   160.0   163.0   149.0     0.0     0.0     0.0     0.0  \n",
       "6                   142.0   137.0     0.0     0.0     0.0     0.0     0.0  \n",
       "7                   195.0     0.0     0.0     0.0     0.0     0.0     0.0  \n",
       "8                     0.0     0.0     0.0     0.0     0.0     0.0     0.0  \n",
       "9                     0.0     0.0     0.0     0.0     0.0     0.0     0.0  \n",
       "10                    0.0     0.0     0.0     0.0     0.0     0.0     0.0  \n",
       "11                    0.0     0.0     0.0     0.0     0.0     0.0     0.0  \n",
       "12                    0.0     0.0     0.0     0.0     0.0     0.0     0.0  "
      ]
     },
     "execution_count": 49,
     "metadata": {},
     "output_type": "execute_result"
    }
   ],
   "source": [
    "#Объединяем размеры когорт и таблицу удержания\n",
    "retention_rate = cohort_size.merge(\n",
    "    retention_group, on='month_first_order', how='left'\n",
    ").fillna(0)\n",
    "\n",
    "retention_rate"
   ]
  },
  {
   "cell_type": "code",
   "execution_count": 50,
   "id": "a6c08785",
   "metadata": {},
   "outputs": [
    {
     "data": {
      "text/html": [
       "<div>\n",
       "<style scoped>\n",
       "    .dataframe tbody tr th:only-of-type {\n",
       "        vertical-align: middle;\n",
       "    }\n",
       "\n",
       "    .dataframe tbody tr th {\n",
       "        vertical-align: top;\n",
       "    }\n",
       "\n",
       "    .dataframe thead th {\n",
       "        text-align: right;\n",
       "    }\n",
       "</style>\n",
       "<table border=\"1\" class=\"dataframe\">\n",
       "  <thead>\n",
       "    <tr style=\"text-align: right;\">\n",
       "      <th></th>\n",
       "      <th>0</th>\n",
       "      <th>1</th>\n",
       "      <th>2</th>\n",
       "      <th>3</th>\n",
       "      <th>4</th>\n",
       "      <th>5</th>\n",
       "      <th>6</th>\n",
       "      <th>7</th>\n",
       "      <th>8</th>\n",
       "      <th>9</th>\n",
       "      <th>10</th>\n",
       "      <th>11</th>\n",
       "    </tr>\n",
       "    <tr>\n",
       "      <th>month_first_order</th>\n",
       "      <th></th>\n",
       "      <th></th>\n",
       "      <th></th>\n",
       "      <th></th>\n",
       "      <th></th>\n",
       "      <th></th>\n",
       "      <th></th>\n",
       "      <th></th>\n",
       "      <th></th>\n",
       "      <th></th>\n",
       "      <th></th>\n",
       "      <th></th>\n",
       "    </tr>\n",
       "  </thead>\n",
       "  <tbody>\n",
       "    <tr>\n",
       "      <th>1</th>\n",
       "      <td>1.0</td>\n",
       "      <td>0.614078</td>\n",
       "      <td>0.595146</td>\n",
       "      <td>0.554369</td>\n",
       "      <td>0.522573</td>\n",
       "      <td>0.516748</td>\n",
       "      <td>0.489320</td>\n",
       "      <td>0.422573</td>\n",
       "      <td>0.443932</td>\n",
       "      <td>0.418689</td>\n",
       "      <td>0.413835</td>\n",
       "      <td>0.40267</td>\n",
       "    </tr>\n",
       "    <tr>\n",
       "      <th>2</th>\n",
       "      <td>1.0</td>\n",
       "      <td>0.387783</td>\n",
       "      <td>0.328071</td>\n",
       "      <td>0.291695</td>\n",
       "      <td>0.266987</td>\n",
       "      <td>0.256005</td>\n",
       "      <td>0.217570</td>\n",
       "      <td>0.225806</td>\n",
       "      <td>0.222375</td>\n",
       "      <td>0.215511</td>\n",
       "      <td>0.217570</td>\n",
       "      <td>0.00000</td>\n",
       "    </tr>\n",
       "    <tr>\n",
       "      <th>3</th>\n",
       "      <td>1.0</td>\n",
       "      <td>0.310213</td>\n",
       "      <td>0.250762</td>\n",
       "      <td>0.204268</td>\n",
       "      <td>0.207317</td>\n",
       "      <td>0.164634</td>\n",
       "      <td>0.153963</td>\n",
       "      <td>0.184451</td>\n",
       "      <td>0.164634</td>\n",
       "      <td>0.167683</td>\n",
       "      <td>0.000000</td>\n",
       "      <td>0.00000</td>\n",
       "    </tr>\n",
       "    <tr>\n",
       "      <th>4</th>\n",
       "      <td>1.0</td>\n",
       "      <td>0.291139</td>\n",
       "      <td>0.262206</td>\n",
       "      <td>0.224231</td>\n",
       "      <td>0.178119</td>\n",
       "      <td>0.186257</td>\n",
       "      <td>0.169982</td>\n",
       "      <td>0.158228</td>\n",
       "      <td>0.165461</td>\n",
       "      <td>0.000000</td>\n",
       "      <td>0.000000</td>\n",
       "      <td>0.00000</td>\n",
       "    </tr>\n",
       "    <tr>\n",
       "      <th>5</th>\n",
       "      <td>1.0</td>\n",
       "      <td>0.274590</td>\n",
       "      <td>0.240779</td>\n",
       "      <td>0.179303</td>\n",
       "      <td>0.188525</td>\n",
       "      <td>0.163934</td>\n",
       "      <td>0.167008</td>\n",
       "      <td>0.152664</td>\n",
       "      <td>0.000000</td>\n",
       "      <td>0.000000</td>\n",
       "      <td>0.000000</td>\n",
       "      <td>0.00000</td>\n",
       "    </tr>\n",
       "    <tr>\n",
       "      <th>6</th>\n",
       "      <td>1.0</td>\n",
       "      <td>0.292453</td>\n",
       "      <td>0.179245</td>\n",
       "      <td>0.162264</td>\n",
       "      <td>0.151887</td>\n",
       "      <td>0.133962</td>\n",
       "      <td>0.129245</td>\n",
       "      <td>0.000000</td>\n",
       "      <td>0.000000</td>\n",
       "      <td>0.000000</td>\n",
       "      <td>0.000000</td>\n",
       "      <td>0.00000</td>\n",
       "    </tr>\n",
       "    <tr>\n",
       "      <th>7</th>\n",
       "      <td>1.0</td>\n",
       "      <td>0.246201</td>\n",
       "      <td>0.196049</td>\n",
       "      <td>0.174012</td>\n",
       "      <td>0.147416</td>\n",
       "      <td>0.148176</td>\n",
       "      <td>0.000000</td>\n",
       "      <td>0.000000</td>\n",
       "      <td>0.000000</td>\n",
       "      <td>0.000000</td>\n",
       "      <td>0.000000</td>\n",
       "      <td>0.00000</td>\n",
       "    </tr>\n",
       "    <tr>\n",
       "      <th>8</th>\n",
       "      <td>1.0</td>\n",
       "      <td>0.296089</td>\n",
       "      <td>0.201117</td>\n",
       "      <td>0.167598</td>\n",
       "      <td>0.160615</td>\n",
       "      <td>0.000000</td>\n",
       "      <td>0.000000</td>\n",
       "      <td>0.000000</td>\n",
       "      <td>0.000000</td>\n",
       "      <td>0.000000</td>\n",
       "      <td>0.000000</td>\n",
       "      <td>0.00000</td>\n",
       "    </tr>\n",
       "    <tr>\n",
       "      <th>9</th>\n",
       "      <td>1.0</td>\n",
       "      <td>0.274175</td>\n",
       "      <td>0.221843</td>\n",
       "      <td>0.197952</td>\n",
       "      <td>0.000000</td>\n",
       "      <td>0.000000</td>\n",
       "      <td>0.000000</td>\n",
       "      <td>0.000000</td>\n",
       "      <td>0.000000</td>\n",
       "      <td>0.000000</td>\n",
       "      <td>0.000000</td>\n",
       "      <td>0.00000</td>\n",
       "    </tr>\n",
       "    <tr>\n",
       "      <th>10</th>\n",
       "      <td>1.0</td>\n",
       "      <td>0.258191</td>\n",
       "      <td>0.217562</td>\n",
       "      <td>0.000000</td>\n",
       "      <td>0.000000</td>\n",
       "      <td>0.000000</td>\n",
       "      <td>0.000000</td>\n",
       "      <td>0.000000</td>\n",
       "      <td>0.000000</td>\n",
       "      <td>0.000000</td>\n",
       "      <td>0.000000</td>\n",
       "      <td>0.00000</td>\n",
       "    </tr>\n",
       "    <tr>\n",
       "      <th>11</th>\n",
       "      <td>1.0</td>\n",
       "      <td>0.271186</td>\n",
       "      <td>0.000000</td>\n",
       "      <td>0.000000</td>\n",
       "      <td>0.000000</td>\n",
       "      <td>0.000000</td>\n",
       "      <td>0.000000</td>\n",
       "      <td>0.000000</td>\n",
       "      <td>0.000000</td>\n",
       "      <td>0.000000</td>\n",
       "      <td>0.000000</td>\n",
       "      <td>0.00000</td>\n",
       "    </tr>\n",
       "    <tr>\n",
       "      <th>12</th>\n",
       "      <td>1.0</td>\n",
       "      <td>0.000000</td>\n",
       "      <td>0.000000</td>\n",
       "      <td>0.000000</td>\n",
       "      <td>0.000000</td>\n",
       "      <td>0.000000</td>\n",
       "      <td>0.000000</td>\n",
       "      <td>0.000000</td>\n",
       "      <td>0.000000</td>\n",
       "      <td>0.000000</td>\n",
       "      <td>0.000000</td>\n",
       "      <td>0.00000</td>\n",
       "    </tr>\n",
       "  </tbody>\n",
       "</table>\n",
       "</div>"
      ],
      "text/plain": [
       "                    0         1         2         3         4         5   \\\n",
       "month_first_order                                                          \n",
       "1                  1.0  0.614078  0.595146  0.554369  0.522573  0.516748   \n",
       "2                  1.0  0.387783  0.328071  0.291695  0.266987  0.256005   \n",
       "3                  1.0  0.310213  0.250762  0.204268  0.207317  0.164634   \n",
       "4                  1.0  0.291139  0.262206  0.224231  0.178119  0.186257   \n",
       "5                  1.0  0.274590  0.240779  0.179303  0.188525  0.163934   \n",
       "6                  1.0  0.292453  0.179245  0.162264  0.151887  0.133962   \n",
       "7                  1.0  0.246201  0.196049  0.174012  0.147416  0.148176   \n",
       "8                  1.0  0.296089  0.201117  0.167598  0.160615  0.000000   \n",
       "9                  1.0  0.274175  0.221843  0.197952  0.000000  0.000000   \n",
       "10                 1.0  0.258191  0.217562  0.000000  0.000000  0.000000   \n",
       "11                 1.0  0.271186  0.000000  0.000000  0.000000  0.000000   \n",
       "12                 1.0  0.000000  0.000000  0.000000  0.000000  0.000000   \n",
       "\n",
       "                         6         7         8         9         10       11  \n",
       "month_first_order                                                             \n",
       "1                  0.489320  0.422573  0.443932  0.418689  0.413835  0.40267  \n",
       "2                  0.217570  0.225806  0.222375  0.215511  0.217570  0.00000  \n",
       "3                  0.153963  0.184451  0.164634  0.167683  0.000000  0.00000  \n",
       "4                  0.169982  0.158228  0.165461  0.000000  0.000000  0.00000  \n",
       "5                  0.167008  0.152664  0.000000  0.000000  0.000000  0.00000  \n",
       "6                  0.129245  0.000000  0.000000  0.000000  0.000000  0.00000  \n",
       "7                  0.000000  0.000000  0.000000  0.000000  0.000000  0.00000  \n",
       "8                  0.000000  0.000000  0.000000  0.000000  0.000000  0.00000  \n",
       "9                  0.000000  0.000000  0.000000  0.000000  0.000000  0.00000  \n",
       "10                 0.000000  0.000000  0.000000  0.000000  0.000000  0.00000  \n",
       "11                 0.000000  0.000000  0.000000  0.000000  0.000000  0.00000  \n",
       "12                 0.000000  0.000000  0.000000  0.000000  0.000000  0.00000  "
      ]
     },
     "execution_count": 50,
     "metadata": {},
     "output_type": "execute_result"
    }
   ],
   "source": [
    "#Делим данные таблицы удержания на размеры когорт\n",
    "retention_rate = retention_rate.div(\n",
    "    retention_rate['cohort_size'], axis=0\n",
    ").drop(columns=['cohort_size'])\n",
    "\n",
    "retention_rate"
   ]
  },
  {
   "cell_type": "code",
   "execution_count": 51,
   "id": "512b5d3b",
   "metadata": {},
   "outputs": [
    {
     "data": {
      "image/png": "[encoded data removed]",
      "text/plain": [
       "<Figure size 1800x1080 with 2 Axes>"
      ]
     },
     "metadata": {
      "needs_background": "light"
     },
     "output_type": "display_data"
    }
   ],
   "source": [
    "#Строим хитмэп\n",
    "plt.figure(figsize=(25, 15)) \n",
    "sns.heatmap(\n",
    "    retention_rate.drop(columns=[0]),\n",
    "    annot=True,\n",
    "    fmt='.2%'\n",
    ")\n",
    "plt.title('Тепловая карта удержания за 2021 год', fontsize=20)\n",
    "plt.xlabel('Lifetime', fontsize=15)\n",
    "plt.ylabel('Месяц', fontsize=15)\n",
    "\n",
    "plt.show()"
   ]
  },
  {
   "cell_type": "markdown",
   "id": "b5bd7d54",
   "metadata": {},
   "source": [
    "Пользователи, пришедшие в марте, почти в 2-2.5 раза хуже удерживаются по сравнению с январскими. \n",
    "На второй месяц использования мартовская когорта является 3-й по удержанию (31.02%), а к конццу года 5-й. К концу года всего 16,55% пользователей остались пользовователями приложения. С 3-го месяца использования приложения, количество пользователе резко падает, с 6-го выходит на плато.\n",
    "\n",
    "Пользователи, пришедшие в мае, почти в 2.5-3 раза хуже удерживаются по сравнению с январскими. \n",
    "На второй месяц использования майская когорта является 6-й по удержанию(27,46%), а к конццу года 8-й. Количетсво пользователей сокращается равномернее, чем в марте. К концу года 15,27% пользователей продолжают использовать приложение.\n",
    "\n",
    "Пользователи, пришедшие в июле имеют один из самый низкий процент удержания среди остальных когорт. На второй месяц 24,62%, на последний 14,82% - ниже только у июньской когорты.\n",
    "\n",
    "Лучше всего пользователи удерживаются в январской когорте. Это **может быть** связано с несколькими причинами:\n",
    "- высокий сервис обслуживания в первые дни нового года, который усиливает человеческий фактор (жить с комфортом).\n",
    "- вероятно пользователи получили бонусы за использование приложения в январе, что позволило усилить лояльность в течние года.\n",
    "- горизон анализа полный год, а значит, пользователи попали под все маркетинговые активности, что так же повлияло на их лояльность.\n",
    "\n",
    "В целом под гонец года активность падает. Помесячные показатели удержания с марта по ноябрь отличаются на сильно друг от друга: от 1,5 до 5 процентных пунктов. В сравнении с этим январь и февраль почти в 2 раза выше.\n",
    "\n",
    "**Рекомендации:**\n",
    "\n",
    "Возможно пользователям не хвает стимуляции: пуши с **акционными предложениями только** в приложении. \n",
    "\n",
    "Можно возвращать пользователей за счет геймефикации, например, получи бонус дня или собери фишки.\n",
    "\n",
    "<div class=\"alert alert-warning\"> Так же важно изучить воронку пользователей в приложении: барьеры в покупке, сложность интерфейса, взаимосвязь с качетсвом заказов.\n",
    "\n",
    "Так же нужно проанализировать маркетинговые активности: \n",
    "    \n",
    "    Почему вначале года пришло почти в 5 раз больше пользователей, чем в конце?\n",
    "    \n",
    "    С чем связано падение новых пользователей в мае и с августа по декабрь?\n",
    "</div>\n"
   ]
  },
  {
   "cell_type": "markdown",
   "id": "658925f0",
   "metadata": {},
   "source": [
    "### Выделение сегментов"
   ]
  },
  {
   "cell_type": "markdown",
   "id": "c21dff9f",
   "metadata": {},
   "source": [
    "Перед тем как выделить сегменты посмотрим на распределение показателей."
   ]
  },
  {
   "cell_type": "code",
   "execution_count": 52,
   "id": "fd8ba9a8",
   "metadata": {},
   "outputs": [
    {
     "data": {
      "text/html": [
       "<div>\n",
       "<style scoped>\n",
       "    .dataframe tbody tr th:only-of-type {\n",
       "        vertical-align: middle;\n",
       "    }\n",
       "\n",
       "    .dataframe tbody tr th {\n",
       "        vertical-align: top;\n",
       "    }\n",
       "\n",
       "    .dataframe thead th {\n",
       "        text-align: right;\n",
       "    }\n",
       "</style>\n",
       "<table border=\"1\" class=\"dataframe\">\n",
       "  <thead>\n",
       "    <tr style=\"text-align: right;\">\n",
       "      <th></th>\n",
       "      <th>order_number</th>\n",
       "      <th>filial</th>\n",
       "      <th>platform</th>\n",
       "      <th>order_score</th>\n",
       "      <th>status</th>\n",
       "      <th>dt_create_order</th>\n",
       "      <th>tm_create_order</th>\n",
       "      <th>tm_accept_order</th>\n",
       "      <th>delivery_type</th>\n",
       "      <th>dt_delivery_suitable</th>\n",
       "      <th>tm_delivery_suitable</th>\n",
       "      <th>tm_fact_delivery</th>\n",
       "      <th>delay</th>\n",
       "      <th>payment_status</th>\n",
       "      <th>payment_type</th>\n",
       "      <th>card_type</th>\n",
       "      <th>total_price_sums</th>\n",
       "      <th>total_price_receipt_sums</th>\n",
       "      <th>min_price_delivery_sums</th>\n",
       "      <th>payment_stripe_dl</th>\n",
       "      <th>payment_octo_sums</th>\n",
       "      <th>total_payment_card</th>\n",
       "      <th>dt_receipt</th>\n",
       "      <th>id_collector</th>\n",
       "      <th>id_deliveryman</th>\n",
       "      <th>id_client</th>\n",
       "      <th>district</th>\n",
       "      <th>id_district</th>\n",
       "    </tr>\n",
       "  </thead>\n",
       "  <tbody>\n",
       "    <tr>\n",
       "      <th>0</th>\n",
       "      <td>473851</td>\n",
       "      <td>Салом</td>\n",
       "      <td>Win32</td>\n",
       "      <td>0</td>\n",
       "      <td>Доставлено</td>\n",
       "      <td>2021-01-01</td>\n",
       "      <td>1900-01-01 02:52:00</td>\n",
       "      <td>1900-01-01 08:32:00</td>\n",
       "      <td>По расписанию</td>\n",
       "      <td>2021-01-02</td>\n",
       "      <td>1900-01-01 15:00:00</td>\n",
       "      <td>1900-01-01 13:23:00</td>\n",
       "      <td>-96.0</td>\n",
       "      <td>Оплачен</td>\n",
       "      <td>Наличными</td>\n",
       "      <td>NaN</td>\n",
       "      <td>178330.0</td>\n",
       "      <td>184730.00</td>\n",
       "      <td>15000</td>\n",
       "      <td>0.0</td>\n",
       "      <td>0.0</td>\n",
       "      <td>0.0</td>\n",
       "      <td>2021-01-02 12:51:00</td>\n",
       "      <td>6</td>\n",
       "      <td>18</td>\n",
       "      <td>2996805460517</td>\n",
       "      <td>Мирзо-Улугбекский район</td>\n",
       "      <td>3.995741e+12</td>\n",
       "    </tr>\n",
       "    <tr>\n",
       "      <th>1</th>\n",
       "      <td>473853</td>\n",
       "      <td>Караташ</td>\n",
       "      <td>Android</td>\n",
       "      <td>0</td>\n",
       "      <td>Доставлено</td>\n",
       "      <td>2021-01-01</td>\n",
       "      <td>1900-01-01 09:56:00</td>\n",
       "      <td>1900-01-01 08:17:00</td>\n",
       "      <td>По расписанию</td>\n",
       "      <td>2021-01-02</td>\n",
       "      <td>1900-01-01 12:00:00</td>\n",
       "      <td>1900-01-01 10:55:00</td>\n",
       "      <td>-64.0</td>\n",
       "      <td>Оплачен</td>\n",
       "      <td>Онлайн карта</td>\n",
       "      <td>Uzcard</td>\n",
       "      <td>150390.0</td>\n",
       "      <td>150690.00</td>\n",
       "      <td>15000</td>\n",
       "      <td>0.0</td>\n",
       "      <td>0.0</td>\n",
       "      <td>185780.0</td>\n",
       "      <td>2021-01-02 10:11:00</td>\n",
       "      <td>13</td>\n",
       "      <td>10</td>\n",
       "      <td>2996709564593</td>\n",
       "      <td>Алмазарский район</td>\n",
       "      <td>3.995613e+12</td>\n",
       "    </tr>\n",
       "    <tr>\n",
       "      <th>2</th>\n",
       "      <td>473854</td>\n",
       "      <td>Салом</td>\n",
       "      <td>iOS</td>\n",
       "      <td>0</td>\n",
       "      <td>Доставлено</td>\n",
       "      <td>2021-01-01</td>\n",
       "      <td>1900-01-01 10:06:00</td>\n",
       "      <td>1900-01-01 10:30:00</td>\n",
       "      <td>По расписанию</td>\n",
       "      <td>2021-01-02</td>\n",
       "      <td>1900-01-01 12:00:00</td>\n",
       "      <td>1900-01-01 11:59:00</td>\n",
       "      <td>0.0</td>\n",
       "      <td>Оплачен</td>\n",
       "      <td>Онлайн карта</td>\n",
       "      <td>Uzcard</td>\n",
       "      <td>144180.0</td>\n",
       "      <td>144180.00</td>\n",
       "      <td>15000</td>\n",
       "      <td>0.0</td>\n",
       "      <td>0.0</td>\n",
       "      <td>145680.0</td>\n",
       "      <td>2021-01-02 11:20:00</td>\n",
       "      <td>6</td>\n",
       "      <td>11</td>\n",
       "      <td>2996710516916</td>\n",
       "      <td>Мирзо-Улугбекский район</td>\n",
       "      <td>3.995614e+12</td>\n",
       "    </tr>\n",
       "    <tr>\n",
       "      <th>3</th>\n",
       "      <td>473855</td>\n",
       "      <td>Салом</td>\n",
       "      <td>MacIntel</td>\n",
       "      <td>0</td>\n",
       "      <td>Доставлено</td>\n",
       "      <td>2021-01-01</td>\n",
       "      <td>1900-01-01 10:06:00</td>\n",
       "      <td>1900-01-01 13:13:00</td>\n",
       "      <td>По расписанию</td>\n",
       "      <td>2021-01-02</td>\n",
       "      <td>1900-01-01 18:00:00</td>\n",
       "      <td>1900-01-01 16:21:00</td>\n",
       "      <td>-98.0</td>\n",
       "      <td>Оплачен</td>\n",
       "      <td>Онлайн карта</td>\n",
       "      <td>Uzcard</td>\n",
       "      <td>376038.0</td>\n",
       "      <td>375738.38</td>\n",
       "      <td>15000</td>\n",
       "      <td>0.0</td>\n",
       "      <td>0.0</td>\n",
       "      <td>422350.0</td>\n",
       "      <td>2021-01-02 15:33:00</td>\n",
       "      <td>9</td>\n",
       "      <td>18</td>\n",
       "      <td>2996700975179</td>\n",
       "      <td>Мирзо-Улугбекский район</td>\n",
       "      <td>3.995640e+12</td>\n",
       "    </tr>\n",
       "    <tr>\n",
       "      <th>4</th>\n",
       "      <td>473857</td>\n",
       "      <td>Сарыкулька</td>\n",
       "      <td>iOS</td>\n",
       "      <td>4</td>\n",
       "      <td>Доставлено</td>\n",
       "      <td>2021-01-01</td>\n",
       "      <td>1900-01-01 11:30:00</td>\n",
       "      <td>1900-01-01 08:43:00</td>\n",
       "      <td>По расписанию</td>\n",
       "      <td>2021-01-02</td>\n",
       "      <td>1900-01-01 12:00:00</td>\n",
       "      <td>1900-01-01 11:13:00</td>\n",
       "      <td>-46.0</td>\n",
       "      <td>Оплачен</td>\n",
       "      <td>Онлайн карта</td>\n",
       "      <td>Visa</td>\n",
       "      <td>498663.0</td>\n",
       "      <td>498583.88</td>\n",
       "      <td>15000</td>\n",
       "      <td>0.0</td>\n",
       "      <td>533882.0</td>\n",
       "      <td>533882.0</td>\n",
       "      <td>2021-01-02 11:02:00</td>\n",
       "      <td>14</td>\n",
       "      <td>22</td>\n",
       "      <td>2759620043621</td>\n",
       "      <td>Мирабадский район</td>\n",
       "      <td>3.995640e+12</td>\n",
       "    </tr>\n",
       "  </tbody>\n",
       "</table>\n",
       "</div>"
      ],
      "text/plain": [
       "   order_number      filial  platform  order_score      status  \\\n",
       "0        473851       Салом     Win32            0  Доставлено   \n",
       "1        473853     Караташ   Android            0  Доставлено   \n",
       "2        473854       Салом       iOS            0  Доставлено   \n",
       "3        473855       Салом  MacIntel            0  Доставлено   \n",
       "4        473857  Сарыкулька       iOS            4  Доставлено   \n",
       "\n",
       "  dt_create_order     tm_create_order     tm_accept_order  delivery_type  \\\n",
       "0      2021-01-01 1900-01-01 02:52:00 1900-01-01 08:32:00  По расписанию   \n",
       "1      2021-01-01 1900-01-01 09:56:00 1900-01-01 08:17:00  По расписанию   \n",
       "2      2021-01-01 1900-01-01 10:06:00 1900-01-01 10:30:00  По расписанию   \n",
       "3      2021-01-01 1900-01-01 10:06:00 1900-01-01 13:13:00  По расписанию   \n",
       "4      2021-01-01 1900-01-01 11:30:00 1900-01-01 08:43:00  По расписанию   \n",
       "\n",
       "  dt_delivery_suitable tm_delivery_suitable    tm_fact_delivery  delay  \\\n",
       "0           2021-01-02  1900-01-01 15:00:00 1900-01-01 13:23:00  -96.0   \n",
       "1           2021-01-02  1900-01-01 12:00:00 1900-01-01 10:55:00  -64.0   \n",
       "2           2021-01-02  1900-01-01 12:00:00 1900-01-01 11:59:00    0.0   \n",
       "3           2021-01-02  1900-01-01 18:00:00 1900-01-01 16:21:00  -98.0   \n",
       "4           2021-01-02  1900-01-01 12:00:00 1900-01-01 11:13:00  -46.0   \n",
       "\n",
       "  payment_status  payment_type card_type  total_price_sums  \\\n",
       "0        Оплачен     Наличными       NaN          178330.0   \n",
       "1        Оплачен  Онлайн карта    Uzcard          150390.0   \n",
       "2        Оплачен  Онлайн карта    Uzcard          144180.0   \n",
       "3        Оплачен  Онлайн карта    Uzcard          376038.0   \n",
       "4        Оплачен  Онлайн карта      Visa          498663.0   \n",
       "\n",
       "   total_price_receipt_sums  min_price_delivery_sums  payment_stripe_dl  \\\n",
       "0                 184730.00                    15000                0.0   \n",
       "1                 150690.00                    15000                0.0   \n",
       "2                 144180.00                    15000                0.0   \n",
       "3                 375738.38                    15000                0.0   \n",
       "4                 498583.88                    15000                0.0   \n",
       "\n",
       "   payment_octo_sums  total_payment_card          dt_receipt  id_collector  \\\n",
       "0                0.0                 0.0 2021-01-02 12:51:00             6   \n",
       "1                0.0            185780.0 2021-01-02 10:11:00            13   \n",
       "2                0.0            145680.0 2021-01-02 11:20:00             6   \n",
       "3                0.0            422350.0 2021-01-02 15:33:00             9   \n",
       "4           533882.0            533882.0 2021-01-02 11:02:00            14   \n",
       "\n",
       "   id_deliveryman      id_client                 district   id_district  \n",
       "0              18  2996805460517  Мирзо-Улугбекский район  3.995741e+12  \n",
       "1              10  2996709564593        Алмазарский район  3.995613e+12  \n",
       "2              11  2996710516916  Мирзо-Улугбекский район  3.995614e+12  \n",
       "3              18  2996700975179  Мирзо-Улугбекский район  3.995640e+12  \n",
       "4              22  2759620043621        Мирабадский район  3.995640e+12  "
      ]
     },
     "execution_count": 52,
     "metadata": {},
     "output_type": "execute_result"
    }
   ],
   "source": [
    "pd.set_option('max_columns', None)\n",
    "orders_21.head()"
   ]
  },
  {
   "cell_type": "code",
   "execution_count": 53,
   "id": "4b714a0e",
   "metadata": {},
   "outputs": [],
   "source": [
    "def hist(col, bin_c):\n",
    "    orders_21[col].hist(bins=bin_c, figsize=(15,10))\n",
    "    plt.xticks(rotation=45)\n",
    "    return plt.show()"
   ]
  },
  {
   "cell_type": "code",
   "execution_count": 54,
   "id": "f16bf49d",
   "metadata": {},
   "outputs": [
    {
     "data": {
      "text/plain": [
       "16"
      ]
     },
     "execution_count": 54,
     "metadata": {},
     "output_type": "execute_result"
    }
   ],
   "source": [
    "#Посмотрим распределение пользователей по филиалам\n",
    "orders_21['filial'].nunique()"
   ]
  },
  {
   "cell_type": "code",
   "execution_count": 55,
   "id": "72dcb523",
   "metadata": {},
   "outputs": [
    {
     "data": {
      "image/png": "[encoded data removed]",
      "text/plain": [
       "<Figure size 1080x720 with 1 Axes>"
      ]
     },
     "metadata": {
      "needs_background": "light"
     },
     "output_type": "display_data"
    }
   ],
   "source": [
    "hist('filial', 16)"
   ]
  },
  {
   "cell_type": "markdown",
   "id": "16261e87",
   "metadata": {},
   "source": [
    "Больше всего заказов из филиалов: Салом и Shedevr. Меньше всего из дугих городов: Бухара, Самраканд и Чирчик."
   ]
  },
  {
   "cell_type": "code",
   "execution_count": 56,
   "id": "6aa8f3a3",
   "metadata": {},
   "outputs": [
    {
     "data": {
      "text/plain": [
       "14"
      ]
     },
     "execution_count": 56,
     "metadata": {},
     "output_type": "execute_result"
    }
   ],
   "source": [
    "#Посмортим распределениепользователей по районам\n",
    "orders_21['district'].nunique()\n"
   ]
  },
  {
   "cell_type": "code",
   "execution_count": 57,
   "id": "fdc9b47c",
   "metadata": {},
   "outputs": [
    {
     "data": {
      "image/png": "[encoded data removed]",
      "text/plain": [
       "<Figure size 1080x720 with 1 Axes>"
      ]
     },
     "metadata": {
      "needs_background": "light"
     },
     "output_type": "display_data"
    }
   ],
   "source": [
    "hist('district', 14)"
   ]
  },
  {
   "cell_type": "markdown",
   "id": "43097bd3",
   "metadata": {},
   "source": [
    "Больше всего заказов из Мирзо-Улугбеского района и Юнусобадского. Меньше всего из других городов, а в Ташкенте из Сергелийского района."
   ]
  },
  {
   "cell_type": "code",
   "execution_count": 58,
   "id": "c0cf0fa1",
   "metadata": {},
   "outputs": [
    {
     "data": {
      "text/plain": [
       "10"
      ]
     },
     "execution_count": 58,
     "metadata": {},
     "output_type": "execute_result"
    }
   ],
   "source": [
    "#Посмотрим распределение пользователей по платформе\n",
    "orders_21['platform'].nunique()"
   ]
  },
  {
   "cell_type": "code",
   "execution_count": 59,
   "id": "bba9a121",
   "metadata": {},
   "outputs": [
    {
     "data": {
      "image/png": "[encoded data removed]",
      "text/plain": [
       "<Figure size 1080x720 with 1 Axes>"
      ]
     },
     "metadata": {
      "needs_background": "light"
     },
     "output_type": "display_data"
    }
   ],
   "source": [
    "hist('platform', 10)"
   ]
  },
  {
   "cell_type": "markdown",
   "id": "17438d59",
   "metadata": {},
   "source": [
    "Больше всего заказов через Andriod и iOS. Меньше всего через Linux. Не понятно, что входит в iOS, так как отдельно выделен iPhone и iPad. Возможно Mac + iPhone и iPad или только Mac."
   ]
  },
  {
   "cell_type": "markdown",
   "id": "005d80cf",
   "metadata": {},
   "source": [
    "Можно рассмотреть эти 2 лидирующих сегмента по удержанию."
   ]
  },
  {
   "cell_type": "code",
   "execution_count": 60,
   "id": "8f27666b",
   "metadata": {},
   "outputs": [],
   "source": [
    "#Посмотрим распределение по времени заказа\n",
    "orders_21['hour'] = orders_21['tm_create_order'].dt.hour"
   ]
  },
  {
   "cell_type": "code",
   "execution_count": 61,
   "id": "003db2a0",
   "metadata": {},
   "outputs": [
    {
     "data": {
      "image/png": "[encoded data removed]",
      "text/plain": [
       "<Figure size 1080x720 with 1 Axes>"
      ]
     },
     "metadata": {
      "needs_background": "light"
     },
     "output_type": "display_data"
    }
   ],
   "source": [
    "hist('hour', 24)"
   ]
  },
  {
   "cell_type": "markdown",
   "id": "c7992265",
   "metadata": {},
   "source": [
    "Чаще всего пользовтели заказывают в 11 утра, а меньше всего 5 утра."
   ]
  },
  {
   "cell_type": "code",
   "execution_count": 62,
   "id": "5a64546d",
   "metadata": {},
   "outputs": [],
   "source": [
    "#Смотрим, на какое время заказывают\n",
    "orders_21['hour2'] = orders_21['tm_delivery_suitable'].dt.hour"
   ]
  },
  {
   "cell_type": "code",
   "execution_count": 63,
   "id": "09f8cd07",
   "metadata": {},
   "outputs": [
    {
     "data": {
      "image/png": "[encoded data removed]",
      "text/plain": [
       "<Figure size 1080x720 with 1 Axes>"
      ]
     },
     "metadata": {
      "needs_background": "light"
     },
     "output_type": "display_data"
    }
   ],
   "source": [
    "hist('hour2', 24)"
   ]
  },
  {
   "cell_type": "markdown",
   "id": "2099d4e1",
   "metadata": {},
   "source": [
    "Чаще всего пользователи заказывают доставку к 15 часам. Доставка к 00.00 - аномалия?"
   ]
  },
  {
   "cell_type": "code",
   "execution_count": 64,
   "id": "5f6bad82",
   "metadata": {},
   "outputs": [
    {
     "data": {
      "image/png": "[encoded data removed]",
      "text/plain": [
       "<Figure size 1080x720 with 1 Axes>"
      ]
     },
     "metadata": {
      "needs_background": "light"
     },
     "output_type": "display_data"
    }
   ],
   "source": [
    "#Посмотрим распределение опозданий\n",
    "orders_21['delay'].hist(bins=1000, figsize=(15,10))\n",
    "plt.ylim(0, 300)\n",
    "plt.show()"
   ]
  },
  {
   "cell_type": "code",
   "execution_count": 65,
   "id": "b5217509",
   "metadata": {},
   "outputs": [],
   "source": [
    "orders_21['month'] = orders_21['dt_create_order'].dt.month"
   ]
  },
  {
   "cell_type": "code",
   "execution_count": 66,
   "id": "c74b4694",
   "metadata": {},
   "outputs": [
    {
     "data": {
      "text/plain": [
       "count    122279.000000\n",
       "mean        -21.245831\n",
       "std         236.244395\n",
       "min       -8664.000000\n",
       "25%         -44.000000\n",
       "50%         -22.000000\n",
       "75%          -5.000000\n",
       "max       45669.000000\n",
       "Name: delay, dtype: float64"
      ]
     },
     "execution_count": 66,
     "metadata": {},
     "output_type": "execute_result"
    }
   ],
   "source": [
    "orders_21['delay'].describe()"
   ]
  },
  {
   "cell_type": "markdown",
   "id": "4f59638a",
   "metadata": {},
   "source": [
    "Среднее и медиана почти одинаковые. Медиана больше среднего, значит распределение скошено вправо, хоть и не сильно. Все же хвост выбросов довольно длинный.\n",
    "\n",
    "В среднем заказ доставляют на 21 минту раньше. В большнстве случаев доставка приезжает без опозданий."
   ]
  },
  {
   "cell_type": "code",
   "execution_count": 67,
   "id": "a60e4d70",
   "metadata": {},
   "outputs": [
    {
     "data": {
      "image/png": "[encoded data removed]",
      "text/plain": [
       "<Figure size 1080x720 with 1 Axes>"
      ]
     },
     "metadata": {
      "needs_background": "light"
     },
     "output_type": "display_data"
    }
   ],
   "source": [
    "#Посмотрим распределение по типу оплаты\n",
    "hist('payment_type', 4)"
   ]
  },
  {
   "cell_type": "markdown",
   "id": "ce1e5451",
   "metadata": {},
   "source": [
    "Чаще всего заказы оплачивают наличными."
   ]
  },
  {
   "cell_type": "code",
   "execution_count": 68,
   "id": "851f4552",
   "metadata": {},
   "outputs": [
    {
     "data": {
      "image/png": "[encoded data removed]",
      "text/plain": [
       "<Figure size 1080x720 with 1 Axes>"
      ]
     },
     "metadata": {
      "needs_background": "light"
     },
     "output_type": "display_data"
    }
   ],
   "source": [
    "#Посмотрим распределение по типу карты\n",
    "hist('card_type', 4)"
   ]
  },
  {
   "cell_type": "markdown",
   "id": "879d612e",
   "metadata": {},
   "source": [
    "Больше всего пользователей с Uzcard, меньше всего HumoCard."
   ]
  },
  {
   "cell_type": "code",
   "execution_count": 69,
   "id": "71b283c6",
   "metadata": {},
   "outputs": [
    {
     "data": {
      "image/png": "[encoded data removed]",
      "text/plain": [
       "<Figure size 1080x720 with 1 Axes>"
      ]
     },
     "metadata": {
      "needs_background": "light"
     },
     "output_type": "display_data"
    }
   ],
   "source": [
    "#Посмотрим распределение по стоимости заказов\n",
    "hist('total_price_receipt_sums', 100)"
   ]
  },
  {
   "cell_type": "code",
   "execution_count": 70,
   "id": "7594bbd4",
   "metadata": {},
   "outputs": [
    {
     "data": {
      "text/html": [
       "<div>\n",
       "<style scoped>\n",
       "    .dataframe tbody tr th:only-of-type {\n",
       "        vertical-align: middle;\n",
       "    }\n",
       "\n",
       "    .dataframe tbody tr th {\n",
       "        vertical-align: top;\n",
       "    }\n",
       "\n",
       "    .dataframe thead th {\n",
       "        text-align: right;\n",
       "    }\n",
       "</style>\n",
       "<table border=\"1\" class=\"dataframe\">\n",
       "  <thead>\n",
       "    <tr style=\"text-align: right;\">\n",
       "      <th></th>\n",
       "      <th>total_price_receipt_sums</th>\n",
       "    </tr>\n",
       "  </thead>\n",
       "  <tbody>\n",
       "    <tr>\n",
       "      <th>count</th>\n",
       "      <td>122303</td>\n",
       "    </tr>\n",
       "    <tr>\n",
       "      <th>mean</th>\n",
       "      <td>312988</td>\n",
       "    </tr>\n",
       "    <tr>\n",
       "      <th>std</th>\n",
       "      <td>321094</td>\n",
       "    </tr>\n",
       "    <tr>\n",
       "      <th>min</th>\n",
       "      <td>2038</td>\n",
       "    </tr>\n",
       "    <tr>\n",
       "      <th>25%</th>\n",
       "      <td>133908</td>\n",
       "    </tr>\n",
       "    <tr>\n",
       "      <th>50%</th>\n",
       "      <td>227057</td>\n",
       "    </tr>\n",
       "    <tr>\n",
       "      <th>75%</th>\n",
       "      <td>378954</td>\n",
       "    </tr>\n",
       "    <tr>\n",
       "      <th>max</th>\n",
       "      <td>11920000</td>\n",
       "    </tr>\n",
       "  </tbody>\n",
       "</table>\n",
       "</div>"
      ],
      "text/plain": [
       "       total_price_receipt_sums\n",
       "count                    122303\n",
       "mean                     312988\n",
       "std                      321094\n",
       "min                        2038\n",
       "25%                      133908\n",
       "50%                      227057\n",
       "75%                      378954\n",
       "max                    11920000"
      ]
     },
     "execution_count": 70,
     "metadata": {},
     "output_type": "execute_result"
    }
   ],
   "source": [
    "pd.set_option('display.float_format', lambda x: '%.f' % x)\n",
    "orders_21['total_price_receipt_sums'].describe().to_frame()"
   ]
  },
  {
   "cell_type": "markdown",
   "id": "fabf781b",
   "metadata": {},
   "source": [
    "Среднее отлицается от медианы из-за больших выбросов. За среднее в дальнейшем будем принамить медиану.\n",
    "\n",
    "Таким образом средний чек заказа — 227057 сумов. Большинство пользователей заказывают на сумму до 378954 сумов."
   ]
  },
  {
   "cell_type": "markdown",
   "id": "528a48aa",
   "metadata": {},
   "source": [
    "**Вывод**\n",
    "На основе данных по распределению можно выделить следующие сегменты по следующим характеристикам:\n",
    "- районы доставки\n",
    "- способы оплаты\n",
    "- виды карт\n",
    "- тип ОС\n",
    "- временя заказа\n",
    "- время доствка\n",
    "- задержка\n",
    "- стоимость заказа\n",
    "\n",
    "Мы для анализа возьмем стоимость заказа и рассмотрим, как она влияет на удержание.\n"
   ]
  },
  {
   "cell_type": "markdown",
   "id": "4dfe7426",
   "metadata": {},
   "source": [
    "### Анализ стоимости заказа"
   ]
  },
  {
   "cell_type": "markdown",
   "id": "503358fc",
   "metadata": {},
   "source": [
    "Для начала нам необходимо разделить стоимость заказа на категории, которые мы можем в дальнейшем сравнить. Для этого удалим выбросы и создадим категории."
   ]
  },
  {
   "cell_type": "code",
   "execution_count": 71,
   "id": "379edd49",
   "metadata": {},
   "outputs": [
    {
     "name": "stdout",
     "output_type": "stream",
     "text": [
      "Верхняя граница выбросов: 746522.9550000001\n"
     ]
    }
   ],
   "source": [
    "q3 = orders_21['total_price_receipt_sums'].quantile(0.75) + 1.5*(orders_21['total_price_receipt_sums'].quantile(0.75) - orders_21['total_price_receipt_sums'].quantile(0.25))\n",
    "print(f\"Верхняя граница выбросов: {q3}\")"
   ]
  },
  {
   "cell_type": "code",
   "execution_count": 72,
   "id": "bed17b91",
   "metadata": {},
   "outputs": [],
   "source": [
    "#Удалим выбросы\n",
    "orders_21 = orders_21.query('total_price_receipt_sums <= 746523')"
   ]
  },
  {
   "cell_type": "markdown",
   "id": "dcf0b578",
   "metadata": {},
   "source": [
    "#### Анализ распределения стоимостей заказов по категориям"
   ]
  },
  {
   "cell_type": "code",
   "execution_count": 73,
   "id": "da6ea698",
   "metadata": {},
   "outputs": [],
   "source": [
    "#Посмотрим в каком филиале стоимость заказов выше других\n",
    "def box_plot(x, title, xl):\n",
    "\n",
    "    plt.figure(figsize=(25, 15)) \n",
    "    sns.boxplot(x=x, y='total_price_receipt_sums', data=orders_21)\n",
    "    plt.title('Распределение стоимости заказов по ' + title, fontsize=20)\n",
    "    plt.xlabel(xl)\n",
    "    plt.ylabel('Стоимость заказа')\n",
    "    plt.xticks(rotation=45)\n",
    "    return plt.show()  "
   ]
  },
  {
   "cell_type": "code",
   "execution_count": 74,
   "id": "01275d82",
   "metadata": {},
   "outputs": [
    {
     "data": {
      "image/png": "[encoded data removed]",
      "text/plain": [
       "<Figure size 1800x1080 with 1 Axes>"
      ]
     },
     "metadata": {
      "needs_background": "light"
     },
     "output_type": "display_data"
    }
   ],
   "source": [
    "box_plot('filial', 'филиалам', 'Филиалы')"
   ]
  },
  {
   "cell_type": "markdown",
   "id": "090b3b7b",
   "metadata": {},
   "source": [
    "Более плотно стоимости заказов распределены в филиале Буденкор: 75% чеков выше других, и средний чек выше остальных."
   ]
  },
  {
   "cell_type": "code",
   "execution_count": 75,
   "id": "182e3b20",
   "metadata": {},
   "outputs": [
    {
     "data": {
      "image/png": "[encoded data removed]",
      "text/plain": [
       "<Figure size 1800x1080 with 1 Axes>"
      ]
     },
     "metadata": {
      "needs_background": "light"
     },
     "output_type": "display_data"
    }
   ],
   "source": [
    "#Посмотрим распределение чеков по районам\n",
    "box_plot('district', 'районам', 'Районы')"
   ]
  },
  {
   "cell_type": "markdown",
   "id": "b8727c83",
   "metadata": {},
   "source": [
    "Самый большой разброс в чеках в Бухаре.\n",
    "\n",
    "В Ташкенте по районам больше всего разброс в Бектемирском районе, но средний чек выше остальных, а 75% заказов выше, чем в других районах. Этот район удален от центра, возможно причиной является удаленность от инфраструктуры, поэтому жители заказывают больше продуктов.\n",
    "\n",
    "Плотнее всего стоимость заказов сосредоточена в Яшнабадском районе, но средний чек там не самый высокий."
   ]
  },
  {
   "cell_type": "code",
   "execution_count": 76,
   "id": "e4d906fb",
   "metadata": {},
   "outputs": [
    {
     "data": {
      "image/png": "[encoded data removed]",
      "text/plain": [
       "<Figure size 1800x1080 with 1 Axes>"
      ]
     },
     "metadata": {
      "needs_background": "light"
     },
     "output_type": "display_data"
    }
   ],
   "source": [
    "#Посмотрим распределение чеков по способу оплаты\n",
    "box_plot('payment_type', 'способу оплаты', 'Способ оплаты')"
   ]
  },
  {
   "cell_type": "markdown",
   "id": "4fc18770",
   "metadata": {},
   "source": [
    "Когда пользователи оплачивают баллами и картой, то их средний чек выше. Плотнее всего оплаты сосредочены в наличных, но средний чек ниже тех, кто оплачивает картой."
   ]
  },
  {
   "cell_type": "code",
   "execution_count": 77,
   "id": "05ef4dcc",
   "metadata": {},
   "outputs": [
    {
     "data": {
      "image/png": "[encoded data removed]",
      "text/plain": [
       "<Figure size 1800x1080 with 1 Axes>"
      ]
     },
     "metadata": {
      "needs_background": "light"
     },
     "output_type": "display_data"
    }
   ],
   "source": [
    "#Посмотрим распределение чеков по типу карты\n",
    "box_plot('card_type', 'типу карты', 'Тип карты')"
   ]
  },
  {
   "cell_type": "markdown",
   "id": "b702a7a6",
   "metadata": {},
   "source": [
    "Плотнее всего стоимость заказов распределена у HumoCard - пользователи стабильнее остальных оплачивают покупки на сумумму близкую к среднему чеку.\n",
    "\n",
    "В вот средний чек выше у Visа, хотя распределение более свободное."
   ]
  },
  {
   "cell_type": "code",
   "execution_count": 78,
   "id": "64b6dc98",
   "metadata": {},
   "outputs": [
    {
     "data": {
      "image/png": "[encoded data removed]",
      "text/plain": [
       "<Figure size 1800x1080 with 1 Axes>"
      ]
     },
     "metadata": {
      "needs_background": "light"
     },
     "output_type": "display_data"
    }
   ],
   "source": [
    "#Посмотрим распределение чеков по времени заказа\n",
    "box_plot('hour', 'часам', 'Часы')"
   ]
  },
  {
   "cell_type": "markdown",
   "id": "7d8410ff",
   "metadata": {},
   "source": [
    "Выше остальных средние чеки при заказе в 22 и 23 часа. Вероятно, пользователи осознанно планируют список продуктов. \n",
    "\n",
    "Плотнее остальных чеки распределены в 17 часов — вероятно, пользователи стабильно покупают продукты на ужин и возможно заказывают почти одно и тоже. "
   ]
  },
  {
   "cell_type": "code",
   "execution_count": 79,
   "id": "d1e0e6f1",
   "metadata": {},
   "outputs": [
    {
     "data": {
      "image/png": "[encoded data removed]",
      "text/plain": [
       "<Figure size 1800x1080 with 1 Axes>"
      ]
     },
     "metadata": {
      "needs_background": "light"
     },
     "output_type": "display_data"
    }
   ],
   "source": [
    "#Посмотрим распределение стоиомстей заказов по дням недели\n",
    "orders_21['weekday'] = orders_21['dt_create_order'].dt.weekday\n",
    "box_plot('weekday', 'дням недели', 'Дни недели')"
   ]
  },
  {
   "cell_type": "code",
   "execution_count": 80,
   "id": "c8084de7",
   "metadata": {},
   "outputs": [
    {
     "data": {
      "image/png": "[encoded data removed]",
      "text/plain": [
       "<Figure size 1080x720 with 1 Axes>"
      ]
     },
     "metadata": {
      "needs_background": "light"
     },
     "output_type": "display_data"
    }
   ],
   "source": [
    "hist('weekday', 7)"
   ]
  },
  {
   "cell_type": "markdown",
   "id": "9492ea2b",
   "metadata": {},
   "source": [
    "Данные по дням недели почти не отличаются. Больше всего заказов в субботу. Меньше всего в понедельник."
   ]
  },
  {
   "cell_type": "markdown",
   "id": "78d1c5db",
   "metadata": {},
   "source": [
    "#### Анализ удержания пользователей по категориям стоимостей заказов"
   ]
  },
  {
   "cell_type": "code",
   "execution_count": 81,
   "id": "1bf5a80c",
   "metadata": {},
   "outputs": [
    {
     "name": "stdout",
     "output_type": "stream",
     "text": [
      "[128246.36 176962.4  255108.2  338765.03 746514.66]\n"
     ]
    }
   ],
   "source": [
    "print(np.percentile(orders_21['total_price_receipt_sums'], [25,40, 60, 75, 100]))"
   ]
  },
  {
   "cell_type": "markdown",
   "id": "b438b770",
   "metadata": {},
   "source": [
    "Сформируем категории стоимостей:\n",
    "\n",
    " - А - заказы стоимостью меньше 133909 сумов\n",
    " - B - заказы стоимостью меньше 176963 сумов\n",
    " - C - заказы стоимостью меньше 255109 сумов\n",
    " - D - заказы стоимостью меньше 338766 сумов\n",
    " - E - заказы стоимостью меньше 746515 сумов"
   ]
  },
  {
   "cell_type": "code",
   "execution_count": 82,
   "id": "1491e3d4",
   "metadata": {},
   "outputs": [],
   "source": [
    "#Добавим столбец с категорией\n",
    "def categorize_price_receipt(row):\n",
    "    if row < 133909:\n",
    "        return 'A'\n",
    "    elif row >= 133909 and row <176963:\n",
    "        return 'B'\n",
    "    elif row >= 176963 and row <255109:\n",
    "        return 'C'\n",
    "    elif row >= 255109 and row <338766:\n",
    "        return 'D'\n",
    "    elif row >= 338766:\n",
    "        return 'E'\n",
    "    "
   ]
  },
  {
   "cell_type": "code",
   "execution_count": 83,
   "id": "fea44aeb",
   "metadata": {},
   "outputs": [
    {
     "data": {
      "text/html": [
       "<div>\n",
       "<style scoped>\n",
       "    .dataframe tbody tr th:only-of-type {\n",
       "        vertical-align: middle;\n",
       "    }\n",
       "\n",
       "    .dataframe tbody tr th {\n",
       "        vertical-align: top;\n",
       "    }\n",
       "\n",
       "    .dataframe thead th {\n",
       "        text-align: right;\n",
       "    }\n",
       "</style>\n",
       "<table border=\"1\" class=\"dataframe\">\n",
       "  <thead>\n",
       "    <tr style=\"text-align: right;\">\n",
       "      <th></th>\n",
       "      <th>order_number</th>\n",
       "      <th>filial</th>\n",
       "      <th>platform</th>\n",
       "      <th>order_score</th>\n",
       "      <th>status</th>\n",
       "      <th>dt_create_order</th>\n",
       "      <th>tm_create_order</th>\n",
       "      <th>tm_accept_order</th>\n",
       "      <th>delivery_type</th>\n",
       "      <th>dt_delivery_suitable</th>\n",
       "      <th>tm_delivery_suitable</th>\n",
       "      <th>tm_fact_delivery</th>\n",
       "      <th>delay</th>\n",
       "      <th>payment_status</th>\n",
       "      <th>payment_type</th>\n",
       "      <th>card_type</th>\n",
       "      <th>total_price_sums</th>\n",
       "      <th>total_price_receipt_sums</th>\n",
       "      <th>min_price_delivery_sums</th>\n",
       "      <th>payment_stripe_dl</th>\n",
       "      <th>payment_octo_sums</th>\n",
       "      <th>total_payment_card</th>\n",
       "      <th>dt_receipt</th>\n",
       "      <th>id_collector</th>\n",
       "      <th>id_deliveryman</th>\n",
       "      <th>id_client</th>\n",
       "      <th>district</th>\n",
       "      <th>id_district</th>\n",
       "      <th>hour</th>\n",
       "      <th>hour2</th>\n",
       "      <th>month</th>\n",
       "      <th>weekday</th>\n",
       "      <th>category_receipt</th>\n",
       "    </tr>\n",
       "  </thead>\n",
       "  <tbody>\n",
       "    <tr>\n",
       "      <th>0</th>\n",
       "      <td>473851</td>\n",
       "      <td>Салом</td>\n",
       "      <td>Win32</td>\n",
       "      <td>0</td>\n",
       "      <td>Доставлено</td>\n",
       "      <td>2021-01-01</td>\n",
       "      <td>1900-01-01 02:52:00</td>\n",
       "      <td>1900-01-01 08:32:00</td>\n",
       "      <td>По расписанию</td>\n",
       "      <td>2021-01-02</td>\n",
       "      <td>1900-01-01 15:00:00</td>\n",
       "      <td>1900-01-01 13:23:00</td>\n",
       "      <td>-96</td>\n",
       "      <td>Оплачен</td>\n",
       "      <td>Наличными</td>\n",
       "      <td>NaN</td>\n",
       "      <td>178330</td>\n",
       "      <td>184730</td>\n",
       "      <td>15000</td>\n",
       "      <td>0</td>\n",
       "      <td>0</td>\n",
       "      <td>0</td>\n",
       "      <td>2021-01-02 12:51:00</td>\n",
       "      <td>6</td>\n",
       "      <td>18</td>\n",
       "      <td>2996805460517</td>\n",
       "      <td>Мирзо-Улугбекский район</td>\n",
       "      <td>3995740614019</td>\n",
       "      <td>2</td>\n",
       "      <td>15</td>\n",
       "      <td>1</td>\n",
       "      <td>4</td>\n",
       "      <td>C</td>\n",
       "    </tr>\n",
       "    <tr>\n",
       "      <th>1</th>\n",
       "      <td>473853</td>\n",
       "      <td>Караташ</td>\n",
       "      <td>Android</td>\n",
       "      <td>0</td>\n",
       "      <td>Доставлено</td>\n",
       "      <td>2021-01-01</td>\n",
       "      <td>1900-01-01 09:56:00</td>\n",
       "      <td>1900-01-01 08:17:00</td>\n",
       "      <td>По расписанию</td>\n",
       "      <td>2021-01-02</td>\n",
       "      <td>1900-01-01 12:00:00</td>\n",
       "      <td>1900-01-01 10:55:00</td>\n",
       "      <td>-64</td>\n",
       "      <td>Оплачен</td>\n",
       "      <td>Онлайн карта</td>\n",
       "      <td>Uzcard</td>\n",
       "      <td>150390</td>\n",
       "      <td>150690</td>\n",
       "      <td>15000</td>\n",
       "      <td>0</td>\n",
       "      <td>0</td>\n",
       "      <td>185780</td>\n",
       "      <td>2021-01-02 10:11:00</td>\n",
       "      <td>13</td>\n",
       "      <td>10</td>\n",
       "      <td>2996709564593</td>\n",
       "      <td>Алмазарский район</td>\n",
       "      <td>3995612752787</td>\n",
       "      <td>9</td>\n",
       "      <td>12</td>\n",
       "      <td>1</td>\n",
       "      <td>4</td>\n",
       "      <td>B</td>\n",
       "    </tr>\n",
       "    <tr>\n",
       "      <th>2</th>\n",
       "      <td>473854</td>\n",
       "      <td>Салом</td>\n",
       "      <td>iOS</td>\n",
       "      <td>0</td>\n",
       "      <td>Доставлено</td>\n",
       "      <td>2021-01-01</td>\n",
       "      <td>1900-01-01 10:06:00</td>\n",
       "      <td>1900-01-01 10:30:00</td>\n",
       "      <td>По расписанию</td>\n",
       "      <td>2021-01-02</td>\n",
       "      <td>1900-01-01 12:00:00</td>\n",
       "      <td>1900-01-01 11:59:00</td>\n",
       "      <td>0</td>\n",
       "      <td>Оплачен</td>\n",
       "      <td>Онлайн карта</td>\n",
       "      <td>Uzcard</td>\n",
       "      <td>144180</td>\n",
       "      <td>144180</td>\n",
       "      <td>15000</td>\n",
       "      <td>0</td>\n",
       "      <td>0</td>\n",
       "      <td>145680</td>\n",
       "      <td>2021-01-02 11:20:00</td>\n",
       "      <td>6</td>\n",
       "      <td>11</td>\n",
       "      <td>2996710516916</td>\n",
       "      <td>Мирзо-Улугбекский район</td>\n",
       "      <td>3995614022551</td>\n",
       "      <td>10</td>\n",
       "      <td>12</td>\n",
       "      <td>1</td>\n",
       "      <td>4</td>\n",
       "      <td>B</td>\n",
       "    </tr>\n",
       "    <tr>\n",
       "      <th>3</th>\n",
       "      <td>473855</td>\n",
       "      <td>Салом</td>\n",
       "      <td>MacIntel</td>\n",
       "      <td>0</td>\n",
       "      <td>Доставлено</td>\n",
       "      <td>2021-01-01</td>\n",
       "      <td>1900-01-01 10:06:00</td>\n",
       "      <td>1900-01-01 13:13:00</td>\n",
       "      <td>По расписанию</td>\n",
       "      <td>2021-01-02</td>\n",
       "      <td>1900-01-01 18:00:00</td>\n",
       "      <td>1900-01-01 16:21:00</td>\n",
       "      <td>-98</td>\n",
       "      <td>Оплачен</td>\n",
       "      <td>Онлайн карта</td>\n",
       "      <td>Uzcard</td>\n",
       "      <td>376038</td>\n",
       "      <td>375738</td>\n",
       "      <td>15000</td>\n",
       "      <td>0</td>\n",
       "      <td>0</td>\n",
       "      <td>422350</td>\n",
       "      <td>2021-01-02 15:33:00</td>\n",
       "      <td>9</td>\n",
       "      <td>18</td>\n",
       "      <td>2996700975179</td>\n",
       "      <td>Мирзо-Улугбекский район</td>\n",
       "      <td>3995639915495</td>\n",
       "      <td>10</td>\n",
       "      <td>18</td>\n",
       "      <td>1</td>\n",
       "      <td>4</td>\n",
       "      <td>E</td>\n",
       "    </tr>\n",
       "    <tr>\n",
       "      <th>4</th>\n",
       "      <td>473857</td>\n",
       "      <td>Сарыкулька</td>\n",
       "      <td>iOS</td>\n",
       "      <td>4</td>\n",
       "      <td>Доставлено</td>\n",
       "      <td>2021-01-01</td>\n",
       "      <td>1900-01-01 11:30:00</td>\n",
       "      <td>1900-01-01 08:43:00</td>\n",
       "      <td>По расписанию</td>\n",
       "      <td>2021-01-02</td>\n",
       "      <td>1900-01-01 12:00:00</td>\n",
       "      <td>1900-01-01 11:13:00</td>\n",
       "      <td>-46</td>\n",
       "      <td>Оплачен</td>\n",
       "      <td>Онлайн карта</td>\n",
       "      <td>Visa</td>\n",
       "      <td>498663</td>\n",
       "      <td>498584</td>\n",
       "      <td>15000</td>\n",
       "      <td>0</td>\n",
       "      <td>533882</td>\n",
       "      <td>533882</td>\n",
       "      <td>2021-01-02 11:02:00</td>\n",
       "      <td>14</td>\n",
       "      <td>22</td>\n",
       "      <td>2759620043621</td>\n",
       "      <td>Мирабадский район</td>\n",
       "      <td>3995639854775</td>\n",
       "      <td>11</td>\n",
       "      <td>12</td>\n",
       "      <td>1</td>\n",
       "      <td>4</td>\n",
       "      <td>E</td>\n",
       "    </tr>\n",
       "  </tbody>\n",
       "</table>\n",
       "</div>"
      ],
      "text/plain": [
       "   order_number      filial  platform  order_score      status  \\\n",
       "0        473851       Салом     Win32            0  Доставлено   \n",
       "1        473853     Караташ   Android            0  Доставлено   \n",
       "2        473854       Салом       iOS            0  Доставлено   \n",
       "3        473855       Салом  MacIntel            0  Доставлено   \n",
       "4        473857  Сарыкулька       iOS            4  Доставлено   \n",
       "\n",
       "  dt_create_order     tm_create_order     tm_accept_order  delivery_type  \\\n",
       "0      2021-01-01 1900-01-01 02:52:00 1900-01-01 08:32:00  По расписанию   \n",
       "1      2021-01-01 1900-01-01 09:56:00 1900-01-01 08:17:00  По расписанию   \n",
       "2      2021-01-01 1900-01-01 10:06:00 1900-01-01 10:30:00  По расписанию   \n",
       "3      2021-01-01 1900-01-01 10:06:00 1900-01-01 13:13:00  По расписанию   \n",
       "4      2021-01-01 1900-01-01 11:30:00 1900-01-01 08:43:00  По расписанию   \n",
       "\n",
       "  dt_delivery_suitable tm_delivery_suitable    tm_fact_delivery  delay  \\\n",
       "0           2021-01-02  1900-01-01 15:00:00 1900-01-01 13:23:00    -96   \n",
       "1           2021-01-02  1900-01-01 12:00:00 1900-01-01 10:55:00    -64   \n",
       "2           2021-01-02  1900-01-01 12:00:00 1900-01-01 11:59:00      0   \n",
       "3           2021-01-02  1900-01-01 18:00:00 1900-01-01 16:21:00    -98   \n",
       "4           2021-01-02  1900-01-01 12:00:00 1900-01-01 11:13:00    -46   \n",
       "\n",
       "  payment_status  payment_type card_type  total_price_sums  \\\n",
       "0        Оплачен     Наличными       NaN            178330   \n",
       "1        Оплачен  Онлайн карта    Uzcard            150390   \n",
       "2        Оплачен  Онлайн карта    Uzcard            144180   \n",
       "3        Оплачен  Онлайн карта    Uzcard            376038   \n",
       "4        Оплачен  Онлайн карта      Visa            498663   \n",
       "\n",
       "   total_price_receipt_sums  min_price_delivery_sums  payment_stripe_dl  \\\n",
       "0                    184730                    15000                  0   \n",
       "1                    150690                    15000                  0   \n",
       "2                    144180                    15000                  0   \n",
       "3                    375738                    15000                  0   \n",
       "4                    498584                    15000                  0   \n",
       "\n",
       "   payment_octo_sums  total_payment_card          dt_receipt  id_collector  \\\n",
       "0                  0                   0 2021-01-02 12:51:00             6   \n",
       "1                  0              185780 2021-01-02 10:11:00            13   \n",
       "2                  0              145680 2021-01-02 11:20:00             6   \n",
       "3                  0              422350 2021-01-02 15:33:00             9   \n",
       "4             533882              533882 2021-01-02 11:02:00            14   \n",
       "\n",
       "   id_deliveryman      id_client                 district   id_district  hour  \\\n",
       "0              18  2996805460517  Мирзо-Улугбекский район 3995740614019     2   \n",
       "1              10  2996709564593        Алмазарский район 3995612752787     9   \n",
       "2              11  2996710516916  Мирзо-Улугбекский район 3995614022551    10   \n",
       "3              18  2996700975179  Мирзо-Улугбекский район 3995639915495    10   \n",
       "4              22  2759620043621        Мирабадский район 3995639854775    11   \n",
       "\n",
       "   hour2  month  weekday category_receipt  \n",
       "0     15      1        4                C  \n",
       "1     12      1        4                B  \n",
       "2     12      1        4                B  \n",
       "3     18      1        4                E  \n",
       "4     12      1        4                E  "
      ]
     },
     "execution_count": 83,
     "metadata": {},
     "output_type": "execute_result"
    }
   ],
   "source": [
    "orders_21['category_receipt'] = orders_21['total_price_receipt_sums'].apply(categorize_price_receipt)\n",
    "orders_21.head()"
   ]
  },
  {
   "cell_type": "code",
   "execution_count": 84,
   "id": "94c339d6",
   "metadata": {},
   "outputs": [],
   "source": [
    "def retention_rate(data, dimensions, m):\n",
    "#Выделим первое посещение пользователя\n",
    "    dt_first = data.groupby('id_client').agg({'dt_create_order': 'min'})\n",
    "    dt_first['dt_create_order'] = dt_first['dt_create_order'].dt.month\n",
    "    dt_first = dt_first.rename(columns={'dt_create_order': 'month_first_order'})\n",
    "\n",
    "#Выделим даты заказов\n",
    "    clients_orders = data[['id_client', 'dt_create_order', dimensions]]\n",
    "    clients_orders['dt_create_order'] = clients_orders['dt_create_order'].dt.month\n",
    "    clients_orders = clients_orders.rename(columns={'dt_create_order': 'month_order'})    \n",
    "\n",
    "#Объеденим таблицы для рассчета livetime\n",
    "    clients_orders = clients_orders.merge(dt_first, on='id_client', how='left')   \n",
    "\n",
    "#Высчитываем lifetime для пользователей\n",
    "    clients_orders['lifetime'] = (\n",
    "        clients_orders['month_order'] - clients_orders['month_first_order']\n",
    "    )\n",
    "    \n",
    "    clients_orders = clients_orders.query('month_first_order == @m')\n",
    "    \n",
    "#Строим таблицу удержания\n",
    "    result_grouped = clients_orders.pivot_table(\n",
    "        index=[dimensions, 'month_first_order'],  \n",
    "        columns='lifetime',\n",
    "        values='id_client',\n",
    "        aggfunc='nunique',\n",
    "    )\n",
    "    \n",
    "#Считаем размеры когорт\n",
    "    cohort_sizes = (\n",
    "        clients_orders.groupby(dimensions)\n",
    "        .agg({'id_client': 'nunique'})\n",
    "        .rename(columns={'id_client': 'cohort_size'})\n",
    "    )\n",
    "\n",
    "#Объединяем размеры когорт и таблицу удержания\n",
    "    result_grouped = cohort_sizes.merge(\n",
    "        result_grouped, on=dimensions, how='left'  \n",
    "    ).fillna(0)\n",
    "    result_grouped = result_grouped.div(result_grouped['cohort_size'], axis=0)\n",
    "    \n",
    "    \n",
    "    return result_grouped"
   ]
  },
  {
   "cell_type": "code",
   "execution_count": 85,
   "id": "03e2512e",
   "metadata": {},
   "outputs": [],
   "source": [
    "#Строим криву по месяцу с разбивной по стоимости заказа\n",
    "def retention_rate_plot(data, text_month):\n",
    "    data = data.drop(columns=['cohort_size'])\n",
    "    data.T.plot(grid=True, xticks=list(data.columns.values), figsize=(15, 5))\n",
    "    plt.xlabel('Лайфтайм')\n",
    "    plt.title('Кривые удержания с разбивкой по стоимости чека ' + text_month)\n",
    "    \n",
    "    return plt.show()"
   ]
  },
  {
   "cell_type": "code",
   "execution_count": 86,
   "id": "da5c18b0",
   "metadata": {},
   "outputs": [
    {
     "data": {
      "text/html": [
       "<div>\n",
       "<style scoped>\n",
       "    .dataframe tbody tr th:only-of-type {\n",
       "        vertical-align: middle;\n",
       "    }\n",
       "\n",
       "    .dataframe tbody tr th {\n",
       "        vertical-align: top;\n",
       "    }\n",
       "\n",
       "    .dataframe thead th {\n",
       "        text-align: right;\n",
       "    }\n",
       "</style>\n",
       "<table border=\"1\" class=\"dataframe\">\n",
       "  <thead>\n",
       "    <tr style=\"text-align: right;\">\n",
       "      <th></th>\n",
       "      <th>cohort_size</th>\n",
       "      <th>0</th>\n",
       "      <th>1</th>\n",
       "      <th>2</th>\n",
       "      <th>3</th>\n",
       "      <th>4</th>\n",
       "      <th>5</th>\n",
       "      <th>6</th>\n",
       "      <th>7</th>\n",
       "      <th>8</th>\n",
       "      <th>9</th>\n",
       "    </tr>\n",
       "    <tr>\n",
       "      <th>category_receipt</th>\n",
       "      <th></th>\n",
       "      <th></th>\n",
       "      <th></th>\n",
       "      <th></th>\n",
       "      <th></th>\n",
       "      <th></th>\n",
       "      <th></th>\n",
       "      <th></th>\n",
       "      <th></th>\n",
       "      <th></th>\n",
       "      <th></th>\n",
       "    </tr>\n",
       "  </thead>\n",
       "  <tbody>\n",
       "    <tr>\n",
       "      <th>A</th>\n",
       "      <td>1.0</td>\n",
       "      <td>0.750999</td>\n",
       "      <td>0.187750</td>\n",
       "      <td>0.169108</td>\n",
       "      <td>0.141145</td>\n",
       "      <td>0.117177</td>\n",
       "      <td>0.083888</td>\n",
       "      <td>0.087883</td>\n",
       "      <td>0.098535</td>\n",
       "      <td>0.083888</td>\n",
       "      <td>0.074567</td>\n",
       "    </tr>\n",
       "    <tr>\n",
       "      <th>B</th>\n",
       "      <td>1.0</td>\n",
       "      <td>0.508600</td>\n",
       "      <td>0.206388</td>\n",
       "      <td>0.171990</td>\n",
       "      <td>0.147420</td>\n",
       "      <td>0.142506</td>\n",
       "      <td>0.090909</td>\n",
       "      <td>0.113022</td>\n",
       "      <td>0.130221</td>\n",
       "      <td>0.105651</td>\n",
       "      <td>0.095823</td>\n",
       "    </tr>\n",
       "    <tr>\n",
       "      <th>C</th>\n",
       "      <td>1.0</td>\n",
       "      <td>0.549696</td>\n",
       "      <td>0.212982</td>\n",
       "      <td>0.174442</td>\n",
       "      <td>0.186613</td>\n",
       "      <td>0.180527</td>\n",
       "      <td>0.129817</td>\n",
       "      <td>0.148073</td>\n",
       "      <td>0.137931</td>\n",
       "      <td>0.131846</td>\n",
       "      <td>0.119675</td>\n",
       "    </tr>\n",
       "    <tr>\n",
       "      <th>D</th>\n",
       "      <td>1.0</td>\n",
       "      <td>0.462338</td>\n",
       "      <td>0.220779</td>\n",
       "      <td>0.181818</td>\n",
       "      <td>0.150649</td>\n",
       "      <td>0.181818</td>\n",
       "      <td>0.140260</td>\n",
       "      <td>0.122078</td>\n",
       "      <td>0.153247</td>\n",
       "      <td>0.124675</td>\n",
       "      <td>0.142857</td>\n",
       "    </tr>\n",
       "    <tr>\n",
       "      <th>E</th>\n",
       "      <td>1.0</td>\n",
       "      <td>0.653580</td>\n",
       "      <td>0.260970</td>\n",
       "      <td>0.219400</td>\n",
       "      <td>0.200924</td>\n",
       "      <td>0.189376</td>\n",
       "      <td>0.191686</td>\n",
       "      <td>0.163972</td>\n",
       "      <td>0.161663</td>\n",
       "      <td>0.168591</td>\n",
       "      <td>0.193995</td>\n",
       "    </tr>\n",
       "  </tbody>\n",
       "</table>\n",
       "</div>"
      ],
      "text/plain": [
       "                  cohort_size         0         1         2         3  \\\n",
       "category_receipt                                                        \n",
       "A                         1.0  0.750999  0.187750  0.169108  0.141145   \n",
       "B                         1.0  0.508600  0.206388  0.171990  0.147420   \n",
       "C                         1.0  0.549696  0.212982  0.174442  0.186613   \n",
       "D                         1.0  0.462338  0.220779  0.181818  0.150649   \n",
       "E                         1.0  0.653580  0.260970  0.219400  0.200924   \n",
       "\n",
       "                         4         5         6         7         8         9  \n",
       "category_receipt                                                              \n",
       "A                 0.117177  0.083888  0.087883  0.098535  0.083888  0.074567  \n",
       "B                 0.142506  0.090909  0.113022  0.130221  0.105651  0.095823  \n",
       "C                 0.180527  0.129817  0.148073  0.137931  0.131846  0.119675  \n",
       "D                 0.181818  0.140260  0.122078  0.153247  0.124675  0.142857  \n",
       "E                 0.189376  0.191686  0.163972  0.161663  0.168591  0.193995  "
      ]
     },
     "execution_count": 86,
     "metadata": {},
     "output_type": "execute_result"
    }
   ],
   "source": [
    "pd.reset_option('display.float_format')\n",
    "retention_rate_receipt_march = retention_rate(orders_21, 'category_receipt', 3)\n",
    "retention_rate_receipt_march"
   ]
  },
  {
   "cell_type": "code",
   "execution_count": 87,
   "id": "ea0b3aa9",
   "metadata": {},
   "outputs": [
    {
     "data": {
      "image/png": "[encoded data removed]",
      "text/plain": [
       "<Figure size 1080x360 with 1 Axes>"
      ]
     },
     "metadata": {
      "needs_background": "light"
     },
     "output_type": "display_data"
    }
   ],
   "source": [
    "retention_rate_plot(retention_rate_receipt_march, 'в марте')"
   ]
  },
  {
   "cell_type": "markdown",
   "id": "26ee2f28",
   "metadata": {},
   "source": [
    "В мартовской когорте лучше остальных удерживаются пользователи **(E)**, которые покупают от 338766 до 746515, то есть выше среднего чека. \n",
    "\n",
    "К концу года второе место по удержанию занимает сегмент пользователей **(D)**, которые покупают от 255109 до 338766. Это так же выше среднего чека.\n",
    "\n",
    "Пользователи **(С)**, которые покупают продукты на сумму среднего чека +-10%, к концу года занимают 3-е место по удержанию. Но в начале своего лайфтайма удержание выше сегмента D. Этот сегмент пользователей является стабильным, так как в начале и в конце лайфтайма занимает 3е место среди остальных."
   ]
  },
  {
   "cell_type": "code",
   "execution_count": 88,
   "id": "50658956",
   "metadata": {},
   "outputs": [
    {
     "data": {
      "text/html": [
       "<div>\n",
       "<style scoped>\n",
       "    .dataframe tbody tr th:only-of-type {\n",
       "        vertical-align: middle;\n",
       "    }\n",
       "\n",
       "    .dataframe tbody tr th {\n",
       "        vertical-align: top;\n",
       "    }\n",
       "\n",
       "    .dataframe thead th {\n",
       "        text-align: right;\n",
       "    }\n",
       "</style>\n",
       "<table border=\"1\" class=\"dataframe\">\n",
       "  <thead>\n",
       "    <tr style=\"text-align: right;\">\n",
       "      <th></th>\n",
       "      <th>cohort_size</th>\n",
       "      <th>0</th>\n",
       "      <th>1</th>\n",
       "      <th>2</th>\n",
       "      <th>3</th>\n",
       "      <th>4</th>\n",
       "      <th>5</th>\n",
       "      <th>6</th>\n",
       "      <th>7</th>\n",
       "    </tr>\n",
       "    <tr>\n",
       "      <th>category_receipt</th>\n",
       "      <th></th>\n",
       "      <th></th>\n",
       "      <th></th>\n",
       "      <th></th>\n",
       "      <th></th>\n",
       "      <th></th>\n",
       "      <th></th>\n",
       "      <th></th>\n",
       "      <th></th>\n",
       "    </tr>\n",
       "  </thead>\n",
       "  <tbody>\n",
       "    <tr>\n",
       "      <th>A</th>\n",
       "      <td>1.0</td>\n",
       "      <td>0.815929</td>\n",
       "      <td>0.194690</td>\n",
       "      <td>0.166372</td>\n",
       "      <td>0.111504</td>\n",
       "      <td>0.129204</td>\n",
       "      <td>0.111504</td>\n",
       "      <td>0.086726</td>\n",
       "      <td>0.090265</td>\n",
       "    </tr>\n",
       "    <tr>\n",
       "      <th>B</th>\n",
       "      <td>1.0</td>\n",
       "      <td>0.529210</td>\n",
       "      <td>0.230241</td>\n",
       "      <td>0.195876</td>\n",
       "      <td>0.127148</td>\n",
       "      <td>0.175258</td>\n",
       "      <td>0.109966</td>\n",
       "      <td>0.113402</td>\n",
       "      <td>0.113402</td>\n",
       "    </tr>\n",
       "    <tr>\n",
       "      <th>C</th>\n",
       "      <td>1.0</td>\n",
       "      <td>0.583587</td>\n",
       "      <td>0.246201</td>\n",
       "      <td>0.252280</td>\n",
       "      <td>0.164134</td>\n",
       "      <td>0.148936</td>\n",
       "      <td>0.151976</td>\n",
       "      <td>0.164134</td>\n",
       "      <td>0.145897</td>\n",
       "    </tr>\n",
       "    <tr>\n",
       "      <th>D</th>\n",
       "      <td>1.0</td>\n",
       "      <td>0.470803</td>\n",
       "      <td>0.229927</td>\n",
       "      <td>0.222628</td>\n",
       "      <td>0.149635</td>\n",
       "      <td>0.171533</td>\n",
       "      <td>0.182482</td>\n",
       "      <td>0.145985</td>\n",
       "      <td>0.145985</td>\n",
       "    </tr>\n",
       "    <tr>\n",
       "      <th>E</th>\n",
       "      <td>1.0</td>\n",
       "      <td>0.650794</td>\n",
       "      <td>0.241270</td>\n",
       "      <td>0.228571</td>\n",
       "      <td>0.187302</td>\n",
       "      <td>0.187302</td>\n",
       "      <td>0.193651</td>\n",
       "      <td>0.161905</td>\n",
       "      <td>0.180952</td>\n",
       "    </tr>\n",
       "  </tbody>\n",
       "</table>\n",
       "</div>"
      ],
      "text/plain": [
       "                  cohort_size         0         1         2         3  \\\n",
       "category_receipt                                                        \n",
       "A                         1.0  0.815929  0.194690  0.166372  0.111504   \n",
       "B                         1.0  0.529210  0.230241  0.195876  0.127148   \n",
       "C                         1.0  0.583587  0.246201  0.252280  0.164134   \n",
       "D                         1.0  0.470803  0.229927  0.222628  0.149635   \n",
       "E                         1.0  0.650794  0.241270  0.228571  0.187302   \n",
       "\n",
       "                         4         5         6         7  \n",
       "category_receipt                                          \n",
       "A                 0.129204  0.111504  0.086726  0.090265  \n",
       "B                 0.175258  0.109966  0.113402  0.113402  \n",
       "C                 0.148936  0.151976  0.164134  0.145897  \n",
       "D                 0.171533  0.182482  0.145985  0.145985  \n",
       "E                 0.187302  0.193651  0.161905  0.180952  "
      ]
     },
     "execution_count": 88,
     "metadata": {},
     "output_type": "execute_result"
    }
   ],
   "source": [
    "retention_rate_receipt_may = retention_rate(orders_21, 'category_receipt', 5)\n",
    "retention_rate_receipt_may"
   ]
  },
  {
   "cell_type": "code",
   "execution_count": 89,
   "id": "cde638a0",
   "metadata": {},
   "outputs": [
    {
     "data": {
      "image/png": "[encoded data removed]",
      "text/plain": [
       "<Figure size 1080x360 with 1 Axes>"
      ]
     },
     "metadata": {
      "needs_background": "light"
     },
     "output_type": "display_data"
    }
   ],
   "source": [
    "retention_rate_plot(retention_rate_receipt_may, 'в мае')"
   ]
  },
  {
   "cell_type": "markdown",
   "id": "3a3a5d3e",
   "metadata": {},
   "source": [
    "В майской когорте лучше остальных удерживаются пользователи **(E)**, которые покупают от 338766 до 746515, то есть выше среднего чека. По сравннию с мартом, удержание ниже на 1 процентный пункт.\n",
    "\n",
    "К концу года второе место по удержанию занимает сегмент пользователей **(D)** и **(С)**. Которые покупают от 255109 до 338766 и от  176963 до 255109, соответственно. Это так же выше среднего чека.\n",
    "\n",
    "Пользователи **(D)** в начале лайфтайма располагаются на 5м месте по удержанию, но к концу поднимаются на 2е и последние 2 месяца выходят на плато."
   ]
  },
  {
   "cell_type": "code",
   "execution_count": 90,
   "id": "bd52a99e",
   "metadata": {},
   "outputs": [
    {
     "data": {
      "text/html": [
       "<div>\n",
       "<style scoped>\n",
       "    .dataframe tbody tr th:only-of-type {\n",
       "        vertical-align: middle;\n",
       "    }\n",
       "\n",
       "    .dataframe tbody tr th {\n",
       "        vertical-align: top;\n",
       "    }\n",
       "\n",
       "    .dataframe thead th {\n",
       "        text-align: right;\n",
       "    }\n",
       "</style>\n",
       "<table border=\"1\" class=\"dataframe\">\n",
       "  <thead>\n",
       "    <tr style=\"text-align: right;\">\n",
       "      <th></th>\n",
       "      <th>cohort_size</th>\n",
       "      <th>0</th>\n",
       "      <th>1</th>\n",
       "      <th>2</th>\n",
       "      <th>3</th>\n",
       "      <th>4</th>\n",
       "      <th>5</th>\n",
       "    </tr>\n",
       "    <tr>\n",
       "      <th>category_receipt</th>\n",
       "      <th></th>\n",
       "      <th></th>\n",
       "      <th></th>\n",
       "      <th></th>\n",
       "      <th></th>\n",
       "      <th></th>\n",
       "      <th></th>\n",
       "    </tr>\n",
       "  </thead>\n",
       "  <tbody>\n",
       "    <tr>\n",
       "      <th>A</th>\n",
       "      <td>1.0</td>\n",
       "      <td>0.829308</td>\n",
       "      <td>0.159420</td>\n",
       "      <td>0.141707</td>\n",
       "      <td>0.130435</td>\n",
       "      <td>0.098229</td>\n",
       "      <td>0.069243</td>\n",
       "    </tr>\n",
       "    <tr>\n",
       "      <th>B</th>\n",
       "      <td>1.0</td>\n",
       "      <td>0.672131</td>\n",
       "      <td>0.191257</td>\n",
       "      <td>0.158470</td>\n",
       "      <td>0.117486</td>\n",
       "      <td>0.136612</td>\n",
       "      <td>0.087432</td>\n",
       "    </tr>\n",
       "    <tr>\n",
       "      <th>C</th>\n",
       "      <td>1.0</td>\n",
       "      <td>0.667391</td>\n",
       "      <td>0.193478</td>\n",
       "      <td>0.204348</td>\n",
       "      <td>0.136957</td>\n",
       "      <td>0.128261</td>\n",
       "      <td>0.128261</td>\n",
       "    </tr>\n",
       "    <tr>\n",
       "      <th>D</th>\n",
       "      <td>1.0</td>\n",
       "      <td>0.620112</td>\n",
       "      <td>0.256983</td>\n",
       "      <td>0.178771</td>\n",
       "      <td>0.162011</td>\n",
       "      <td>0.111732</td>\n",
       "      <td>0.156425</td>\n",
       "    </tr>\n",
       "    <tr>\n",
       "      <th>E</th>\n",
       "      <td>1.0</td>\n",
       "      <td>0.741093</td>\n",
       "      <td>0.223278</td>\n",
       "      <td>0.204276</td>\n",
       "      <td>0.171021</td>\n",
       "      <td>0.147268</td>\n",
       "      <td>0.192399</td>\n",
       "    </tr>\n",
       "  </tbody>\n",
       "</table>\n",
       "</div>"
      ],
      "text/plain": [
       "                  cohort_size         0         1         2         3  \\\n",
       "category_receipt                                                        \n",
       "A                         1.0  0.829308  0.159420  0.141707  0.130435   \n",
       "B                         1.0  0.672131  0.191257  0.158470  0.117486   \n",
       "C                         1.0  0.667391  0.193478  0.204348  0.136957   \n",
       "D                         1.0  0.620112  0.256983  0.178771  0.162011   \n",
       "E                         1.0  0.741093  0.223278  0.204276  0.171021   \n",
       "\n",
       "                         4         5  \n",
       "category_receipt                      \n",
       "A                 0.098229  0.069243  \n",
       "B                 0.136612  0.087432  \n",
       "C                 0.128261  0.128261  \n",
       "D                 0.111732  0.156425  \n",
       "E                 0.147268  0.192399  "
      ]
     },
     "execution_count": 90,
     "metadata": {},
     "output_type": "execute_result"
    }
   ],
   "source": [
    "retention_rate_receipt_july = retention_rate(orders_21, 'category_receipt', 7)\n",
    "retention_rate_receipt_july"
   ]
  },
  {
   "cell_type": "code",
   "execution_count": 91,
   "id": "9b001b2d",
   "metadata": {},
   "outputs": [
    {
     "data": {
      "image/png": "[encoded data removed]",
      "text/plain": [
       "<Figure size 1080x360 with 1 Axes>"
      ]
     },
     "metadata": {
      "needs_background": "light"
     },
     "output_type": "display_data"
    }
   ],
   "source": [
    "retention_rate_plot(retention_rate_receipt_july, 'в июле')"
   ]
  },
  {
   "cell_type": "markdown",
   "id": "53dc6046",
   "metadata": {},
   "source": [
    "В июльской когорте лучше остальных удерживаются пользователи **(E)**, которые покупают от 338766 до 746515, то есть выше среднего чека. По сравнению с мартом, удержание ниже на 0,1 процентный пункт — такое же.\n",
    "\n",
    "К концу года второе место по удержанию занимает сегмент пользователй **(D)**, которые покупают от 255109 до 338766. Это так же выше среднего чека. Так же как и в майской когорте, эта категория стартует с 5го места.\n",
    "\n",
    "К концу года 3е место по удержанию  занимает сегмент пользователей **(С)**. которые покупают от 176963 до 255109. Это близко к среднему чеку +-10%. Этот сегмент выходит на плато с 3 месяца.\n"
   ]
  },
  {
   "cell_type": "markdown",
   "id": "d68cae6c",
   "metadata": {},
   "source": [
    "Проверим еще февральскую когорту, чтобы оценить поведение за весь год. Январь нам не подойдет, так как когорта больше остальных в 2 раза."
   ]
  },
  {
   "cell_type": "code",
   "execution_count": 92,
   "id": "c91735bd",
   "metadata": {},
   "outputs": [
    {
     "data": {
      "text/html": [
       "<div>\n",
       "<style scoped>\n",
       "    .dataframe tbody tr th:only-of-type {\n",
       "        vertical-align: middle;\n",
       "    }\n",
       "\n",
       "    .dataframe tbody tr th {\n",
       "        vertical-align: top;\n",
       "    }\n",
       "\n",
       "    .dataframe thead th {\n",
       "        text-align: right;\n",
       "    }\n",
       "</style>\n",
       "<table border=\"1\" class=\"dataframe\">\n",
       "  <thead>\n",
       "    <tr style=\"text-align: right;\">\n",
       "      <th></th>\n",
       "      <th>cohort_size</th>\n",
       "      <th>0</th>\n",
       "      <th>1</th>\n",
       "      <th>2</th>\n",
       "      <th>3</th>\n",
       "      <th>4</th>\n",
       "      <th>5</th>\n",
       "      <th>6</th>\n",
       "      <th>7</th>\n",
       "      <th>8</th>\n",
       "      <th>9</th>\n",
       "      <th>10</th>\n",
       "    </tr>\n",
       "    <tr>\n",
       "      <th>category_receipt</th>\n",
       "      <th></th>\n",
       "      <th></th>\n",
       "      <th></th>\n",
       "      <th></th>\n",
       "      <th></th>\n",
       "      <th></th>\n",
       "      <th></th>\n",
       "      <th></th>\n",
       "      <th></th>\n",
       "      <th></th>\n",
       "      <th></th>\n",
       "      <th></th>\n",
       "    </tr>\n",
       "  </thead>\n",
       "  <tbody>\n",
       "    <tr>\n",
       "      <th>A</th>\n",
       "      <td>1.0</td>\n",
       "      <td>0.686420</td>\n",
       "      <td>0.241975</td>\n",
       "      <td>0.201235</td>\n",
       "      <td>0.181481</td>\n",
       "      <td>0.167901</td>\n",
       "      <td>0.154321</td>\n",
       "      <td>0.119753</td>\n",
       "      <td>0.129630</td>\n",
       "      <td>0.132099</td>\n",
       "      <td>0.122222</td>\n",
       "      <td>0.108642</td>\n",
       "    </tr>\n",
       "    <tr>\n",
       "      <th>B</th>\n",
       "      <td>1.0</td>\n",
       "      <td>0.446043</td>\n",
       "      <td>0.237410</td>\n",
       "      <td>0.179856</td>\n",
       "      <td>0.179856</td>\n",
       "      <td>0.167266</td>\n",
       "      <td>0.154676</td>\n",
       "      <td>0.118705</td>\n",
       "      <td>0.151079</td>\n",
       "      <td>0.100719</td>\n",
       "      <td>0.097122</td>\n",
       "      <td>0.102518</td>\n",
       "    </tr>\n",
       "    <tr>\n",
       "      <th>C</th>\n",
       "      <td>1.0</td>\n",
       "      <td>0.471139</td>\n",
       "      <td>0.235569</td>\n",
       "      <td>0.182527</td>\n",
       "      <td>0.195008</td>\n",
       "      <td>0.190328</td>\n",
       "      <td>0.190328</td>\n",
       "      <td>0.110764</td>\n",
       "      <td>0.156006</td>\n",
       "      <td>0.149766</td>\n",
       "      <td>0.124805</td>\n",
       "      <td>0.145086</td>\n",
       "    </tr>\n",
       "    <tr>\n",
       "      <th>D</th>\n",
       "      <td>1.0</td>\n",
       "      <td>0.407480</td>\n",
       "      <td>0.263780</td>\n",
       "      <td>0.210630</td>\n",
       "      <td>0.192913</td>\n",
       "      <td>0.173228</td>\n",
       "      <td>0.183071</td>\n",
       "      <td>0.137795</td>\n",
       "      <td>0.143701</td>\n",
       "      <td>0.125984</td>\n",
       "      <td>0.155512</td>\n",
       "      <td>0.143701</td>\n",
       "    </tr>\n",
       "    <tr>\n",
       "      <th>E</th>\n",
       "      <td>1.0</td>\n",
       "      <td>0.603200</td>\n",
       "      <td>0.297600</td>\n",
       "      <td>0.264000</td>\n",
       "      <td>0.235200</td>\n",
       "      <td>0.198400</td>\n",
       "      <td>0.204800</td>\n",
       "      <td>0.182400</td>\n",
       "      <td>0.187200</td>\n",
       "      <td>0.211200</td>\n",
       "      <td>0.190400</td>\n",
       "      <td>0.224000</td>\n",
       "    </tr>\n",
       "  </tbody>\n",
       "</table>\n",
       "</div>"
      ],
      "text/plain": [
       "                  cohort_size         0         1         2         3  \\\n",
       "category_receipt                                                        \n",
       "A                         1.0  0.686420  0.241975  0.201235  0.181481   \n",
       "B                         1.0  0.446043  0.237410  0.179856  0.179856   \n",
       "C                         1.0  0.471139  0.235569  0.182527  0.195008   \n",
       "D                         1.0  0.407480  0.263780  0.210630  0.192913   \n",
       "E                         1.0  0.603200  0.297600  0.264000  0.235200   \n",
       "\n",
       "                         4         5         6         7         8         9  \\\n",
       "category_receipt                                                               \n",
       "A                 0.167901  0.154321  0.119753  0.129630  0.132099  0.122222   \n",
       "B                 0.167266  0.154676  0.118705  0.151079  0.100719  0.097122   \n",
       "C                 0.190328  0.190328  0.110764  0.156006  0.149766  0.124805   \n",
       "D                 0.173228  0.183071  0.137795  0.143701  0.125984  0.155512   \n",
       "E                 0.198400  0.204800  0.182400  0.187200  0.211200  0.190400   \n",
       "\n",
       "                        10  \n",
       "category_receipt            \n",
       "A                 0.108642  \n",
       "B                 0.102518  \n",
       "C                 0.145086  \n",
       "D                 0.143701  \n",
       "E                 0.224000  "
      ]
     },
     "execution_count": 92,
     "metadata": {},
     "output_type": "execute_result"
    }
   ],
   "source": [
    "retention_rate_receipt_february = retention_rate(orders_21, 'category_receipt', 2)\n",
    "retention_rate_receipt_february"
   ]
  },
  {
   "cell_type": "code",
   "execution_count": 93,
   "id": "11b8eaca",
   "metadata": {},
   "outputs": [
    {
     "data": {
      "image/png": "[encoded data removed]",
      "text/plain": [
       "<Figure size 1080x360 with 1 Axes>"
      ]
     },
     "metadata": {
      "needs_background": "light"
     },
     "output_type": "display_data"
    }
   ],
   "source": [
    "retention_rate_plot(retention_rate_receipt_february, 'в феврале')"
   ]
  },
  {
   "cell_type": "markdown",
   "id": "7b951adf",
   "metadata": {},
   "source": [
    "К концу года стальбино лучше всех сегмент **E**.\n",
    "\n",
    "Сегмент **D** так же оказывается на втором месте. А сегмент **C** тоже занимает второе местно, но отличается от сегмента D, тем что его удержание менее плавное, есть резкие спады."
   ]
  },
  {
   "cell_type": "markdown",
   "id": "7f1b3c96",
   "metadata": {},
   "source": [
    "**Вывод**\n",
    "\n",
    "Чем выше стоимость заказа, тем лучше удержание. Пользователи которые заказывают на сумму среднего чека и выше остаются лояльными сервису.\n",
    "\n"
   ]
  },
  {
   "cell_type": "markdown",
   "id": "930fde4a",
   "metadata": {},
   "source": [
    "## Общий вывод и рекомендации "
   ]
  },
  {
   "cell_type": "markdown",
   "id": "d77fd933",
   "metadata": {},
   "source": [
    "Много пропусков в столбце в оценками заказа — 77%. Вопрос, **почему люди не ставят оценки для дальнейшего глубокого анализа?** Когда пользователь оценивает опыт взаимодействия, у него формируется лояльность к продукту.\n",
    "\n",
    "Самая большая когорта - январская. Лучше всего удерживаются пользователи этой когорты. Необходимо проанализировать маркетинговые актвности за этот месяц, что бы понять что спобособствовало приходу такого количества пользователей.\n",
    "**Возможные** причины высокого удержания:\n",
    "- высокий сервис обслуживания в первые дни нового года, который усиливает человеческий фактор (жить с комфортом).\n",
    "- вероятно пользователи получили бонусы за использование приложения в январе, что позволило усилить лояльность в течние года.\n",
    "- горизон анализа полный год, а значит, пользователи попали под все маркетинговые активности, что так же повлияло на их лояльность.\n",
    "\n",
    "На второй месяц использования мартовская когорта является 3-й по удержанию (31.02%), а к концу года 5-й. К концу года всего 16,55% пользователей остались пользовователями приложения.\n",
    " \n",
    "На второй месяц использования майская когорта является 6-й по удержанию(27,46%), а к концу года 8-й. Количество пользователей сокращается равномернее, чем в марте. К концу года 15,27% пользователей продолжают использовать приложение.\n",
    "\n",
    "Пользователи, пришедшие в июле имеют один из самых низкий процентов удержания среди остальных когорт. На второй месяц 24,62%, на последний 14,82% - ниже только у июньской когорты.\n",
    "\n",
    "В целом под гонец года активность падает. Помесячные показатели удержания с марта по ноябрь отличаются друг от друга: от 1,5 до 5 процентных пунктов. В сравнении с этим январь и февраль почти в 2 раза выше.Вероятно это связано с количеством пользователей, которое вначале года было больше.\n",
    "\n",
    "**Что проанализировать отдельно:**\n",
    " - воронку пользователей в приложении: барьеры в покупке, сложность интерфейса, взаимосвязь с качетсвом заказов.\n",
    "- маркетинговые активности: \n",
    "    - Почему вначале года пришло почти в 5 раз больше пользователей, чем в конце?\n",
    "    - С чем связано падение новых пользователей в мае и с августа по декабрь?\n",
    "    \n",
    "В филиале **Буденкор** чеки выше, чем в других филиаланах в 75%. **Необходимо проанализировать аудиторию пользователей** этого филиала: что заказывают, как часто и тд.\n",
    "\n",
    "Заказы, которые доставляют в \n",
    "\n",
    "Пользователи, которые заказывают в районе 17 часов, выбирают продукты в примерно одинаковую стоимость. Возможно заказывают на ужин.\n",
    "\n",
    "Пользователи, которые заказывают вечером в 22/23 часа, собирают заказы подороже. Вероятно продукты на завтрак, обед и ужин.\n",
    "\n",
    "В Бектемирском районе стоимость заказов выше, чем в других районах. **Необходимо проанализировать аудиторию пользователей** этого района: что заказывают, как часто и тд.\n",
    "\n",
    "\n",
    "Пользователи были разделены на 5 сегментов по стоимости заказов:\n",
    "- А - заказы стоимостью меньше 133909 сумов\n",
    "- B - заказы стоимостью меньше 176963 сумов\n",
    "- C - заказы стоимостью меньше 255109 сумов\n",
    "- D - заказы стоимостью меньше 338766 сумов\n",
    "- E - заказы стоимостью меньше 746515 сумов\n",
    "\n",
    "Лучше остальных удерживается сегмент Е.\n",
    "Далее идут D и С. \n",
    "\n",
    "Сегмент С более стабильный, так как у него соотношение удержания к другим сегментам в основном сохраняется. \n",
    "\n",
    "Таким образом, чем выше стоимость заказа, тем выше удержание пользователей.\n",
    "\n",
    "Основой сегмент Е, дополнительные D,C.\n",
    "\n",
    "**Рекомендации:**\n",
    "1. Возможно пользователям не хватает стимуляции: пуши с **акционными предложениями только в приложении.** \n",
    "2. Можно возвращать пользователей за счет геймефикации, например, получи бонус дня или собери фишки.\n",
    "3. Думать каждый день, что приготовить — самая большая морока при заказе продуктов. В приложении на главной можно добавить рецепты блюд. А ингредиенты использовать для продвижения акций на товары. Это позволит простимулировать пользователей купить продукты и упростить себе жизнь — позитивный опыт взаимодействия.\n",
    "4. Повышать средний чек. Можно вводить акции на 1+1 со скидкой. Ввести бонусы за определнную сумму заказа: подарок или бесплатная доставка, например.\n",
    "5. Для стимулирования оценок и отзывов при сборе заказа можно класть флаер с напоминанием о том, что сервису важна обратная связь и сразу QR-код на этот раздел в приложении.\n"
   ]
  },
  {
   "cell_type": "markdown",
   "id": "0549c98f",
   "metadata": {},
   "source": [
    "Презентация: <https://disk.yandex.ru/i/eCSwDkpnci_qrQ>"
   ]
  },
  {
   "cell_type": "code",
   "execution_count": null,
   "id": "ba937349",
   "metadata": {},
   "outputs": [],
   "source": []
  }
 ],
 "metadata": {
  "kernelspec": {
   "display_name": "Python 3 (ipykernel)",
   "language": "python",
   "name": "python3"
  },
  "language_info": {
   "codemirror_mode": {
    "name": "ipython",
    "version": 3
   },
   "file_extension": ".py",
   "mimetype": "text/x-python",
   "name": "python",
   "nbconvert_exporter": "python",
   "pygments_lexer": "ipython3",
   "version": "3.9.12"
  },
  "toc": {
   "base_numbering": 1,
   "nav_menu": {},
   "number_sections": true,
   "sideBar": true,
   "skip_h1_title": true,
   "title_cell": "Оглавление",
   "title_sidebar": "Contents",
   "toc_cell": true,
   "toc_position": {
    "height": "calc(100% - 180px)",
    "left": "10px",
    "top": "150px",
    "width": "224.59375px"
   },
   "toc_section_display": true,
   "toc_window_display": false
  }
 },
 "nbformat": 4,
 "nbformat_minor": 5
}
